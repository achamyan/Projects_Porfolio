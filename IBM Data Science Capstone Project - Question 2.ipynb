{
    "cells": [
        {
            "cell_type": "markdown",
            "metadata": {
                "collapsed": true
            },
            "source": "# IBM Data Science and Machine Learning Capstone Project\n# Question 2\n# What Areas Should the Agency Focus On?\nShould the Department of Housing Preservation and Development of New York City focus on any particular set of boroughs, ZIP codes, or street (where the complaints are severe) for the specific type of complaints you identified in response to Question 1?"
        },
        {
            "cell_type": "code",
            "execution_count": 3,
            "metadata": {},
            "outputs": [],
            "source": "#Bucket and Credentials\n\n#import types\nimport pandas as pd\nimport numpy as np\nfrom botocore.client import Config\nimport ibm_boto3\n#def __iter__(self): return 0\n\nclient_cred = ibm_boto3.client(service_name='s3',\nibm_api_key_id='rA-GmnuRkJ81A9EsDqha63ZmdFzQjxwCEgASTF2F-OJr',\nibm_auth_endpoint='https://iam.cloud.ibm.com/oidc/token',\nconfig=Config(signature_version='oauth'),\nendpoint_url='https://s3-api.us-geo.objectstorage.service.networklayer.com')\n\nbucket = 'ibmdatascienceandmachinelearningc-donotdelete-pr-bkscl1den6u69w'"
        },
        {
            "cell_type": "code",
            "execution_count": 4,
            "metadata": {},
            "outputs": [],
            "source": "#Download NYC 311 Calls Dataset\nclient_cred.download_file(Bucket=bucket, Key='df_raw_cos.pkl', Filename='./df_raw_local.pkl')\ndf = pd.read_pickle('./df_raw_local.pkl')"
        },
        {
            "cell_type": "markdown",
            "metadata": {},
            "source": "# Quiz on Affected Areas"
        },
        {
            "cell_type": "code",
            "execution_count": 21,
            "metadata": {},
            "outputs": [
                {
                    "data": {
                        "text/html": "<div>\n<style scoped>\n    .dataframe tbody tr th:only-of-type {\n        vertical-align: middle;\n    }\n\n    .dataframe tbody tr th {\n        vertical-align: top;\n    }\n\n    .dataframe thead th {\n        text-align: right;\n    }\n</style>\n<table border=\"1\" class=\"dataframe\">\n  <thead>\n    <tr style=\"text-align: right;\">\n      <th></th>\n      <th>#Hot Water complaints</th>\n      <th>#Heating complaints</th>\n    </tr>\n    <tr>\n      <th>borough</th>\n      <th></th>\n      <th></th>\n    </tr>\n  </thead>\n  <tbody>\n    <tr>\n      <th>BRONX</th>\n      <td>431906</td>\n      <td>195284</td>\n    </tr>\n    <tr>\n      <th>BROOKLYN</th>\n      <td>399663</td>\n      <td>190325</td>\n    </tr>\n    <tr>\n      <th>MANHATTAN</th>\n      <td>298182</td>\n      <td>137525</td>\n    </tr>\n    <tr>\n      <th>QUEENS</th>\n      <td>175125</td>\n      <td>75804</td>\n    </tr>\n    <tr>\n      <th>STATEN ISLAND</th>\n      <td>12822</td>\n      <td>6015</td>\n    </tr>\n    <tr>\n      <th>Unspecified</th>\n      <td>1</td>\n      <td>282916</td>\n    </tr>\n  </tbody>\n</table>\n</div>",
                        "text/plain": "               #Hot Water complaints  #Heating complaints\nborough                                                  \nBRONX                         431906               195284\nBROOKLYN                      399663               190325\nMANHATTAN                     298182               137525\nQUEENS                        175125                75804\nSTATEN ISLAND                  12822                 6015\nUnspecified                        1               282916"
                    },
                    "metadata": {},
                    "output_type": "display_data"
                },
                {
                    "data": {
                        "text/html": "<div>\n<style scoped>\n    .dataframe tbody tr th:only-of-type {\n        vertical-align: middle;\n    }\n\n    .dataframe tbody tr th {\n        vertical-align: top;\n    }\n\n    .dataframe thead th {\n        text-align: right;\n    }\n</style>\n<table border=\"1\" class=\"dataframe\">\n  <thead>\n    <tr style=\"text-align: right;\">\n      <th></th>\n      <th>#Hot Water complaints</th>\n      <th>#Heating complaints</th>\n    </tr>\n    <tr>\n      <th>borough</th>\n      <th></th>\n      <th></th>\n    </tr>\n  </thead>\n  <tbody>\n    <tr>\n      <th>BRONX</th>\n      <td>1.966637</td>\n      <td>0.889205</td>\n    </tr>\n    <tr>\n      <th>BROOKLYN</th>\n      <td>1.819822</td>\n      <td>0.866624</td>\n    </tr>\n    <tr>\n      <th>MANHATTAN</th>\n      <td>1.357740</td>\n      <td>0.626205</td>\n    </tr>\n    <tr>\n      <th>QUEENS</th>\n      <td>0.797413</td>\n      <td>0.345165</td>\n    </tr>\n    <tr>\n      <th>STATEN ISLAND</th>\n      <td>0.058384</td>\n      <td>0.027389</td>\n    </tr>\n  </tbody>\n</table>\n</div>",
                        "text/plain": "               #Hot Water complaints  #Heating complaints\nborough                                                  \nBRONX                       1.966637             0.889205\nBROOKLYN                    1.819822             0.866624\nMANHATTAN                   1.357740             0.626205\nQUEENS                      0.797413             0.345165\nSTATEN ISLAND               0.058384             0.027389"
                    },
                    "metadata": {},
                    "output_type": "display_data"
                },
                {
                    "name": "stdout",
                    "output_type": "stream",
                    "text": "Boroughs: 6\n"
                },
                {
                    "data": {
                        "text/html": "<div>\n<style scoped>\n    .dataframe tbody tr th:only-of-type {\n        vertical-align: middle;\n    }\n\n    .dataframe tbody tr th {\n        vertical-align: top;\n    }\n\n    .dataframe thead th {\n        text-align: right;\n    }\n</style>\n<table border=\"1\" class=\"dataframe\">\n  <thead>\n    <tr style=\"text-align: right;\">\n      <th></th>\n      <th>#Hot Water complaints</th>\n      <th>#Heating complaints</th>\n    </tr>\n  </thead>\n  <tbody>\n    <tr>\n      <th>BRONX</th>\n      <td>0.327773</td>\n      <td>0.219947</td>\n    </tr>\n    <tr>\n      <th>BROOKLYN</th>\n      <td>0.303304</td>\n      <td>0.214362</td>\n    </tr>\n    <tr>\n      <th>MANHATTAN</th>\n      <td>0.226290</td>\n      <td>0.154893</td>\n    </tr>\n    <tr>\n      <th>QUEENS</th>\n      <td>0.132902</td>\n      <td>0.085377</td>\n    </tr>\n    <tr>\n      <th>STATEN ISLAND</th>\n      <td>0.009731</td>\n      <td>0.006775</td>\n    </tr>\n    <tr>\n      <th>Unspecified</th>\n      <td>0.000001</td>\n      <td>0.318646</td>\n    </tr>\n  </tbody>\n</table>\n</div>",
                        "text/plain": "               #Hot Water complaints  #Heating complaints\nBRONX                       0.327773             0.219947\nBROOKLYN                    0.303304             0.214362\nMANHATTAN                   0.226290             0.154893\nQUEENS                      0.132902             0.085377\nSTATEN ISLAND               0.009731             0.006775\nUnspecified                 0.000001             0.318646"
                    },
                    "execution_count": 21,
                    "metadata": {},
                    "output_type": "execute_result"
                }
            ],
            "source": "# Question 1: For the complaint types that you selected in the previous module that had at least 80,000 complaints logged, \n#which borough had the highest number of complaints submitted?\n\nS1 = df[df[\"complaint_type\"] == \"HEAT/HOT WATER\"].groupby(\"borough\")[\"created_date\"].count()\nS2 = df[df[\"complaint_type\"] == \"HEATING\"].groupby(\"borough\")[\"created_date\"].count()\ndf_aux = pd.DataFrame({\"#Hot Water complaints\": S1, \"#Heating complaints\": S2})\ndisplay(df_aux)\n\n# Boroughs normalized (custom normalization)\ncalls_borough = df_aux * len(df_aux) / df_aux[\"#Hot Water complaints\"].sum()\ndisplay(calls_borough.sort_values(\"#Hot Water complaints\", ascending=False).head())\nprint(\"Boroughs:\", len(calls_borough))\n\n# Boroughs normalized\nS1_norm = df[df[\"complaint_type\"] == \"HEAT/HOT WATER\"][\"borough\"].value_counts(normalize = True)\nS2_norm = df[df[\"complaint_type\"] == \"HEATING\"][\"borough\"].value_counts(normalize = True)\ndf_norm = pd.DataFrame({\"#Hot Water complaints\": S1_norm, \"#Heating complaints\": S2_norm})\ndf_norm.round(6)"
        },
        {
            "cell_type": "code",
            "execution_count": 22,
            "metadata": {},
            "outputs": [
                {
                    "data": {
                        "text/html": "<div>\n<style scoped>\n    .dataframe tbody tr th:only-of-type {\n        vertical-align: middle;\n    }\n\n    .dataframe tbody tr th {\n        vertical-align: top;\n    }\n\n    .dataframe thead th {\n        text-align: right;\n    }\n</style>\n<table border=\"1\" class=\"dataframe\">\n  <thead>\n    <tr style=\"text-align: right;\">\n      <th></th>\n      <th>#Hot Water complaints</th>\n      <th>#Heating complaints</th>\n    </tr>\n    <tr>\n      <th>borough</th>\n      <th></th>\n      <th></th>\n    </tr>\n  </thead>\n  <tbody>\n    <tr>\n      <th>Unspecified</th>\n      <td>1</td>\n      <td>282916</td>\n    </tr>\n    <tr>\n      <th>STATEN ISLAND</th>\n      <td>12822</td>\n      <td>6015</td>\n    </tr>\n    <tr>\n      <th>QUEENS</th>\n      <td>175125</td>\n      <td>75804</td>\n    </tr>\n    <tr>\n      <th>MANHATTAN</th>\n      <td>298182</td>\n      <td>137525</td>\n    </tr>\n    <tr>\n      <th>BROOKLYN</th>\n      <td>399663</td>\n      <td>190325</td>\n    </tr>\n    <tr>\n      <th>BRONX</th>\n      <td>431906</td>\n      <td>195284</td>\n    </tr>\n  </tbody>\n</table>\n</div>",
                        "text/plain": "               #Hot Water complaints  #Heating complaints\nborough                                                  \nUnspecified                        1               282916\nSTATEN ISLAND                  12822                 6015\nQUEENS                        175125                75804\nMANHATTAN                     298182               137525\nBROOKLYN                      399663               190325\nBRONX                         431906               195284"
                    },
                    "execution_count": 22,
                    "metadata": {},
                    "output_type": "execute_result"
                }
            ],
            "source": "# Question2: For the complaint types that you selected in the previous module that had a total number that exceeded 80,000 complaints, \n# which borough had the lowest number of complaints submitted?\n\nS1 = df[df[\"complaint_type\"] == \"HEAT/HOT WATER\"].groupby(\"borough\")[\"created_date\"].count()\nS2 = df[df[\"complaint_type\"] == \"HEATING\"].groupby(\"borough\")[\"created_date\"].count()\npd.DataFrame({\"#Hot Water complaints\": S1, \"#Heating complaints\": S2}).sort_values(\"#Hot Water complaints\")"
        },
        {
            "cell_type": "code",
            "execution_count": 23,
            "metadata": {},
            "outputs": [
                {
                    "data": {
                        "text/html": "<div>\n<style scoped>\n    .dataframe tbody tr th:only-of-type {\n        vertical-align: middle;\n    }\n\n    .dataframe tbody tr th {\n        vertical-align: top;\n    }\n\n    .dataframe thead th {\n        text-align: right;\n    }\n</style>\n<table border=\"1\" class=\"dataframe\">\n  <thead>\n    <tr style=\"text-align: right;\">\n      <th></th>\n      <th>#Hot Water complaints</th>\n      <th>#Heating complaints</th>\n    </tr>\n    <tr>\n      <th>incident_zip</th>\n      <th></th>\n      <th></th>\n    </tr>\n  </thead>\n  <tbody>\n    <tr>\n      <th>11226.0</th>\n      <td>43596.0</td>\n      <td>27255.0</td>\n    </tr>\n    <tr>\n      <th>10458.0</th>\n      <td>40488.0</td>\n      <td>26508.0</td>\n    </tr>\n    <tr>\n      <th>10467.0</th>\n      <td>39757.0</td>\n      <td>27963.0</td>\n    </tr>\n    <tr>\n      <th>10468.0</th>\n      <td>36018.0</td>\n      <td>23683.0</td>\n    </tr>\n    <tr>\n      <th>10453.0</th>\n      <td>35648.0</td>\n      <td>23577.0</td>\n    </tr>\n  </tbody>\n</table>\n</div>",
                        "text/plain": "              #Hot Water complaints  #Heating complaints\nincident_zip                                            \n11226.0                     43596.0              27255.0\n10458.0                     40488.0              26508.0\n10467.0                     39757.0              27963.0\n10468.0                     36018.0              23683.0\n10453.0                     35648.0              23577.0"
                    },
                    "metadata": {},
                    "output_type": "display_data"
                },
                {
                    "data": {
                        "text/html": "<div>\n<style scoped>\n    .dataframe tbody tr th:only-of-type {\n        vertical-align: middle;\n    }\n\n    .dataframe tbody tr th {\n        vertical-align: top;\n    }\n\n    .dataframe thead th {\n        text-align: right;\n    }\n</style>\n<table border=\"1\" class=\"dataframe\">\n  <thead>\n    <tr style=\"text-align: right;\">\n      <th></th>\n      <th>#Hot Water complaints</th>\n      <th>#Heating complaints</th>\n    </tr>\n    <tr>\n      <th>incident_zip</th>\n      <th></th>\n      <th></th>\n    </tr>\n  </thead>\n  <tbody>\n    <tr>\n      <th>11226.0</th>\n      <td>6.420109</td>\n      <td>4.013673</td>\n    </tr>\n    <tr>\n      <th>10458.0</th>\n      <td>5.962413</td>\n      <td>3.903667</td>\n    </tr>\n    <tr>\n      <th>10467.0</th>\n      <td>5.854764</td>\n      <td>4.117935</td>\n    </tr>\n    <tr>\n      <th>10468.0</th>\n      <td>5.304145</td>\n      <td>3.487647</td>\n    </tr>\n    <tr>\n      <th>10453.0</th>\n      <td>5.249657</td>\n      <td>3.472037</td>\n    </tr>\n  </tbody>\n</table>\n</div>",
                        "text/plain": "              #Hot Water complaints  #Heating complaints\nincident_zip                                            \n11226.0                    6.420109             4.013673\n10458.0                    5.962413             3.903667\n10467.0                    5.854764             4.117935\n10468.0                    5.304145             3.487647\n10453.0                    5.249657             3.472037"
                    },
                    "metadata": {},
                    "output_type": "display_data"
                },
                {
                    "name": "stdout",
                    "output_type": "stream",
                    "text": "#Zips: 193\n"
                },
                {
                    "data": {
                        "text/html": "<div>\n<style scoped>\n    .dataframe tbody tr th:only-of-type {\n        vertical-align: middle;\n    }\n\n    .dataframe tbody tr th {\n        vertical-align: top;\n    }\n\n    .dataframe thead th {\n        text-align: right;\n    }\n</style>\n<table border=\"1\" class=\"dataframe\">\n  <thead>\n    <tr style=\"text-align: right;\">\n      <th></th>\n      <th>#Hot Water complaints</th>\n      <th>#Heating complaints</th>\n    </tr>\n  </thead>\n  <tbody>\n    <tr>\n      <th>11226.0</th>\n      <td>0.033265</td>\n      <td>0.031114</td>\n    </tr>\n    <tr>\n      <th>10458.0</th>\n      <td>0.030893</td>\n      <td>0.030262</td>\n    </tr>\n    <tr>\n      <th>10467.0</th>\n      <td>0.030336</td>\n      <td>0.031923</td>\n    </tr>\n    <tr>\n      <th>10468.0</th>\n      <td>0.027483</td>\n      <td>0.027037</td>\n    </tr>\n    <tr>\n      <th>10453.0</th>\n      <td>0.027200</td>\n      <td>0.026916</td>\n    </tr>\n  </tbody>\n</table>\n</div>",
                        "text/plain": "         #Hot Water complaints  #Heating complaints\n11226.0               0.033265             0.031114\n10458.0               0.030893             0.030262\n10467.0               0.030336             0.031923\n10468.0               0.027483             0.027037\n10453.0               0.027200             0.026916"
                    },
                    "execution_count": 23,
                    "metadata": {},
                    "output_type": "execute_result"
                }
            ],
            "source": "# Question 3: For the complaint types that you selected in the previous module that had at least 80,000 complaints logged,\n# which ZIP code had the highest number of complainted submitted?\n\nS1 = df[df[\"complaint_type\"] == \"HEAT/HOT WATER\"].groupby(\"incident_zip\")[\"created_date\"].count()\nS2 = df[df[\"complaint_type\"] == \"HEATING\"].groupby(\"incident_zip\")[\"created_date\"].count()\ndisplay(pd.DataFrame({\"#Hot Water complaints\": S1, \"#Heating complaints\": S2}).sort_values(\"#Hot Water complaints\", ascending=False).head())\n\n#zips normalized (custom normalization)\ncalls_zip = pd.DataFrame({\"#Hot Water complaints\": S1, \"#Heating complaints\": S2})\ncalls_zip = calls_zip * len(calls_zip) / calls_zip[\"#Hot Water complaints\"].sum()\ndisplay(calls_zip.sort_values(\"#Hot Water complaints\", ascending=False).head())\nprint(\"#Zips:\", len(calls_zip))\n\n# Zips normalized\nS1_norm = df[df[\"complaint_type\"] == \"HEAT/HOT WATER\"][\"incident_zip\"].value_counts(normalize=True)\nS2_norm = df[df[\"complaint_type\"] == \"HEATING\"][\"incident_zip\"].value_counts(normalize=True)\ndf_norm = pd.DataFrame({\"#Hot Water complaints\": S1_norm, \"#Heating complaints\": S2_norm})\ndf_norm.sort_values(\"#Hot Water complaints\", ascending=False).head()"
        },
        {
            "cell_type": "code",
            "execution_count": 24,
            "metadata": {},
            "outputs": [
                {
                    "data": {
                        "text/html": "<div>\n<style scoped>\n    .dataframe tbody tr th:only-of-type {\n        vertical-align: middle;\n    }\n\n    .dataframe tbody tr th {\n        vertical-align: top;\n    }\n\n    .dataframe thead th {\n        text-align: right;\n    }\n</style>\n<table border=\"1\" class=\"dataframe\">\n  <thead>\n    <tr style=\"text-align: right;\">\n      <th></th>\n      <th>#Hot Water complaints</th>\n      <th>#Heating complaints</th>\n    </tr>\n  </thead>\n  <tbody>\n    <tr>\n      <th>GRAND CONCOURSE</th>\n      <td>23316.0</td>\n      <td>15576.0</td>\n    </tr>\n    <tr>\n      <th>BROADWAY</th>\n      <td>15883.0</td>\n      <td>9116.0</td>\n    </tr>\n    <tr>\n      <th>ELMHURST AVENUE</th>\n      <td>12206.0</td>\n      <td>1033.0</td>\n    </tr>\n    <tr>\n      <th>OCEAN AVENUE</th>\n      <td>10609.0</td>\n      <td>8606.0</td>\n    </tr>\n    <tr>\n      <th>MORRIS AVENUE</th>\n      <td>9957.0</td>\n      <td>6682.0</td>\n    </tr>\n  </tbody>\n</table>\n</div>",
                        "text/plain": "                 #Hot Water complaints  #Heating complaints\nGRAND CONCOURSE                23316.0              15576.0\nBROADWAY                       15883.0               9116.0\nELMHURST AVENUE                12206.0               1033.0\nOCEAN AVENUE                   10609.0               8606.0\nMORRIS AVENUE                   9957.0               6682.0"
                    },
                    "metadata": {},
                    "output_type": "display_data"
                },
                {
                    "data": {
                        "text/html": "<div>\n<style scoped>\n    .dataframe tbody tr th:only-of-type {\n        vertical-align: middle;\n    }\n\n    .dataframe tbody tr th {\n        vertical-align: top;\n    }\n\n    .dataframe thead th {\n        text-align: right;\n    }\n</style>\n<table border=\"1\" class=\"dataframe\">\n  <thead>\n    <tr style=\"text-align: right;\">\n      <th></th>\n      <th>#Hot Water complaints</th>\n      <th>#Heating complaints</th>\n    </tr>\n  </thead>\n  <tbody>\n    <tr>\n      <th>GRAND CONCOURSE</th>\n      <td>107.157777</td>\n      <td>71.585587</td>\n    </tr>\n    <tr>\n      <th>BROADWAY</th>\n      <td>72.996525</td>\n      <td>41.896136</td>\n    </tr>\n    <tr>\n      <th>ELMHURST AVENUE</th>\n      <td>56.097437</td>\n      <td>4.747555</td>\n    </tr>\n    <tr>\n      <th>OCEAN AVENUE</th>\n      <td>48.757800</td>\n      <td>39.552232</td>\n    </tr>\n    <tr>\n      <th>MORRIS AVENUE</th>\n      <td>45.761279</td>\n      <td>30.709739</td>\n    </tr>\n  </tbody>\n</table>\n</div>",
                        "text/plain": "                 #Hot Water complaints  #Heating complaints\nGRAND CONCOURSE             107.157777            71.585587\nBROADWAY                     72.996525            41.896136\nELMHURST AVENUE              56.097437             4.747555\nOCEAN AVENUE                 48.757800            39.552232\nMORRIS AVENUE                45.761279            30.709739"
                    },
                    "metadata": {},
                    "output_type": "display_data"
                },
                {
                    "name": "stdout",
                    "output_type": "stream",
                    "text": "#Streets: 6056\n"
                },
                {
                    "data": {
                        "text/html": "<div>\n<style scoped>\n    .dataframe tbody tr th:only-of-type {\n        vertical-align: middle;\n    }\n\n    .dataframe tbody tr th {\n        vertical-align: top;\n    }\n\n    .dataframe thead th {\n        text-align: right;\n    }\n</style>\n<table border=\"1\" class=\"dataframe\">\n  <thead>\n    <tr style=\"text-align: right;\">\n      <th></th>\n      <th>#Hot Water complaints</th>\n      <th>#Heating complaints</th>\n    </tr>\n  </thead>\n  <tbody>\n    <tr>\n      <th>GRAND CONCOURSE</th>\n      <td>0.017694</td>\n      <td>0.017543</td>\n    </tr>\n    <tr>\n      <th>BROADWAY</th>\n      <td>0.012054</td>\n      <td>0.010267</td>\n    </tr>\n    <tr>\n      <th>ELMHURST AVENUE</th>\n      <td>0.009263</td>\n      <td>0.001163</td>\n    </tr>\n    <tr>\n      <th>OCEAN AVENUE</th>\n      <td>0.008051</td>\n      <td>0.009693</td>\n    </tr>\n    <tr>\n      <th>MORRIS AVENUE</th>\n      <td>0.007556</td>\n      <td>0.007526</td>\n    </tr>\n  </tbody>\n</table>\n</div>",
                        "text/plain": "                 #Hot Water complaints  #Heating complaints\nGRAND CONCOURSE               0.017694             0.017543\nBROADWAY                      0.012054             0.010267\nELMHURST AVENUE               0.009263             0.001163\nOCEAN AVENUE                  0.008051             0.009693\nMORRIS AVENUE                 0.007556             0.007526"
                    },
                    "execution_count": 24,
                    "metadata": {},
                    "output_type": "execute_result"
                }
            ],
            "source": "# Question 4: For the complaint types that you selected in the previous module that had at least 80,000 complaints logged,\n# the address 89-21 Elmhurst Avenue had the highest number of complainted submitted?\n\nS1 = df[df[\"complaint_type\"] == \"HEAT/HOT WATER\"].groupby(\"street_name\")[\"created_date\"].count()\nS2 = df[df[\"complaint_type\"] == \"HEATING\"].groupby(\"street_name\")[\"created_date\"].count()\ndisplay(pd.DataFrame({\"#Hot Water complaints\": S1, \"#Heating complaints\": S2}).sort_values(\"#Hot Water complaints\", ascending=False).head())\n\n# Street normalized (custom normalization)\ncalls_street = pd.DataFrame({\"#Hot Water complaints\": S1, \"#Heating complaints\": S2})\ncalls_street = calls_street * len(calls_street) / calls_street[\"#Hot Water complaints\"].sum()\ndisplay(calls_street.sort_values(\"#Hot Water complaints\", ascending=False).head())\nprint(\"#Streets:\", len(calls_street))\n\n# Street normalized\nS1_norm = df[df[\"complaint_type\"] == \"HEAT/HOT WATER\"][\"street_name\"].value_counts(normalize=True)\nS2_norm = df[df[\"complaint_type\"] == \"HEATING\"][\"street_name\"].value_counts(normalize=True)\ndf_norm = pd.DataFrame({\"#Hot Water complaints\": S1_norm, \"#Heating complaints\": S2_norm})\ndf_norm.sort_values(\"#Hot Water complaints\", ascending=False).head()"
        },
        {
            "cell_type": "code",
            "execution_count": 25,
            "metadata": {},
            "outputs": [
                {
                    "name": "stdout",
                    "output_type": "stream",
                    "text": "True     2190561\nFalse      15007\nName: closed_date, dtype: int64\n"
                }
            ],
            "source": "# Question 5: For the complaint types that you selected in the previous module that had at least 80,000 complaints logged,\n# how many of the submitted tickets were closed?\n\nprint(df[df[\"complaint_type\"].isin([\"HEAT/HOT WATER\", \"HEATING\"])][\"closed_date\"].notnull().value_counts())"
        },
        {
            "cell_type": "markdown",
            "metadata": {},
            "source": "# What Areas Should the Agency Focus On?"
        },
        {
            "cell_type": "markdown",
            "metadata": {},
            "source": "If analyzing by Borough, it should focus in borough Bronx.<br>\nIf analyzing by Zip, it should focus in zip 11226.<br>\nIf analyzing by Street, it should focus in street GRAND CONCOURSE.<br>\n<br>\nIt is sugested that the analysis be done by zip, as it has the highest normalized value."
        }
    ],
    "metadata": {
        "kernelspec": {
            "display_name": "Python 3.6",
            "language": "python",
            "name": "python3"
        },
        "language_info": {
            "codemirror_mode": {
                "name": "ipython",
                "version": 3
            },
            "file_extension": ".py",
            "mimetype": "text/x-python",
            "name": "python",
            "nbconvert_exporter": "python",
            "pygments_lexer": "ipython3",
            "version": "3.6.9"
        }
    },
    "nbformat": 4,
    "nbformat_minor": 1
}