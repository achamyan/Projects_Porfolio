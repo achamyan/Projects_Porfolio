{
 "cells": [
  {
   "cell_type": "markdown",
   "metadata": {},
   "source": [
    "<h1>Churn Analysis</h1>"
   ]
  },
  {
   "cell_type": "code",
   "execution_count": 2,
   "metadata": {},
   "outputs": [],
   "source": [
    "import pandas as pd\n",
    "import csv\n",
    "import numpy as np"
   ]
  },
  {
   "cell_type": "code",
   "execution_count": 3,
   "metadata": {},
   "outputs": [
    {
     "data": {
      "text/plain": [
       "'/resources/my Notebooks/Churn Analysis ECOMM'"
      ]
     },
     "execution_count": 3,
     "metadata": {},
     "output_type": "execute_result"
    }
   ],
   "source": [
    "pwd"
   ]
  },
  {
   "cell_type": "code",
   "execution_count": 4,
   "metadata": {},
   "outputs": [],
   "source": [
    "path = \"/resources/my Notebooks/Churn Analysis ECOMM/Caso Práctico - BA Manager_blanco1.csv\"\n",
    "df = pd.read_csv(path, delimiter=\";\", decimal=\",\")"
   ]
  },
  {
   "cell_type": "code",
   "execution_count": 5,
   "metadata": {},
   "outputs": [
    {
     "data": {
      "text/html": [
       "<div>\n",
       "<style scoped>\n",
       "    .dataframe tbody tr th:only-of-type {\n",
       "        vertical-align: middle;\n",
       "    }\n",
       "\n",
       "    .dataframe tbody tr th {\n",
       "        vertical-align: top;\n",
       "    }\n",
       "\n",
       "    .dataframe thead th {\n",
       "        text-align: right;\n",
       "    }\n",
       "</style>\n",
       "<table border=\"1\" class=\"dataframe\">\n",
       "  <thead>\n",
       "    <tr style=\"text-align: right;\">\n",
       "      <th></th>\n",
       "      <th>ID</th>\n",
       "      <th>Meses de suscripción</th>\n",
       "      <th>Fuga</th>\n",
       "      <th>Índice de Satisfacción (IS)</th>\n",
       "      <th>Var. del IS</th>\n",
       "      <th>Nro. de Casos de Soporte</th>\n",
       "      <th>Var. Nro. de Casos de Soporte</th>\n",
       "      <th>Prioridad del Soporte</th>\n",
       "      <th>Var. de la Prioridad del Soporte</th>\n",
       "      <th>Var. Nro. Logins</th>\n",
       "      <th>Var. Uso del Servicio</th>\n",
       "      <th>Var. Beneficio para el Cliente</th>\n",
       "      <th>Var. Días desde Ult. Conexión</th>\n",
       "    </tr>\n",
       "  </thead>\n",
       "  <tbody>\n",
       "    <tr>\n",
       "      <th>0</th>\n",
       "      <td>1</td>\n",
       "      <td>134</td>\n",
       "      <td>0</td>\n",
       "      <td>124</td>\n",
       "      <td>8</td>\n",
       "      <td>0</td>\n",
       "      <td>0</td>\n",
       "      <td>0.0</td>\n",
       "      <td>0.0</td>\n",
       "      <td>0</td>\n",
       "      <td>0</td>\n",
       "      <td>-32</td>\n",
       "      <td>31</td>\n",
       "    </tr>\n",
       "    <tr>\n",
       "      <th>1</th>\n",
       "      <td>2</td>\n",
       "      <td>116</td>\n",
       "      <td>0</td>\n",
       "      <td>276</td>\n",
       "      <td>-20</td>\n",
       "      <td>0</td>\n",
       "      <td>0</td>\n",
       "      <td>0.0</td>\n",
       "      <td>0.0</td>\n",
       "      <td>86</td>\n",
       "      <td>0</td>\n",
       "      <td>-66</td>\n",
       "      <td>0</td>\n",
       "    </tr>\n",
       "    <tr>\n",
       "      <th>2</th>\n",
       "      <td>3</td>\n",
       "      <td>114</td>\n",
       "      <td>0</td>\n",
       "      <td>360</td>\n",
       "      <td>-10</td>\n",
       "      <td>2</td>\n",
       "      <td>2</td>\n",
       "      <td>3.0</td>\n",
       "      <td>3.0</td>\n",
       "      <td>26</td>\n",
       "      <td>-2</td>\n",
       "      <td>1814</td>\n",
       "      <td>0</td>\n",
       "    </tr>\n",
       "    <tr>\n",
       "      <th>3</th>\n",
       "      <td>4</td>\n",
       "      <td>112</td>\n",
       "      <td>0</td>\n",
       "      <td>156</td>\n",
       "      <td>-74</td>\n",
       "      <td>0</td>\n",
       "      <td>0</td>\n",
       "      <td>0.0</td>\n",
       "      <td>0.0</td>\n",
       "      <td>-14</td>\n",
       "      <td>0</td>\n",
       "      <td>60</td>\n",
       "      <td>14</td>\n",
       "    </tr>\n",
       "    <tr>\n",
       "      <th>4</th>\n",
       "      <td>5</td>\n",
       "      <td>110</td>\n",
       "      <td>0</td>\n",
       "      <td>236</td>\n",
       "      <td>126</td>\n",
       "      <td>0</td>\n",
       "      <td>0</td>\n",
       "      <td>0.0</td>\n",
       "      <td>0.0</td>\n",
       "      <td>10</td>\n",
       "      <td>2</td>\n",
       "      <td>1990</td>\n",
       "      <td>0</td>\n",
       "    </tr>\n",
       "  </tbody>\n",
       "</table>\n",
       "</div>"
      ],
      "text/plain": [
       "   ID  Meses de suscripción  Fuga  Índice de Satisfacción (IS)  Var. del IS  \\\n",
       "0   1                   134     0                          124            8   \n",
       "1   2                   116     0                          276          -20   \n",
       "2   3                   114     0                          360          -10   \n",
       "3   4                   112     0                          156          -74   \n",
       "4   5                   110     0                          236          126   \n",
       "\n",
       "   Nro. de Casos de Soporte  Var. Nro. de Casos de Soporte  \\\n",
       "0                         0                              0   \n",
       "1                         0                              0   \n",
       "2                         2                              2   \n",
       "3                         0                              0   \n",
       "4                         0                              0   \n",
       "\n",
       "   Prioridad del Soporte  Var. de la Prioridad del Soporte  Var. Nro. Logins  \\\n",
       "0                    0.0                               0.0                 0   \n",
       "1                    0.0                               0.0                86   \n",
       "2                    3.0                               3.0                26   \n",
       "3                    0.0                               0.0               -14   \n",
       "4                    0.0                               0.0                10   \n",
       "\n",
       "   Var. Uso del Servicio  Var. Beneficio para el Cliente  \\\n",
       "0                      0                             -32   \n",
       "1                      0                             -66   \n",
       "2                     -2                            1814   \n",
       "3                      0                              60   \n",
       "4                      2                            1990   \n",
       "\n",
       "   Var. Días desde Ult. Conexión  \n",
       "0                             31  \n",
       "1                              0  \n",
       "2                              0  \n",
       "3                             14  \n",
       "4                              0  "
      ]
     },
     "execution_count": 5,
     "metadata": {},
     "output_type": "execute_result"
    }
   ],
   "source": [
    "df.head()"
   ]
  },
  {
   "cell_type": "code",
   "execution_count": 6,
   "metadata": {},
   "outputs": [
    {
     "name": "stdout",
     "output_type": "stream",
     "text": [
      "ID                                    int64\n",
      "Meses de suscripción                  int64\n",
      "Fuga                                  int64\n",
      "Índice de Satisfacción (IS)           int64\n",
      "Var. del IS                           int64\n",
      "Nro. de Casos de Soporte              int64\n",
      "Var. Nro. de Casos de Soporte         int64\n",
      "Prioridad del Soporte               float64\n",
      "Var. de la Prioridad del Soporte    float64\n",
      "Var. Nro. Logins                      int64\n",
      "Var. Uso del Servicio                 int64\n",
      "Var. Beneficio para el Cliente        int64\n",
      "Var. Días desde Ult. Conexión         int64\n",
      "dtype: object\n"
     ]
    }
   ],
   "source": [
    "print(df.dtypes)"
   ]
  },
  {
   "cell_type": "code",
   "execution_count": 7,
   "metadata": {},
   "outputs": [],
   "source": [
    "df.rename(columns={'Meses de suscripción':'Meses_sus', \"Índice de Satisfacción (IS)\":\"IS\", \"Var. del IS\":\"Var_IS\", \"Nro. de Casos de Soporte\":\"Casos_soporte\",\"Var. Nro. de Casos de Soporte\":\"Var_casos_soporte\", \"Prioridad del Soporte\":\"Prioridad_soporte\", \"Var. de la Prioridad del Soporte\":\"Var_prioridad_soporte\", \"Var. Nro. Logins\": \"Var_logins\", \"Var. Uso del Servicio\":\"Var_servicio\", \"Var. Beneficio para el Cliente\":\"Var_beneficio\", \"Var. Días desde Ult. Conexión\":\"Var_ult_con\"}, inplace=True)"
   ]
  },
  {
   "cell_type": "code",
   "execution_count": 8,
   "metadata": {},
   "outputs": [
    {
     "name": "stdout",
     "output_type": "stream",
     "text": [
      "ID                         int64\n",
      "Meses_sus                  int64\n",
      "Fuga                       int64\n",
      "IS                         int64\n",
      "Var_IS                     int64\n",
      "Casos_soporte              int64\n",
      "Var_casos_soporte          int64\n",
      "Prioridad_soporte        float64\n",
      "Var_prioridad_soporte    float64\n",
      "Var_logins                 int64\n",
      "Var_servicio               int64\n",
      "Var_beneficio              int64\n",
      "Var_ult_con                int64\n",
      "dtype: object\n"
     ]
    }
   ],
   "source": [
    "print(df.dtypes)"
   ]
  },
  {
   "cell_type": "code",
   "execution_count": 9,
   "metadata": {},
   "outputs": [],
   "source": [
    "X = df[[\"Meses_sus\", \"IS\", \"Var_IS\", \"Casos_soporte\", \"Var_casos_soporte\", \n",
    "         \"Prioridad_soporte\", \"Var_prioridad_soporte\", \"Var_logins\", \"Var_servicio\", \n",
    "         \"Var_beneficio\", \"Var_ult_con\"]]"
   ]
  },
  {
   "cell_type": "code",
   "execution_count": 10,
   "metadata": {},
   "outputs": [],
   "source": [
    "y = df[[\"Fuga\"]]"
   ]
  },
  {
   "cell_type": "code",
   "execution_count": 11,
   "metadata": {},
   "outputs": [
    {
     "data": {
      "text/html": [
       "<div>\n",
       "<style scoped>\n",
       "    .dataframe tbody tr th:only-of-type {\n",
       "        vertical-align: middle;\n",
       "    }\n",
       "\n",
       "    .dataframe tbody tr th {\n",
       "        vertical-align: top;\n",
       "    }\n",
       "\n",
       "    .dataframe thead th {\n",
       "        text-align: right;\n",
       "    }\n",
       "</style>\n",
       "<table border=\"1\" class=\"dataframe\">\n",
       "  <thead>\n",
       "    <tr style=\"text-align: right;\">\n",
       "      <th></th>\n",
       "      <th>Meses_sus</th>\n",
       "      <th>IS</th>\n",
       "      <th>Var_IS</th>\n",
       "      <th>Casos_soporte</th>\n",
       "      <th>Var_casos_soporte</th>\n",
       "      <th>Prioridad_soporte</th>\n",
       "      <th>Var_prioridad_soporte</th>\n",
       "      <th>Var_logins</th>\n",
       "      <th>Var_servicio</th>\n",
       "      <th>Var_beneficio</th>\n",
       "      <th>Var_ult_con</th>\n",
       "    </tr>\n",
       "  </thead>\n",
       "  <tbody>\n",
       "    <tr>\n",
       "      <th>Meses_sus</th>\n",
       "      <td>1.000000</td>\n",
       "      <td>0.289892</td>\n",
       "      <td>-0.186840</td>\n",
       "      <td>-0.109143</td>\n",
       "      <td>-0.016036</td>\n",
       "      <td>-0.074617</td>\n",
       "      <td>-0.027330</td>\n",
       "      <td>-0.052510</td>\n",
       "      <td>-0.079718</td>\n",
       "      <td>0.049194</td>\n",
       "      <td>0.039694</td>\n",
       "    </tr>\n",
       "    <tr>\n",
       "      <th>IS</th>\n",
       "      <td>0.289892</td>\n",
       "      <td>1.000000</td>\n",
       "      <td>0.186585</td>\n",
       "      <td>0.305270</td>\n",
       "      <td>-0.031750</td>\n",
       "      <td>0.371299</td>\n",
       "      <td>-0.007490</td>\n",
       "      <td>0.331820</td>\n",
       "      <td>0.038927</td>\n",
       "      <td>0.077131</td>\n",
       "      <td>-0.086395</td>\n",
       "    </tr>\n",
       "    <tr>\n",
       "      <th>Var_IS</th>\n",
       "      <td>-0.186840</td>\n",
       "      <td>0.186585</td>\n",
       "      <td>1.000000</td>\n",
       "      <td>0.266233</td>\n",
       "      <td>0.277727</td>\n",
       "      <td>0.230583</td>\n",
       "      <td>0.238848</td>\n",
       "      <td>0.460227</td>\n",
       "      <td>0.293150</td>\n",
       "      <td>-0.024052</td>\n",
       "      <td>0.028181</td>\n",
       "    </tr>\n",
       "    <tr>\n",
       "      <th>Casos_soporte</th>\n",
       "      <td>-0.109143</td>\n",
       "      <td>0.305270</td>\n",
       "      <td>0.266233</td>\n",
       "      <td>1.000000</td>\n",
       "      <td>0.413300</td>\n",
       "      <td>0.672877</td>\n",
       "      <td>0.283226</td>\n",
       "      <td>0.344938</td>\n",
       "      <td>0.047606</td>\n",
       "      <td>-0.009332</td>\n",
       "      <td>-0.032384</td>\n",
       "    </tr>\n",
       "    <tr>\n",
       "      <th>Var_casos_soporte</th>\n",
       "      <td>-0.016036</td>\n",
       "      <td>-0.031750</td>\n",
       "      <td>0.277727</td>\n",
       "      <td>0.413300</td>\n",
       "      <td>1.000000</td>\n",
       "      <td>0.230297</td>\n",
       "      <td>0.517611</td>\n",
       "      <td>0.275300</td>\n",
       "      <td>0.020214</td>\n",
       "      <td>0.000901</td>\n",
       "      <td>0.011494</td>\n",
       "    </tr>\n",
       "    <tr>\n",
       "      <th>Prioridad_soporte</th>\n",
       "      <td>-0.074617</td>\n",
       "      <td>0.371299</td>\n",
       "      <td>0.230583</td>\n",
       "      <td>0.672877</td>\n",
       "      <td>0.230297</td>\n",
       "      <td>1.000000</td>\n",
       "      <td>0.559746</td>\n",
       "      <td>0.305522</td>\n",
       "      <td>0.035298</td>\n",
       "      <td>-0.001118</td>\n",
       "      <td>-0.054617</td>\n",
       "    </tr>\n",
       "    <tr>\n",
       "      <th>Var_prioridad_soporte</th>\n",
       "      <td>-0.027330</td>\n",
       "      <td>-0.007490</td>\n",
       "      <td>0.238848</td>\n",
       "      <td>0.283226</td>\n",
       "      <td>0.517611</td>\n",
       "      <td>0.559746</td>\n",
       "      <td>1.000000</td>\n",
       "      <td>0.228505</td>\n",
       "      <td>0.030348</td>\n",
       "      <td>-0.016443</td>\n",
       "      <td>0.029953</td>\n",
       "    </tr>\n",
       "    <tr>\n",
       "      <th>Var_logins</th>\n",
       "      <td>-0.052510</td>\n",
       "      <td>0.331820</td>\n",
       "      <td>0.460227</td>\n",
       "      <td>0.344938</td>\n",
       "      <td>0.275300</td>\n",
       "      <td>0.305522</td>\n",
       "      <td>0.228505</td>\n",
       "      <td>1.000000</td>\n",
       "      <td>0.167840</td>\n",
       "      <td>-0.029320</td>\n",
       "      <td>-0.024869</td>\n",
       "    </tr>\n",
       "    <tr>\n",
       "      <th>Var_servicio</th>\n",
       "      <td>-0.079718</td>\n",
       "      <td>0.038927</td>\n",
       "      <td>0.293150</td>\n",
       "      <td>0.047606</td>\n",
       "      <td>0.020214</td>\n",
       "      <td>0.035298</td>\n",
       "      <td>0.030348</td>\n",
       "      <td>0.167840</td>\n",
       "      <td>1.000000</td>\n",
       "      <td>-0.010130</td>\n",
       "      <td>-0.001186</td>\n",
       "    </tr>\n",
       "    <tr>\n",
       "      <th>Var_beneficio</th>\n",
       "      <td>0.049194</td>\n",
       "      <td>0.077131</td>\n",
       "      <td>-0.024052</td>\n",
       "      <td>-0.009332</td>\n",
       "      <td>0.000901</td>\n",
       "      <td>-0.001118</td>\n",
       "      <td>-0.016443</td>\n",
       "      <td>-0.029320</td>\n",
       "      <td>-0.010130</td>\n",
       "      <td>1.000000</td>\n",
       "      <td>-0.016116</td>\n",
       "    </tr>\n",
       "    <tr>\n",
       "      <th>Var_ult_con</th>\n",
       "      <td>0.039694</td>\n",
       "      <td>-0.086395</td>\n",
       "      <td>0.028181</td>\n",
       "      <td>-0.032384</td>\n",
       "      <td>0.011494</td>\n",
       "      <td>-0.054617</td>\n",
       "      <td>0.029953</td>\n",
       "      <td>-0.024869</td>\n",
       "      <td>-0.001186</td>\n",
       "      <td>-0.016116</td>\n",
       "      <td>1.000000</td>\n",
       "    </tr>\n",
       "  </tbody>\n",
       "</table>\n",
       "</div>"
      ],
      "text/plain": [
       "                       Meses_sus        IS    Var_IS  Casos_soporte  \\\n",
       "Meses_sus               1.000000  0.289892 -0.186840      -0.109143   \n",
       "IS                      0.289892  1.000000  0.186585       0.305270   \n",
       "Var_IS                 -0.186840  0.186585  1.000000       0.266233   \n",
       "Casos_soporte          -0.109143  0.305270  0.266233       1.000000   \n",
       "Var_casos_soporte      -0.016036 -0.031750  0.277727       0.413300   \n",
       "Prioridad_soporte      -0.074617  0.371299  0.230583       0.672877   \n",
       "Var_prioridad_soporte  -0.027330 -0.007490  0.238848       0.283226   \n",
       "Var_logins             -0.052510  0.331820  0.460227       0.344938   \n",
       "Var_servicio           -0.079718  0.038927  0.293150       0.047606   \n",
       "Var_beneficio           0.049194  0.077131 -0.024052      -0.009332   \n",
       "Var_ult_con             0.039694 -0.086395  0.028181      -0.032384   \n",
       "\n",
       "                       Var_casos_soporte  Prioridad_soporte  \\\n",
       "Meses_sus                      -0.016036          -0.074617   \n",
       "IS                             -0.031750           0.371299   \n",
       "Var_IS                          0.277727           0.230583   \n",
       "Casos_soporte                   0.413300           0.672877   \n",
       "Var_casos_soporte               1.000000           0.230297   \n",
       "Prioridad_soporte               0.230297           1.000000   \n",
       "Var_prioridad_soporte           0.517611           0.559746   \n",
       "Var_logins                      0.275300           0.305522   \n",
       "Var_servicio                    0.020214           0.035298   \n",
       "Var_beneficio                   0.000901          -0.001118   \n",
       "Var_ult_con                     0.011494          -0.054617   \n",
       "\n",
       "                       Var_prioridad_soporte  Var_logins  Var_servicio  \\\n",
       "Meses_sus                          -0.027330   -0.052510     -0.079718   \n",
       "IS                                 -0.007490    0.331820      0.038927   \n",
       "Var_IS                              0.238848    0.460227      0.293150   \n",
       "Casos_soporte                       0.283226    0.344938      0.047606   \n",
       "Var_casos_soporte                   0.517611    0.275300      0.020214   \n",
       "Prioridad_soporte                   0.559746    0.305522      0.035298   \n",
       "Var_prioridad_soporte               1.000000    0.228505      0.030348   \n",
       "Var_logins                          0.228505    1.000000      0.167840   \n",
       "Var_servicio                        0.030348    0.167840      1.000000   \n",
       "Var_beneficio                      -0.016443   -0.029320     -0.010130   \n",
       "Var_ult_con                         0.029953   -0.024869     -0.001186   \n",
       "\n",
       "                       Var_beneficio  Var_ult_con  \n",
       "Meses_sus                   0.049194     0.039694  \n",
       "IS                          0.077131    -0.086395  \n",
       "Var_IS                     -0.024052     0.028181  \n",
       "Casos_soporte              -0.009332    -0.032384  \n",
       "Var_casos_soporte           0.000901     0.011494  \n",
       "Prioridad_soporte          -0.001118    -0.054617  \n",
       "Var_prioridad_soporte      -0.016443     0.029953  \n",
       "Var_logins                 -0.029320    -0.024869  \n",
       "Var_servicio               -0.010130    -0.001186  \n",
       "Var_beneficio               1.000000    -0.016116  \n",
       "Var_ult_con                -0.016116     1.000000  "
      ]
     },
     "execution_count": 11,
     "metadata": {},
     "output_type": "execute_result"
    }
   ],
   "source": [
    "X.corr()"
   ]
  },
  {
   "cell_type": "code",
   "execution_count": 12,
   "metadata": {},
   "outputs": [
    {
     "data": {
      "text/plain": [
       "<matplotlib.axes._subplots.AxesSubplot at 0x7efbef0146a0>"
      ]
     },
     "execution_count": 12,
     "metadata": {},
     "output_type": "execute_result"
    },
    {
     "data": {
      "image/png": "[encoded data removed]",
      "text/plain": [
       "<Figure size 432x288 with 1 Axes>"
      ]
     },
     "metadata": {
      "needs_background": "light"
     },
     "output_type": "display_data"
    }
   ],
   "source": [
    "import seaborn as sns\n",
    "sns.regplot(x='Var_casos_soporte', y=\"Var_prioridad_soporte\", data=X)"
   ]
  },
  {
   "cell_type": "code",
   "execution_count": 184,
   "metadata": {},
   "outputs": [
    {
     "name": "stdout",
     "output_type": "stream",
     "text": [
      "Train set: (1609, 11) (1609, 1)\n",
      "Test set: (403, 11) (403, 1)\n"
     ]
    }
   ],
   "source": [
    "from sklearn.model_selection import train_test_split\n",
    "X_train, X_test, y_train, y_test = train_test_split(X, y, test_size=0.2, random_state=4)\n",
    "print ('Train set:', X_train.shape,  y_train.shape)\n",
    "print ('Test set:', X_test.shape,  y_test.shape)"
   ]
  },
  {
   "cell_type": "code",
   "execution_count": 241,
   "metadata": {},
   "outputs": [],
   "source": [
    "%%capture\n",
    "# Logistic Regression Model\n",
    "\n",
    "from sklearn.linear_model import LogisticRegression, LogisticRegressionCV\n",
    "from sklearn.metrics import confusion_matrix\n",
    "from sklearn.model_selection import cross_val_score, cross_val_predict\n",
    "\n",
    "#valid solver values {‘newton-cg’, ‘lbfgs’, ‘liblinear’, ‘sag’, ‘saga’}, default=’lbfgs’\n",
    "LR = LogisticRegression(C=1, solver=\"sag\")\n",
    "LR.fit(X_train, y_train)\n",
    "\n",
    "LR2 = LogisticRegressionCV(Cs=1, solver=\"sag\", cv=5, scoring=\"f1_weighted\")\n",
    "LR2.fit(X_train, y_train)\n",
    "\n",
    "cross_val_score(LR, X_train, y_train, cv=5).mean()"
   ]
  },
  {
   "cell_type": "code",
   "execution_count": 186,
   "metadata": {},
   "outputs": [
    {
     "name": "stdout",
     "output_type": "stream",
     "text": [
      "[0 0 0 1 0 0 0 0 0 0 0 0 0 0 0 0 0 0 0 0 0 0 0 0 0 0 0 0 0 0 0 0 0 0 0 0 0\n",
      " 0 0 0 0 0 0 0 0 0 0 0 0 0 0 0 0 0 0 0 0 0 0 0 0 0 0 0 0 0 0 0 0 0 0 0 0 0\n",
      " 0 0 0 0 0 0 0 0 0 0 0 0 0 1 0 0 0 0 0 0 0 0 0 0 0 0 0 0 0 0 0 0 0 0 0 0 0\n",
      " 0 0 0 0 0 0 0 0 0 0 0 0 0 0 0 0 0 0 0 0 0 0 0 0 0 0 0 0 0 0 0 0 0 0 0 0 0\n",
      " 0 0 0 0 0 0 0 0 0 0 0 0 0 0 0 0 0 0 0 0 0 0 0 0 0 0 0 0 0 0 0 0 0 0 0 0 0\n",
      " 0 0 0 0 0 0 0 1 0 0 0 0 0 1 0 0 0 0 0 0 0 0 0 0 0 0 0 0 0 0 0 0 0 0 0 0 0\n",
      " 0 0 0 0 0 0 0 0 0 0 0 0 0 0 0 0 0 0 0 0 0 0 0 0 0 0 0 0 0 0 0 0 0 0 0 0 0\n",
      " 0 0 0 0 0 0 0 0 0 0 0 0 0 0 0 0 0 0 0 0 0 0 0 0 0 0 0 0 0 0 0 0 0 0 0 0 0\n",
      " 0 0 1 0 0 0 0 0 0 0 0 0 0 0 0 0 0 0 0 0 0 0 0 0 0 0 0 0 0 0 0 0 0 0 0 0 0\n",
      " 0 0 0 0 0 0 0 0 0 0 0 0 0 0 0 0 0 0 0 0 0 0 0 0 0 0 0 0 0 0 0 0 0 0 0 0 0\n",
      " 0 0 0 0 0 0 0 0 0 0 0 0 0 0 0 0 0 0 0 0 0 0 0 0 0 0 0 0 0 0 0 0 0]\n",
      "[0 0 0 1 0 0 0 0 0 0 0 0 0 0 0 0 0 0 0 0 0 0 0 0 0 0 0 0 0 0 0 0 0 0 0 0 0\n",
      " 0 0 0 0 0 0 0 0 0 0 0 0 0 0 0 0 0 0 0 0 0 0 0 0 0 0 0 0 0 0 0 0 0 0 0 0 0\n",
      " 0 0 0 0 0 0 0 0 0 0 0 0 0 1 0 0 0 0 0 0 0 0 0 0 0 0 0 0 0 0 0 0 0 0 0 0 0\n",
      " 0 0 0 0 0 0 0 0 0 0 0 0 0 0 0 0 0 0 0 0 0 0 0 0 0 0 0 0 0 0 0 0 0 0 0 0 0\n",
      " 0 0 0 0 0 0 0 0 0 0 0 0 0 0 0 0 0 0 0 0 0 0 0 0 0 0 0 0 0 0 0 0 0 0 0 0 0\n",
      " 0 0 0 0 0 0 0 0 0 0 0 0 0 1 0 0 0 0 0 0 0 0 0 0 0 0 0 0 0 0 0 0 0 0 0 0 0\n",
      " 0 0 0 0 0 0 0 0 0 0 0 0 0 0 0 0 0 0 0 0 0 0 0 0 0 0 0 0 0 0 0 0 0 0 0 0 0\n",
      " 0 0 0 0 0 0 0 0 0 0 0 0 0 0 0 0 0 0 0 0 0 0 0 0 0 0 0 0 0 0 0 0 0 0 0 0 0\n",
      " 0 0 0 0 0 0 0 0 0 0 0 0 0 0 0 0 0 0 0 0 0 0 0 0 0 0 0 0 0 0 0 0 0 0 0 0 0\n",
      " 0 0 0 0 0 0 0 0 0 0 0 0 0 0 0 0 0 0 0 0 0 0 0 0 0 0 0 0 0 0 0 0 0 0 0 0 0\n",
      " 0 0 0 0 0 0 0 0 0 0 0 0 0 0 0 0 0 0 0 0 0 0 0 0 0 0 0 0 0 0 0 0 0]\n",
      "[[0 0 0 0 0 0 0 0 0 0 0 0 0 0 0 0 0 0 0 0 0 0 0 0 0 0 0 0 0 0 0 0 0 0 0 0\n",
      "  0 0 0 0 0 0 0 0 0 0 0 0 0 0 0 0 0 1 0 0 0 0 0 0 0 0 0 0 0 0 0 0 0 0 0 0\n",
      "  0 0 0 0 0 0 1 0 0 0 0 0 0 0 0 0 0 0 0 0 0 0 0 0 1 0 0 0 0 0 0 0 0 1 0 0\n",
      "  0 0 0 0 0 0 0 0 0 0 0 0 0 0 0 0 0 0 0 0 0 0 0 0 0 0 0 0 0 0 0 0 0 0 0 1\n",
      "  0 0 0 0 0 0 0 0 0 0 0 0 0 0 0 0 1 0 0 0 0 0 0 0 0 0 0 0 0 0 0 0 0 0 0 0\n",
      "  0 0 0 0 0 0 0 0 0 0 0 0 0 0 0 0 0 0 0 0 0 0 0 0 0 0 0 0 0 0 0 0 0 0 0 0\n",
      "  0 0 0 0 0 0 0 0 0 0 0 0 0 0 0 0 0 0 0 0 0 0 0 0 0 0 0 0 0 0 0 0 0 0 0 0\n",
      "  0 0 0 0 0 0 0 1 0 0 0 0 0 0 0 0 0 0 0 0 0 0 0 0 0 0 0 0 0 0 0 0 0 0 0 0\n",
      "  0 0 0 0 0 0 0 0 0 0 1 0 0 0 0 0 0 0 0 0 0 0 0 0 0 0 0 0 0 0 0 0 1 0 0 0\n",
      "  0 0 0 0 0 0 0 0 0 0 0 0 0 0 0 0 0 0 0 0 0 1 0 0 0 0 0 0 0 0 0 0 0 0 0 0\n",
      "  0 1 0 0 0 0 0 0 0 0 0 0 0 0 0 0 0 1 0 0 0 0 0 0 0 0 0 0 0 1 0 0 0 0 0 0\n",
      "  0 0 0 0 0 1 0]]\n"
     ]
    }
   ],
   "source": [
    "yhat = LR.predict(X_test)\n",
    "yhat_cv = LR2.predict(X_test)\n",
    "\n",
    "print(yhat)\n",
    "print(yhat_cv)\n",
    "print(y_test.values.transpose())"
   ]
  },
  {
   "cell_type": "code",
   "execution_count": 187,
   "metadata": {},
   "outputs": [
    {
     "name": "stdout",
     "output_type": "stream",
     "text": [
      "[[0.8624493  0.1375507 ]\n",
      " [0.90691866 0.09308134]\n",
      " [0.95856393 0.04143607]\n",
      " [0.49764116 0.50235884]\n",
      " [0.95394477 0.04605523]]\n",
      "\n",
      " [[0.8315074  0.1684926 ]\n",
      " [0.88203456 0.11796544]\n",
      " [0.93740489 0.06259511]\n",
      " [0.49925045 0.50074955]\n",
      " [0.93194365 0.06805635]]\n"
     ]
    }
   ],
   "source": [
    "yhat_prob = LR.predict_proba(X_test)\n",
    "yhat_cv_prob = LR2.predict_proba(X_test)\n",
    "\n",
    "print(yhat_prob[:5])\n",
    "print(\"\\n\", yhat_prob_cv[:5])"
   ]
  },
  {
   "cell_type": "code",
   "execution_count": 214,
   "metadata": {},
   "outputs": [
    {
     "name": "stdout",
     "output_type": "stream",
     "text": [
      "Jaccard yhat: 0.9578163771712159\n",
      "Jaccard yhat_cv: 0.9578163771712159\n",
      "f1_score: 0.9444627901637591\n",
      "f1_score_cv: 0.9444627901637591\n"
     ]
    }
   ],
   "source": [
    "import sklearn.metrics as metrics\n",
    "from sklearn.metrics import classification_report, confusion_matrix\n",
    "\n",
    "print(\"Jaccard yhat:\", metrics.jaccard_similarity_score(y_test, yhat))\n",
    "J_LR = metrics.jaccard_similarity_score(y_test, yhat_cv)\n",
    "print(\"Jaccard yhat_cv:\", J_LR)\n",
    "\n",
    "print(\"f1_score:\", metrics.f1_score(y_test, yhat_cv, average=\"weighted\"))\n",
    "f1_LR = metrics.f1_score(y_test, yhat_cv, average=\"weighted\")\n",
    "print(\"f1_score_cv:\", f1_LR)"
   ]
  },
  {
   "cell_type": "code",
   "execution_count": 213,
   "metadata": {},
   "outputs": [
    {
     "name": "stdout",
     "output_type": "stream",
     "text": [
      "Confusion Matrix:\n",
      " [[  1  13]\n",
      " [  4 385]]\n",
      "\n",
      "               precision    recall  f1-score   support\n",
      "\n",
      "           0       0.97      0.99      0.98       389\n",
      "           1       0.20      0.07      0.11        14\n",
      "\n",
      "   micro avg       0.96      0.96      0.96       403\n",
      "   macro avg       0.58      0.53      0.54       403\n",
      "weighted avg       0.94      0.96      0.95       403\n",
      "\n"
     ]
    }
   ],
   "source": [
    "print(\"Confusion Matrix:\\n\", confusion_matrix(y_test, yhat, labels=[1,0]))\n",
    "print(\"\\n\",classification_report(y_test, yhat))"
   ]
  },
  {
   "cell_type": "code",
   "execution_count": 190,
   "metadata": {},
   "outputs": [
    {
     "name": "stdout",
     "output_type": "stream",
     "text": [
      "[[  0  14]\n",
      " [  3 386]]\n",
      "\n",
      "              precision    recall  f1-score   support\n",
      "\n",
      "           0       0.96      0.99      0.98       389\n",
      "           1       0.00      0.00      0.00        14\n",
      "\n",
      "   micro avg       0.96      0.96      0.96       403\n",
      "   macro avg       0.48      0.50      0.49       403\n",
      "weighted avg       0.93      0.96      0.94       403\n",
      "\n"
     ]
    }
   ],
   "source": [
    "print(confusion_matrix(y_test, yhat_cv, labels=[1,0]))\n",
    "print()\n",
    "print(classification_report(y_test, yhat_cv))"
   ]
  },
  {
   "cell_type": "code",
   "execution_count": 191,
   "metadata": {},
   "outputs": [
    {
     "name": "stdout",
     "output_type": "stream",
     "text": [
      "LogLoss: : 0.27\n",
      "LogLoss with cv: : 0.28\n"
     ]
    }
   ],
   "source": [
    "from sklearn.metrics import log_loss\n",
    "print(\"LogLoss: : %.2f\" % log_loss(y_test, yhat_prob))\n",
    "print(\"LogLoss with cv: : %.2f\" % log_loss(y_test, yhat_prob_cv))"
   ]
  },
  {
   "cell_type": "code",
   "execution_count": 159,
   "metadata": {},
   "outputs": [
    {
     "name": "stderr",
     "output_type": "stream",
     "text": [
      "/home/jupyterlab/conda/envs/python/lib/python3.6/site-packages/sklearn/utils/validation.py:761: DataConversionWarning: A column-vector y was passed when a 1d array was expected. Please change the shape of y to (n_samples, ), for example using ravel().\n",
      "  y = column_or_1d(y, warn=True)\n",
      "/home/jupyterlab/conda/envs/python/lib/python3.6/site-packages/sklearn/svm/base.py:196: FutureWarning: The default value of gamma will change from 'auto' to 'scale' in version 0.22 to account better for unscaled features. Set gamma explicitly to 'auto' or 'scale' to avoid this warning.\n",
      "  \"avoid this warning.\", FutureWarning)\n"
     ]
    },
    {
     "data": {
      "text/plain": [
       "array([0, 0, 0, 0, 0, 0, 0, 0, 0, 0, 0, 0, 0, 0, 0, 0, 0, 0, 0, 0, 0, 0,\n",
       "       0, 0, 0, 0, 0, 0, 0, 0, 0, 0, 0, 0, 0, 0, 0, 0, 0, 0, 0, 0, 0, 0,\n",
       "       0, 0, 0, 0, 0, 0, 0, 0, 0, 0, 0, 0, 0, 0, 0, 0, 0, 0, 0, 0, 0, 0,\n",
       "       0, 0, 0, 0, 0, 0, 0, 0, 0, 0, 0, 0, 0, 0, 0, 0, 0, 0, 0, 0, 0, 0,\n",
       "       0, 0, 0, 0, 0, 0, 0, 0, 0, 0, 0, 0, 0, 0, 0, 0, 0, 0, 0, 0, 0, 0,\n",
       "       0, 0, 0, 0, 0, 0, 0, 0, 0, 0, 0, 0, 0, 0, 1, 0, 0, 0, 0, 0, 0, 0,\n",
       "       0, 0, 0, 0, 0, 0, 0, 0, 0, 0, 0, 0, 0, 0, 0, 0, 0, 0, 0, 0, 0, 0,\n",
       "       0, 0, 0, 0, 0, 0, 1, 0, 0, 0, 0, 0, 0, 0, 0, 0, 0, 0, 0, 0, 0, 0,\n",
       "       0, 0, 0, 0, 0, 0, 0, 0, 0, 0, 0, 0, 0, 0, 0, 0, 0, 0, 0, 0, 0, 0,\n",
       "       0, 0, 0, 0, 0, 0, 0, 0, 0, 0, 0, 0, 0, 0, 0, 0, 0, 0, 0, 0, 0, 0,\n",
       "       0, 0, 0, 0, 0, 0, 0, 0, 0, 0, 0, 0, 0, 0, 0, 0, 0, 0, 0, 0, 0, 0,\n",
       "       0, 0, 0, 0, 0, 0, 0, 0, 0, 0, 0, 0, 0, 0, 0, 0, 0, 0, 0, 0, 0, 0,\n",
       "       0, 0, 0, 0, 0, 0, 0, 0, 0, 0, 0, 0, 0, 0, 0, 0, 0, 0, 0, 0, 0, 0,\n",
       "       0, 0, 0, 0, 0, 0, 0, 0, 0, 0, 0, 0, 0, 0, 0, 0, 0, 0, 0, 0, 0, 0,\n",
       "       0, 0, 0, 0, 0, 0, 0, 0, 0, 0, 0, 0, 0, 0, 0, 0, 0, 0, 0, 0, 0, 0,\n",
       "       0, 0, 0, 0, 0, 0, 0, 0, 0, 0, 0, 0, 0, 0, 0, 0, 0, 0, 0, 0, 0, 0,\n",
       "       0, 0, 0, 0, 0, 0, 0, 0, 0, 0, 0, 0, 0, 0, 0, 0, 0, 0, 0, 0, 0, 0,\n",
       "       0, 0, 0, 0, 0, 0, 0, 0, 0, 0, 0, 0, 0, 1, 0, 0, 0, 0, 0, 0, 0, 0,\n",
       "       0, 0, 0, 0, 0, 0, 0])"
      ]
     },
     "execution_count": 159,
     "metadata": {},
     "output_type": "execute_result"
    }
   ],
   "source": [
    "# Support Vector Machines model\n",
    "\n",
    "from1 sklearn import svm\n",
    "clf = svm.SVC(kernel='rbf')\n",
    "clf.fit(X_train, y_train)\n",
    "yhat2 = clf.predict(X_test)\n",
    "yhat2"
   ]
  },
  {
   "cell_type": "code",
   "execution_count": 215,
   "metadata": {},
   "outputs": [
    {
     "name": "stdout",
     "output_type": "stream",
     "text": [
      "0.9627791563275434\n",
      "0.9509965795562579\n"
     ]
    }
   ],
   "source": [
    "J_SVM = metrics.jaccard_similarity_score(y_test, yhat2)\n",
    "print(J_SVM)\n",
    "f1_SVM = metrics.f1_score(y_test, yhat2, average=\"weighted\")\n",
    "print(f1_SVM)"
   ]
  },
  {
   "cell_type": "code",
   "execution_count": 197,
   "metadata": {},
   "outputs": [
    {
     "name": "stdout",
     "output_type": "stream",
     "text": [
      "[[  1  13]\n",
      " [  4 385]]\n",
      "              precision    recall  f1-score   support\n",
      "\n",
      "           0       0.97      0.99      0.98       389\n",
      "           1       0.20      0.07      0.11        14\n",
      "\n",
      "   micro avg       0.96      0.96      0.96       403\n",
      "   macro avg       0.58      0.53      0.54       403\n",
      "weighted avg       0.94      0.96      0.95       403\n",
      "\n"
     ]
    }
   ],
   "source": [
    "print(confusion_matrix(y_test, yhat, labels=[1,0]))\n",
    "print(classification_report(y_test, yhat))"
   ]
  },
  {
   "cell_type": "code",
   "execution_count": 162,
   "metadata": {},
   "outputs": [
    {
     "name": "stderr",
     "output_type": "stream",
     "text": [
      "/home/jupyterlab/conda/envs/python/lib/python3.6/site-packages/sklearn/preprocessing/data.py:625: DataConversionWarning: Data with input dtype int64, float64 were all converted to float64 by StandardScaler.\n",
      "  return self.partial_fit(X, y)\n",
      "/home/jupyterlab/conda/envs/python/lib/python3.6/site-packages/ipykernel_launcher.py:4: DataConversionWarning: Data with input dtype int64, float64 were all converted to float64 by StandardScaler.\n",
      "  after removing the cwd from sys.path.\n"
     ]
    },
    {
     "data": {
      "text/plain": [
       "array([[ 4.6435779 , -0.37599251, -0.01956563, -0.41822397,  0.02244018,\n",
       "        -0.61278763, -0.033977  , -0.38679208, -0.0475727 , -0.06700719,\n",
       "         1.38826074],\n",
       "       [ 3.853668  ,  0.7773197 , -0.46872992, -0.41822397,  0.02244018,\n",
       "        -0.61278763, -0.033977  ,  0.7464567 , -0.0475727 , -0.08332369,\n",
       "        -0.06840529],\n",
       "       [ 3.76590023,  1.41467645, -0.3083141 ,  0.1964339 ,  0.5798432 ,\n",
       "         1.66553047,  2.06656235, -0.04418198, -0.37203467,  0.81888289,\n",
       "        -0.06840529],\n",
       "       [ 3.67813247, -0.13318994, -1.33497533, -0.41822397,  0.02244018,\n",
       "        -0.61278763, -0.033977  , -0.57127443, -0.0475727 , -0.02285665,\n",
       "         0.58944389],\n",
       "       [ 3.5903647 ,  0.47381648,  1.87334102, -0.41822397,  0.02244018,\n",
       "        -0.61278763, -0.033977  , -0.25501896,  0.27688926,  0.90334478,\n",
       "        -0.06840529]])"
      ]
     },
     "execution_count": 162,
     "metadata": {},
     "output_type": "execute_result"
    }
   ],
   "source": [
    "# K-Nearest Neightbors Model\n",
    "\n",
    "from sklearn import preprocessing\n",
    "SS = preprocessing.StandardScaler()\n",
    "SS.fit(X)\n",
    "X_std = SS.transform(X)\n",
    "X_std[0:5]"
   ]
  },
  {
   "cell_type": "code",
   "execution_count": 163,
   "metadata": {},
   "outputs": [
    {
     "name": "stderr",
     "output_type": "stream",
     "text": [
      "/home/jupyterlab/conda/envs/python/lib/python3.6/site-packages/ipykernel_launcher.py:8: DataConversionWarning: A column-vector y was passed when a 1d array was expected. Please change the shape of y to (n_samples, ), for example using ravel().\n",
      "  \n"
     ]
    },
    {
     "data": {
      "text/plain": [
       "KNeighborsClassifier(algorithm='auto', leaf_size=30, metric='minkowski',\n",
       "           metric_params=None, n_jobs=None, n_neighbors=4, p=2,\n",
       "           weights='uniform')"
      ]
     },
     "execution_count": 163,
     "metadata": {},
     "output_type": "execute_result"
    }
   ],
   "source": [
    "from sklearn.neighbors import KNeighborsClassifier\n",
    "\n",
    "X_train, X_test, y_train, y_test = train_test_split(X_std, y, test_size=0.2, random_state=1)\n",
    "k = 4\n",
    "#Create object and fit model\n",
    "\n",
    "neigh = KNeighborsClassifier(n_neighbors = k)\n",
    "neigh.fit(X_train,y_train)\n",
    "neigh"
   ]
  },
  {
   "cell_type": "code",
   "execution_count": 164,
   "metadata": {},
   "outputs": [
    {
     "data": {
      "text/plain": [
       "array([0, 0, 0, 0, 0, 0, 0, 0, 0, 0, 0, 0, 0, 0, 0, 0, 0, 0, 0, 0, 0, 0,\n",
       "       0, 0, 0, 0, 0, 0, 0, 0, 0, 0, 0, 0, 0, 0, 0, 0, 0, 0, 0, 0, 0, 0,\n",
       "       0, 0, 0, 0, 0, 0, 0, 0, 0, 0, 0, 0, 0, 0, 0, 0, 0, 0, 0, 0, 0, 0,\n",
       "       0, 0, 0, 0, 0, 0, 0, 0, 0, 0, 0, 0, 0, 0, 0, 0, 0, 0, 0, 0, 0, 0,\n",
       "       0, 0, 0, 0, 0, 0, 0, 0, 0, 0, 0, 0, 0, 0, 0, 0, 0, 0, 0, 0, 0, 0,\n",
       "       0, 0, 0, 0, 0, 0, 0, 0, 0, 0, 0, 0, 0, 0, 0, 0, 0, 0, 0, 0, 0, 0,\n",
       "       0, 0, 0, 0, 0, 0, 0, 0, 0, 0, 0, 0, 0, 0, 0, 0, 0, 0, 0, 0, 0, 0,\n",
       "       0, 0, 0, 0, 0, 0, 0, 0, 0, 0, 0, 0, 0, 0, 0, 0, 0, 0, 0, 0, 0, 0,\n",
       "       0, 0, 0, 0, 0, 0, 0, 0, 0, 0, 0, 0, 0, 0, 0, 0, 0, 0, 0, 0, 0, 0,\n",
       "       0, 0, 0, 0, 0, 0, 0, 0, 0, 0, 0, 0, 0, 0, 0, 0, 0, 0, 0, 0, 0, 0,\n",
       "       0, 0, 0, 0, 0, 0, 0, 0, 0, 0, 0, 0, 0, 0, 0, 0, 0, 0, 0, 0, 0, 0,\n",
       "       0, 0, 0, 0, 0, 0, 0, 0, 0, 0, 0, 0, 0, 0, 0, 0, 0, 0, 0, 0, 0, 0,\n",
       "       0, 0, 0, 0, 0, 0, 0, 0, 0, 0, 0, 0, 0, 0, 0, 0, 0, 0, 0, 0, 0, 0,\n",
       "       1, 0, 0, 0, 0, 0, 0, 0, 0, 0, 0, 0, 0, 0, 0, 0, 0, 0, 0, 0, 0, 0,\n",
       "       0, 0, 0, 0, 0, 0, 0, 0, 0, 0, 0, 0, 0, 0, 0, 0, 0, 0, 0, 0, 0, 0,\n",
       "       0, 0, 0, 0, 0, 0, 0, 0, 0, 0, 0, 0, 0, 0, 0, 0, 0, 0, 0, 0, 0, 0,\n",
       "       0, 0, 0, 0, 0, 0, 0, 0, 0, 0, 0, 0, 0, 0, 0, 0, 0, 0, 0, 0, 0, 0,\n",
       "       0, 0, 0, 0, 0, 0, 0, 0, 0, 0, 0, 0, 0, 0, 0, 0, 0, 0, 0, 0, 0, 0,\n",
       "       0, 0, 0, 0, 0, 0, 0])"
      ]
     },
     "execution_count": 164,
     "metadata": {},
     "output_type": "execute_result"
    }
   ],
   "source": [
    "yhat3 = neigh.predict(X_test)\n",
    "yhat3"
   ]
  },
  {
   "cell_type": "code",
   "execution_count": 104,
   "metadata": {},
   "outputs": [
    {
     "name": "stdout",
     "output_type": "stream",
     "text": [
      "y predict\n",
      "0    402\n",
      "1      1\n",
      "dtype: int64\n",
      "\n",
      "y values\n",
      "0    388\n",
      "1     15\n",
      "Name: Fuga, dtype: int64\n"
     ]
    }
   ],
   "source": [
    "print(\"y predict\")\n",
    "print(pd.Series(yhat3).value_counts())\n",
    "\n",
    "print(\"\\ny values\")\n",
    "print(y_test[\"Fuga\"].value_counts())"
   ]
  },
  {
   "cell_type": "code",
   "execution_count": 107,
   "metadata": {},
   "outputs": [
    {
     "name": "stdout",
     "output_type": "stream",
     "text": [
      "[[  1  14]\n",
      " [  0 388]]\n",
      "\n",
      "              precision    recall  f1-score   support\n",
      "\n",
      "           0       0.97      1.00      0.98       388\n",
      "           1       1.00      0.07      0.12        15\n",
      "\n",
      "   micro avg       0.97      0.97      0.97       403\n",
      "   macro avg       0.98      0.53      0.55       403\n",
      "weighted avg       0.97      0.97      0.95       403\n",
      "\n"
     ]
    }
   ],
   "source": [
    "print(confusion_matrix(y_test, yhat3, labels=[1,0]))\n",
    "print()\n",
    "print(classification_report(y_test, yhat3))"
   ]
  },
  {
   "cell_type": "code",
   "execution_count": 219,
   "metadata": {},
   "outputs": [
    {
     "name": "stdout",
     "output_type": "stream",
     "text": [
      "0.9627791563275434\n",
      "0.9469559843525017\n"
     ]
    }
   ],
   "source": [
    "J_KNN = metrics.jaccard_similarity_score(y_test, yhat3)\n",
    "print(J_KNN)\n",
    "\n",
    "f1_KNN = metrics.f1_score(y_test, yhat3, average=\"weighted\")\n",
    "print(f1_KNN)"
   ]
  },
  {
   "cell_type": "markdown",
   "metadata": {},
   "source": [
    "<h1>Summary</h1>"
   ]
  },
  {
   "cell_type": "code",
   "execution_count": 237,
   "metadata": {},
   "outputs": [
    {
     "data": {
      "text/html": [
       "<div>\n",
       "<style scoped>\n",
       "    .dataframe tbody tr th:only-of-type {\n",
       "        vertical-align: middle;\n",
       "    }\n",
       "\n",
       "    .dataframe tbody tr th {\n",
       "        vertical-align: top;\n",
       "    }\n",
       "\n",
       "    .dataframe thead th {\n",
       "        text-align: right;\n",
       "    }\n",
       "</style>\n",
       "<table border=\"1\" class=\"dataframe\">\n",
       "  <thead>\n",
       "    <tr style=\"text-align: right;\">\n",
       "      <th></th>\n",
       "      <th>Jaccard Index</th>\n",
       "      <th>F1-Score</th>\n",
       "    </tr>\n",
       "  </thead>\n",
       "  <tbody>\n",
       "    <tr>\n",
       "      <th>LR</th>\n",
       "      <td>0.958</td>\n",
       "      <td>0.944</td>\n",
       "    </tr>\n",
       "    <tr>\n",
       "      <th>SVM</th>\n",
       "      <td>0.963</td>\n",
       "      <td>0.951</td>\n",
       "    </tr>\n",
       "    <tr>\n",
       "      <th>KNN</th>\n",
       "      <td>0.963</td>\n",
       "      <td>0.947</td>\n",
       "    </tr>\n",
       "  </tbody>\n",
       "</table>\n",
       "</div>"
      ],
      "text/plain": [
       "     Jaccard Index  F1-Score\n",
       "LR           0.958     0.944\n",
       "SVM          0.963     0.951\n",
       "KNN          0.963     0.947"
      ]
     },
     "execution_count": 237,
     "metadata": {},
     "output_type": "execute_result"
    }
   ],
   "source": [
    "ev_dict = {\"Jaccard Index\":{\"LR\":J_LR, \"SVM\":J_SVM, \"KNN\":J_KNN}, \n",
    "     \"F1-Score\":{\"LR\":f1_LR, \"SVM\":f1_SVM, \"KNN\":f1_KNN}}\n",
    "ev_df = pd.DataFrame(d)\n",
    "ev_df = ev_df.round(decimals=3)\n",
    "ev_df"
   ]
  }
 ],
 "metadata": {
  "kernelspec": {
   "display_name": "Python",
   "language": "python",
   "name": "conda-env-python-py"
  },
  "language_info": {
   "codemirror_mode": {
    "name": "ipython",
    "version": 3
   },
   "file_extension": ".py",
   "mimetype": "text/x-python",
   "name": "python",
   "nbconvert_exporter": "python",
   "pygments_lexer": "ipython3",
   "version": "3.6.10"
  }
 },
 "nbformat": 4,
 "nbformat_minor": 4
}
