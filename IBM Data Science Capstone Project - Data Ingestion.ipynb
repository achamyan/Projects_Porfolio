{
    "cells": [
        {
            "cell_type": "markdown",
            "metadata": {},
            "source": "# 1. Data Ingestion"
        },
        {
            "cell_type": "code",
            "execution_count": 3,
            "metadata": {},
            "outputs": [],
            "source": "# USe of SODA API to extract web data\n\nimport pandas as pd\nSODA_API_URL = (\"https://data.cityofnewyork.us/resource/fhrw-4uyv.csv?\"\n       \"$limit=10000000\"\n       \"&Agency=HPD\"\n       \"&$select=\"\n                \"created_date,\"\n                \"unique_key,\"\n                \"complaint_type,\"\n                \"incident_zip,\"\n                \"incident_address,\"\n                \"street_name,\"\n                \"address_type,\"\n                \"city,\"\n                \"resolution_description,\"\n                \"borough,\"\n                \"latitude,\"\n                \"longitude,\"\n                \"closed_date,\"\n                \"location_type,\"\n                \"status\")\n\ndf = pd.read_csv(SODA_API_URL, parse_dates=True)"
        },
        {
            "cell_type": "code",
            "execution_count": 4,
            "metadata": {},
            "outputs": [
                {
                    "data": {
                        "text/html": "<div>\n<style scoped>\n    .dataframe tbody tr th:only-of-type {\n        vertical-align: middle;\n    }\n\n    .dataframe tbody tr th {\n        vertical-align: top;\n    }\n\n    .dataframe thead th {\n        text-align: right;\n    }\n</style>\n<table border=\"1\" class=\"dataframe\">\n  <thead>\n    <tr style=\"text-align: right;\">\n      <th></th>\n      <th>created_date</th>\n      <th>unique_key</th>\n      <th>complaint_type</th>\n      <th>incident_zip</th>\n      <th>incident_address</th>\n      <th>street_name</th>\n      <th>address_type</th>\n      <th>city</th>\n      <th>resolution_description</th>\n      <th>borough</th>\n      <th>latitude</th>\n      <th>longitude</th>\n      <th>closed_date</th>\n      <th>location_type</th>\n      <th>status</th>\n    </tr>\n  </thead>\n  <tbody>\n    <tr>\n      <th>0</th>\n      <td>2020-07-02T00:53:46.000</td>\n      <td>46724396</td>\n      <td>UNSANITARY CONDITION</td>\n      <td>10453.0</td>\n      <td>1735 DAVIDSON AVENUE</td>\n      <td>DAVIDSON AVENUE</td>\n      <td>ADDRESS</td>\n      <td>BRONX</td>\n      <td>The following complaint conditions are still o...</td>\n      <td>BRONX</td>\n      <td>40.847996</td>\n      <td>-73.913303</td>\n      <td>NaN</td>\n      <td>RESIDENTIAL BUILDING</td>\n      <td>Open</td>\n    </tr>\n    <tr>\n      <th>1</th>\n      <td>2020-07-02T01:30:47.000</td>\n      <td>46723307</td>\n      <td>ELECTRIC</td>\n      <td>11377.0</td>\n      <td>51-28 72 STREET</td>\n      <td>72 STREET</td>\n      <td>ADDRESS</td>\n      <td>Woodside</td>\n      <td>The following complaint conditions are still o...</td>\n      <td>QUEENS</td>\n      <td>40.734983</td>\n      <td>-73.892334</td>\n      <td>NaN</td>\n      <td>RESIDENTIAL BUILDING</td>\n      <td>Open</td>\n    </tr>\n    <tr>\n      <th>2</th>\n      <td>2020-07-02T01:51:58.000</td>\n      <td>46720951</td>\n      <td>ELECTRIC</td>\n      <td>10460.0</td>\n      <td>1967 MARMION AVENUE</td>\n      <td>MARMION AVENUE</td>\n      <td>ADDRESS</td>\n      <td>BRONX</td>\n      <td>The following complaint conditions are still o...</td>\n      <td>BRONX</td>\n      <td>40.843515</td>\n      <td>-73.886672</td>\n      <td>NaN</td>\n      <td>RESIDENTIAL BUILDING</td>\n      <td>Open</td>\n    </tr>\n    <tr>\n      <th>3</th>\n      <td>2020-07-02T01:30:28.000</td>\n      <td>46721660</td>\n      <td>UNSANITARY CONDITION</td>\n      <td>10030.0</td>\n      <td>2500 FREDERICK DOUGLASS BOULEVARD</td>\n      <td>FREDERICK DOUGLASS BOULEVARD</td>\n      <td>ADDRESS</td>\n      <td>NEW YORK</td>\n      <td>The following complaint conditions are still o...</td>\n      <td>MANHATTAN</td>\n      <td>40.815557</td>\n      <td>-73.947222</td>\n      <td>NaN</td>\n      <td>RESIDENTIAL BUILDING</td>\n      <td>Open</td>\n    </tr>\n    <tr>\n      <th>4</th>\n      <td>2020-07-02T01:48:56.000</td>\n      <td>46715042</td>\n      <td>WATER LEAK</td>\n      <td>10456.0</td>\n      <td>1100 FRANKLIN AVENUE</td>\n      <td>FRANKLIN AVENUE</td>\n      <td>ADDRESS</td>\n      <td>BRONX</td>\n      <td>The following complaint conditions are still o...</td>\n      <td>BRONX</td>\n      <td>40.827819</td>\n      <td>-73.906298</td>\n      <td>NaN</td>\n      <td>RESIDENTIAL BUILDING</td>\n      <td>Open</td>\n    </tr>\n  </tbody>\n</table>\n</div>",
                        "text/plain": "              created_date  unique_key        complaint_type  incident_zip  \\\n0  2020-07-02T00:53:46.000    46724396  UNSANITARY CONDITION       10453.0   \n1  2020-07-02T01:30:47.000    46723307              ELECTRIC       11377.0   \n2  2020-07-02T01:51:58.000    46720951              ELECTRIC       10460.0   \n3  2020-07-02T01:30:28.000    46721660  UNSANITARY CONDITION       10030.0   \n4  2020-07-02T01:48:56.000    46715042            WATER LEAK       10456.0   \n\n                    incident_address                   street_name  \\\n0               1735 DAVIDSON AVENUE               DAVIDSON AVENUE   \n1                    51-28 72 STREET                     72 STREET   \n2                1967 MARMION AVENUE                MARMION AVENUE   \n3  2500 FREDERICK DOUGLASS BOULEVARD  FREDERICK DOUGLASS BOULEVARD   \n4               1100 FRANKLIN AVENUE               FRANKLIN AVENUE   \n\n  address_type      city                             resolution_description  \\\n0      ADDRESS     BRONX  The following complaint conditions are still o...   \n1      ADDRESS  Woodside  The following complaint conditions are still o...   \n2      ADDRESS     BRONX  The following complaint conditions are still o...   \n3      ADDRESS  NEW YORK  The following complaint conditions are still o...   \n4      ADDRESS     BRONX  The following complaint conditions are still o...   \n\n     borough   latitude  longitude closed_date         location_type status  \n0      BRONX  40.847996 -73.913303         NaN  RESIDENTIAL BUILDING   Open  \n1     QUEENS  40.734983 -73.892334         NaN  RESIDENTIAL BUILDING   Open  \n2      BRONX  40.843515 -73.886672         NaN  RESIDENTIAL BUILDING   Open  \n3  MANHATTAN  40.815557 -73.947222         NaN  RESIDENTIAL BUILDING   Open  \n4      BRONX  40.827819 -73.906298         NaN  RESIDENTIAL BUILDING   Open  "
                    },
                    "execution_count": 4,
                    "metadata": {},
                    "output_type": "execute_result"
                }
            ],
            "source": "df.head()"
        },
        {
            "cell_type": "code",
            "execution_count": 5,
            "metadata": {},
            "outputs": [
                {
                    "data": {
                        "text/plain": "(6149696, 15)"
                    },
                    "execution_count": 5,
                    "metadata": {},
                    "output_type": "execute_result"
                }
            ],
            "source": "df.shape"
        },
        {
            "cell_type": "code",
            "execution_count": 6,
            "metadata": {},
            "outputs": [
                {
                    "data": {
                        "text/html": "<div>\n<style scoped>\n    .dataframe tbody tr th:only-of-type {\n        vertical-align: middle;\n    }\n\n    .dataframe tbody tr th {\n        vertical-align: top;\n    }\n\n    .dataframe thead th {\n        text-align: right;\n    }\n</style>\n<table border=\"1\" class=\"dataframe\">\n  <thead>\n    <tr style=\"text-align: right;\">\n      <th></th>\n      <th>Make</th>\n      <th>Model</th>\n      <th>Year</th>\n      <th>Engine Fuel Type</th>\n      <th>Engine HP</th>\n      <th>Engine Cylinders</th>\n      <th>Transmission Type</th>\n      <th>Driven_Wheels</th>\n      <th>Number of Doors</th>\n      <th>Market Category</th>\n      <th>Vehicle Size</th>\n      <th>Vehicle Style</th>\n      <th>highway MPG</th>\n      <th>city mpg</th>\n      <th>Popularity</th>\n      <th>MSRP</th>\n    </tr>\n  </thead>\n  <tbody>\n    <tr>\n      <th>0</th>\n      <td>BMW</td>\n      <td>1 Series M</td>\n      <td>2011</td>\n      <td>premium unleaded (required)</td>\n      <td>335.0</td>\n      <td>6.0</td>\n      <td>MANUAL</td>\n      <td>rear wheel drive</td>\n      <td>2.0</td>\n      <td>Factory Tuner,Luxury,High-Performance</td>\n      <td>Compact</td>\n      <td>Coupe</td>\n      <td>26</td>\n      <td>19</td>\n      <td>3916</td>\n      <td>46135</td>\n    </tr>\n    <tr>\n      <th>1</th>\n      <td>BMW</td>\n      <td>1 Series</td>\n      <td>2011</td>\n      <td>premium unleaded (required)</td>\n      <td>300.0</td>\n      <td>6.0</td>\n      <td>MANUAL</td>\n      <td>rear wheel drive</td>\n      <td>2.0</td>\n      <td>Luxury,Performance</td>\n      <td>Compact</td>\n      <td>Convertible</td>\n      <td>28</td>\n      <td>19</td>\n      <td>3916</td>\n      <td>40650</td>\n    </tr>\n    <tr>\n      <th>2</th>\n      <td>BMW</td>\n      <td>1 Series</td>\n      <td>2011</td>\n      <td>premium unleaded (required)</td>\n      <td>300.0</td>\n      <td>6.0</td>\n      <td>MANUAL</td>\n      <td>rear wheel drive</td>\n      <td>2.0</td>\n      <td>Luxury,High-Performance</td>\n      <td>Compact</td>\n      <td>Coupe</td>\n      <td>28</td>\n      <td>20</td>\n      <td>3916</td>\n      <td>36350</td>\n    </tr>\n    <tr>\n      <th>3</th>\n      <td>BMW</td>\n      <td>1 Series</td>\n      <td>2011</td>\n      <td>premium unleaded (required)</td>\n      <td>230.0</td>\n      <td>6.0</td>\n      <td>MANUAL</td>\n      <td>rear wheel drive</td>\n      <td>2.0</td>\n      <td>Luxury,Performance</td>\n      <td>Compact</td>\n      <td>Coupe</td>\n      <td>28</td>\n      <td>18</td>\n      <td>3916</td>\n      <td>29450</td>\n    </tr>\n    <tr>\n      <th>4</th>\n      <td>BMW</td>\n      <td>1 Series</td>\n      <td>2011</td>\n      <td>premium unleaded (required)</td>\n      <td>230.0</td>\n      <td>6.0</td>\n      <td>MANUAL</td>\n      <td>rear wheel drive</td>\n      <td>2.0</td>\n      <td>Luxury</td>\n      <td>Compact</td>\n      <td>Convertible</td>\n      <td>28</td>\n      <td>18</td>\n      <td>3916</td>\n      <td>34500</td>\n    </tr>\n  </tbody>\n</table>\n</div>",
                        "text/plain": "  Make       Model  Year             Engine Fuel Type  Engine HP  \\\n0  BMW  1 Series M  2011  premium unleaded (required)      335.0   \n1  BMW    1 Series  2011  premium unleaded (required)      300.0   \n2  BMW    1 Series  2011  premium unleaded (required)      300.0   \n3  BMW    1 Series  2011  premium unleaded (required)      230.0   \n4  BMW    1 Series  2011  premium unleaded (required)      230.0   \n\n   Engine Cylinders Transmission Type     Driven_Wheels  Number of Doors  \\\n0               6.0            MANUAL  rear wheel drive              2.0   \n1               6.0            MANUAL  rear wheel drive              2.0   \n2               6.0            MANUAL  rear wheel drive              2.0   \n3               6.0            MANUAL  rear wheel drive              2.0   \n4               6.0            MANUAL  rear wheel drive              2.0   \n\n                         Market Category Vehicle Size Vehicle Style  \\\n0  Factory Tuner,Luxury,High-Performance      Compact         Coupe   \n1                     Luxury,Performance      Compact   Convertible   \n2                Luxury,High-Performance      Compact         Coupe   \n3                     Luxury,Performance      Compact         Coupe   \n4                                 Luxury      Compact   Convertible   \n\n   highway MPG  city mpg  Popularity   MSRP  \n0           26        19        3916  46135  \n1           28        19        3916  40650  \n2           28        20        3916  36350  \n3           28        18        3916  29450  \n4           28        18        3916  34500  "
                    },
                    "execution_count": 6,
                    "metadata": {},
                    "output_type": "execute_result"
                }
            ],
            "source": "# The code was removed by Watson Studio for sharing."
        },
        {
            "cell_type": "code",
            "execution_count": 7,
            "metadata": {},
            "outputs": [],
            "source": "#Template of info needed to upload:\n\n#client_cred = ibm_boto3.client(service_name='s3',\n#ibm_api_key_id='***',\n#ibm_auth_endpoint='***',\n#config=Config(signature_version='oauth'),\n#endpoint_url='***')\n#bucket = '***'"
        },
        {
            "cell_type": "code",
            "execution_count": 8,
            "metadata": {},
            "outputs": [],
            "source": "#Bucket and Credentials\n\nimport types\nimport pandas as pd\nfrom botocore.client import Config\nimport ibm_boto3\n\ndef __iter__(self): return 0\n\nclient_cred = ibm_boto3.client(service_name='s3',\nibm_api_key_id='rA-GmnuRkJ81A9EsDqha63ZmdFzQjxwCEgASTF2F-OJr',\nibm_auth_endpoint='https://iam.cloud.ibm.com/oidc/token',\nconfig=Config(signature_version='oauth'),\nendpoint_url='https://s3-api.us-geo.objectstorage.service.networklayer.com')\n\nbucket = 'ibmdatascienceandmachinelearningc-donotdelete-pr-bkscl1den6u69w'"
        },
        {
            "cell_type": "code",
            "execution_count": 9,
            "metadata": {},
            "outputs": [],
            "source": "# Upload NYC 311 Calls Dataset\n\ndf.to_pickle('./df_raw.pkl')\nclient_cred.upload_file('./df_raw.pkl', bucket, 'df_raw_cos.pkl')"
        },
        {
            "cell_type": "code",
            "execution_count": 10,
            "metadata": {},
            "outputs": [
                {
                    "name": "stderr",
                    "output_type": "stream",
                    "text": "/opt/conda/envs/Python36/lib/python3.6/site-packages/IPython/core/interactiveshell.py:3020: DtypeWarning: Columns (19,20,22,23,24,25,26,64,65,80) have mixed types. Specify dtype option on import or set low_memory=False.\n  interactivity=interactivity, compiler=compiler, result=result)\n"
                }
            ],
            "source": "# Upload NYC PLUTO file Brooklyn \n\nbody = client_39ef3ab0c86f4eb0a3c254cdfc649a1b.get_object(Bucket='ibmdatascienceandmachinelearningc-donotdelete-pr-bkscl1den6u69w',Key='BK_18v1.csv')['Body']\n# add missing __iter__ method, so pandas accepts body as file-like object\nif not hasattr(body, \"__iter__\"): body.__iter__ = types.MethodType( __iter__, body )\n\ndf_data_4 = pd.read_csv(body)\ndf_data_4.head()\n\ndf_data_4.to_pickle('./df_data_4_raw.pkl')\nclient_cred.upload_file('./df_data_4_raw.pkl', bucket, 'df_data_4_raw_cos.pkl')"
        },
        {
            "cell_type": "code",
            "execution_count": 11,
            "metadata": {},
            "outputs": [
                {
                    "name": "stderr",
                    "output_type": "stream",
                    "text": "/opt/conda/envs/Python36/lib/python3.6/site-packages/IPython/core/interactiveshell.py:3020: DtypeWarning: Columns (19,20,22,23,64,65,80) have mixed types. Specify dtype option on import or set low_memory=False.\n  interactivity=interactivity, compiler=compiler, result=result)\n"
                }
            ],
            "source": "# Upload NYC PLUTO file Bronx\n\nbody = client_39ef3ab0c86f4eb0a3c254cdfc649a1b.get_object(Bucket='ibmdatascienceandmachinelearningc-donotdelete-pr-bkscl1den6u69w',Key='BX_18v1.csv')['Body']\n# add missing __iter__ method, so pandas accepts body as file-like object\nif not hasattr(body, \"__iter__\"): body.__iter__ = types.MethodType( __iter__, body )\n\ndf_data_5 = pd.read_csv(body)\ndf_data_5.head()\n\ndf_data_5.to_pickle('./df_data_5_raw.pkl')\nclient_cred.upload_file('./df_data_5_raw.pkl', bucket, 'df_data_5_raw_cos.pkl')"
        },
        {
            "cell_type": "code",
            "execution_count": 12,
            "metadata": {},
            "outputs": [
                {
                    "name": "stderr",
                    "output_type": "stream",
                    "text": "/opt/conda/envs/Python36/lib/python3.6/site-packages/IPython/core/interactiveshell.py:3020: DtypeWarning: Columns (20,23,24,26,64) have mixed types. Specify dtype option on import or set low_memory=False.\n  interactivity=interactivity, compiler=compiler, result=result)\n"
                }
            ],
            "source": "# Upload NYC PLUTO file Manhattan\n\nbody = client_39ef3ab0c86f4eb0a3c254cdfc649a1b.get_object(Bucket='ibmdatascienceandmachinelearningc-donotdelete-pr-bkscl1den6u69w',Key='MN_18v1.csv')['Body']\n# add missing __iter__ method, so pandas accepts body as file-like object\nif not hasattr(body, \"__iter__\"): body.__iter__ = types.MethodType( __iter__, body )\n\ndf_data_6 = pd.read_csv(body)\ndf_data_6.head()\n\ndf_data_6.to_pickle('./df_data_6_raw.pkl')\nclient_cred.upload_file('./df_data_6_raw.pkl', bucket, 'df_data_6_raw_cos.pkl')"
        },
        {
            "cell_type": "code",
            "execution_count": 13,
            "metadata": {},
            "outputs": [
                {
                    "name": "stderr",
                    "output_type": "stream",
                    "text": "/opt/conda/envs/Python36/lib/python3.6/site-packages/IPython/core/interactiveshell.py:3020: DtypeWarning: Columns (19,20,22,23,64,65,77) have mixed types. Specify dtype option on import or set low_memory=False.\n  interactivity=interactivity, compiler=compiler, result=result)\n"
                }
            ],
            "source": "# Upload NYC PLUTO file Queens\nbody = client_39ef3ab0c86f4eb0a3c254cdfc649a1b.get_object(Bucket='ibmdatascienceandmachinelearningc-donotdelete-pr-bkscl1den6u69w',Key='QN_18v1.csv')['Body']\n# add missing __iter__ method, so pandas accepts body as file-like object\nif not hasattr(body, \"__iter__\"): body.__iter__ = types.MethodType( __iter__, body )\n\ndf_data_7 = pd.read_csv(body)\ndf_data_7.head()\n\ndf_data_7.to_pickle('./df_data_7_raw.pkl')\nclient_cred.upload_file('./df_data_7_raw.pkl', bucket, 'df_data_7_raw_cos.pkl')"
        },
        {
            "cell_type": "code",
            "execution_count": 14,
            "metadata": {},
            "outputs": [
                {
                    "name": "stderr",
                    "output_type": "stream",
                    "text": "/opt/conda/envs/Python36/lib/python3.6/site-packages/IPython/core/interactiveshell.py:3020: DtypeWarning: Columns (19,20,22,23,24,64,65,80) have mixed types. Specify dtype option on import or set low_memory=False.\n  interactivity=interactivity, compiler=compiler, result=result)\n"
                }
            ],
            "source": "# Upload NYC PLUTO file Staten Island\n\nbody = client_39ef3ab0c86f4eb0a3c254cdfc649a1b.get_object(Bucket='ibmdatascienceandmachinelearningc-donotdelete-pr-bkscl1den6u69w',Key='SI_18v1.csv')['Body']\n# add missing __iter__ method, so pandas accepts body as file-like object\nif not hasattr(body, \"__iter__\"): body.__iter__ = types.MethodType( __iter__, body )\n\ndf_data_8 = pd.read_csv(body)\ndf_data_8.head()\n\ndf_data_8.to_pickle('./df_data_8_raw.pkl')\nclient_cred.upload_file('./df_data_8_raw.pkl', bucket, 'df_data_8_raw_cos.pkl')"
        },
        {
            "cell_type": "code",
            "execution_count": 15,
            "metadata": {},
            "outputs": [
                {
                    "data": {
                        "text/html": "<div>\n<style scoped>\n    .dataframe tbody tr th:only-of-type {\n        vertical-align: middle;\n    }\n\n    .dataframe tbody tr th {\n        vertical-align: top;\n    }\n\n    .dataframe thead th {\n        text-align: right;\n    }\n</style>\n<table border=\"1\" class=\"dataframe\">\n  <thead>\n    <tr style=\"text-align: right;\">\n      <th></th>\n      <th>created_date</th>\n      <th>unique_key</th>\n      <th>complaint_type</th>\n      <th>incident_zip</th>\n      <th>incident_address</th>\n      <th>street_name</th>\n      <th>address_type</th>\n      <th>city</th>\n      <th>resolution_description</th>\n      <th>borough</th>\n      <th>latitude</th>\n      <th>longitude</th>\n      <th>closed_date</th>\n      <th>location_type</th>\n      <th>status</th>\n    </tr>\n  </thead>\n  <tbody>\n    <tr>\n      <th>321</th>\n      <td>2020-07-02T23:58:10.000</td>\n      <td>46715800</td>\n      <td>WATER LEAK</td>\n      <td>10462.0</td>\n      <td>1450 PARKCHESTER ROAD</td>\n      <td>PARKCHESTER ROAD</td>\n      <td>ADDRESS</td>\n      <td>BRONX</td>\n      <td>The following complaint conditions are still o...</td>\n      <td>BRONX</td>\n      <td>40.836319</td>\n      <td>-73.859548</td>\n      <td>NaN</td>\n      <td>RESIDENTIAL BUILDING</td>\n      <td>Open</td>\n    </tr>\n    <tr>\n      <th>876</th>\n      <td>2020-07-02T23:58:10.000</td>\n      <td>46716681</td>\n      <td>UNSANITARY CONDITION</td>\n      <td>10462.0</td>\n      <td>1450 PARKCHESTER ROAD</td>\n      <td>PARKCHESTER ROAD</td>\n      <td>ADDRESS</td>\n      <td>BRONX</td>\n      <td>The following complaint conditions are still o...</td>\n      <td>BRONX</td>\n      <td>40.836319</td>\n      <td>-73.859548</td>\n      <td>NaN</td>\n      <td>RESIDENTIAL BUILDING</td>\n      <td>Open</td>\n    </tr>\n    <tr>\n      <th>354</th>\n      <td>2020-07-02T23:58:10.000</td>\n      <td>46715041</td>\n      <td>PAINT/PLASTER</td>\n      <td>10462.0</td>\n      <td>1450 PARKCHESTER ROAD</td>\n      <td>PARKCHESTER ROAD</td>\n      <td>ADDRESS</td>\n      <td>BRONX</td>\n      <td>The following complaint conditions are still o...</td>\n      <td>BRONX</td>\n      <td>40.836319</td>\n      <td>-73.859548</td>\n      <td>NaN</td>\n      <td>RESIDENTIAL BUILDING</td>\n      <td>Open</td>\n    </tr>\n    <tr>\n      <th>1154</th>\n      <td>2020-07-02T23:58:10.000</td>\n      <td>46719688</td>\n      <td>WATER LEAK</td>\n      <td>10462.0</td>\n      <td>1450 PARKCHESTER ROAD</td>\n      <td>PARKCHESTER ROAD</td>\n      <td>ADDRESS</td>\n      <td>BRONX</td>\n      <td>The following complaint conditions are still o...</td>\n      <td>BRONX</td>\n      <td>40.836319</td>\n      <td>-73.859548</td>\n      <td>NaN</td>\n      <td>RESIDENTIAL BUILDING</td>\n      <td>Open</td>\n    </tr>\n    <tr>\n      <th>776</th>\n      <td>2020-07-02T23:51:38.000</td>\n      <td>46718294</td>\n      <td>PAINT/PLASTER</td>\n      <td>10473.0</td>\n      <td>2045 STORY AVENUE</td>\n      <td>STORY AVENUE</td>\n      <td>ADDRESS</td>\n      <td>BRONX</td>\n      <td>The following complaint conditions are still o...</td>\n      <td>BRONX</td>\n      <td>40.824831</td>\n      <td>-73.854232</td>\n      <td>NaN</td>\n      <td>RESIDENTIAL BUILDING</td>\n      <td>Open</td>\n    </tr>\n  </tbody>\n</table>\n</div>",
                        "text/plain": "                 created_date  unique_key        complaint_type  incident_zip  \\\n321   2020-07-02T23:58:10.000    46715800            WATER LEAK       10462.0   \n876   2020-07-02T23:58:10.000    46716681  UNSANITARY CONDITION       10462.0   \n354   2020-07-02T23:58:10.000    46715041         PAINT/PLASTER       10462.0   \n1154  2020-07-02T23:58:10.000    46719688            WATER LEAK       10462.0   \n776   2020-07-02T23:51:38.000    46718294         PAINT/PLASTER       10473.0   \n\n           incident_address       street_name address_type   city  \\\n321   1450 PARKCHESTER ROAD  PARKCHESTER ROAD      ADDRESS  BRONX   \n876   1450 PARKCHESTER ROAD  PARKCHESTER ROAD      ADDRESS  BRONX   \n354   1450 PARKCHESTER ROAD  PARKCHESTER ROAD      ADDRESS  BRONX   \n1154  1450 PARKCHESTER ROAD  PARKCHESTER ROAD      ADDRESS  BRONX   \n776       2045 STORY AVENUE      STORY AVENUE      ADDRESS  BRONX   \n\n                                 resolution_description borough   latitude  \\\n321   The following complaint conditions are still o...   BRONX  40.836319   \n876   The following complaint conditions are still o...   BRONX  40.836319   \n354   The following complaint conditions are still o...   BRONX  40.836319   \n1154  The following complaint conditions are still o...   BRONX  40.836319   \n776   The following complaint conditions are still o...   BRONX  40.824831   \n\n      longitude closed_date         location_type status  \n321  -73.859548         NaN  RESIDENTIAL BUILDING   Open  \n876  -73.859548         NaN  RESIDENTIAL BUILDING   Open  \n354  -73.859548         NaN  RESIDENTIAL BUILDING   Open  \n1154 -73.859548         NaN  RESIDENTIAL BUILDING   Open  \n776  -73.854232         NaN  RESIDENTIAL BUILDING   Open  "
                    },
                    "execution_count": 15,
                    "metadata": {},
                    "output_type": "execute_result"
                }
            ],
            "source": "df.sort_values([\"created_date\"], ascending=False, inplace=True)\ndf.head()"
        }
    ],
    "metadata": {
        "kernelspec": {
            "display_name": "Python 3.6",
            "language": "python",
            "name": "python3"
        },
        "language_info": {
            "codemirror_mode": {
                "name": "ipython",
                "version": 3
            },
            "file_extension": ".py",
            "mimetype": "text/x-python",
            "name": "python",
            "nbconvert_exporter": "python",
            "pygments_lexer": "ipython3",
            "version": "3.6.9"
        }
    },
    "nbformat": 4,
    "nbformat_minor": 1
}