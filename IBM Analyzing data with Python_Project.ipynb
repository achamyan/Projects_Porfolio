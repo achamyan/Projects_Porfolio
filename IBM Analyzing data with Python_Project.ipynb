{
    "cells": [
        {
            "cell_type": "markdown",
            "metadata": {},
            "source": "<a><img src=\"https://ibm.box.com/shared/static/ugcqz6ohbvff804xp84y4kqnvvk3bq1g.png\" width=\"200\" align=\"center\"></a>"
        },
        {
            "cell_type": "markdown",
            "metadata": {},
            "source": "<h1>Analyzing Where Do People Drink?  </h1>\n<h2>Description</h2>"
        },
        {
            "cell_type": "markdown",
            "metadata": {},
            "source": "This Dataset is from the story <a href=https://fivethirtyeight.com/features/dear-mona-followup-where-do-people-drink-the-most-beer-wine-and-spirits/>  Dear Mona Followup: Where Do People Drink The Most Beer, Wine And Spirits? </a>  The dataset contains Average serving sizes per person such as average wine, spirit, beer servings. As well as several other metrics. You will be asked to analyze the data and predict the total liters served given the servings. See how to share your lab at the end."
        },
        {
            "cell_type": "markdown",
            "metadata": {},
            "source": "You will need the following libraries:"
        },
        {
            "cell_type": "code",
            "execution_count": 93,
            "metadata": {},
            "outputs": [],
            "source": "import pandas as pd\nimport numpy as np\nimport matplotlib.pyplot as plt\nimport matplotlib as mpl"
        },
        {
            "cell_type": "markdown",
            "metadata": {},
            "source": "<b>1.0 Importing the Data</b>"
        },
        {
            "cell_type": "markdown",
            "metadata": {},
            "source": "Load the csv:"
        },
        {
            "cell_type": "code",
            "execution_count": 94,
            "metadata": {},
            "outputs": [],
            "source": "df= pd.read_csv('https://s3-api.us-geo.objectstorage.softlayer.net/cf-courses-data/CognitiveClass/DA0101EN/edx/project/drinks.csv')"
        },
        {
            "cell_type": "markdown",
            "metadata": {},
            "source": "We use the method  <code>head()</code>  to display the first 5 columns of the dataframe:"
        },
        {
            "cell_type": "code",
            "execution_count": 95,
            "metadata": {},
            "outputs": [
                {
                    "data": {
                        "text/html": "<div>\n<style scoped>\n    .dataframe tbody tr th:only-of-type {\n        vertical-align: middle;\n    }\n\n    .dataframe tbody tr th {\n        vertical-align: top;\n    }\n\n    .dataframe thead th {\n        text-align: right;\n    }\n</style>\n<table border=\"1\" class=\"dataframe\">\n  <thead>\n    <tr style=\"text-align: right;\">\n      <th></th>\n      <th>country</th>\n      <th>beer_servings</th>\n      <th>spirit_servings</th>\n      <th>wine_servings</th>\n      <th>total_litres_of_pure_alcohol</th>\n      <th>continent</th>\n    </tr>\n  </thead>\n  <tbody>\n    <tr>\n      <th>0</th>\n      <td>Afghanistan</td>\n      <td>0</td>\n      <td>0</td>\n      <td>0</td>\n      <td>0.0</td>\n      <td>Asia</td>\n    </tr>\n    <tr>\n      <th>1</th>\n      <td>Albania</td>\n      <td>89</td>\n      <td>132</td>\n      <td>54</td>\n      <td>4.9</td>\n      <td>Europe</td>\n    </tr>\n    <tr>\n      <th>2</th>\n      <td>Algeria</td>\n      <td>25</td>\n      <td>0</td>\n      <td>14</td>\n      <td>0.7</td>\n      <td>Africa</td>\n    </tr>\n    <tr>\n      <th>3</th>\n      <td>Andorra</td>\n      <td>245</td>\n      <td>138</td>\n      <td>312</td>\n      <td>12.4</td>\n      <td>Europe</td>\n    </tr>\n    <tr>\n      <th>4</th>\n      <td>Angola</td>\n      <td>217</td>\n      <td>57</td>\n      <td>45</td>\n      <td>5.9</td>\n      <td>Africa</td>\n    </tr>\n  </tbody>\n</table>\n</div>",
                        "text/plain": "       country  beer_servings  spirit_servings  wine_servings  \\\n0  Afghanistan              0                0              0   \n1      Albania             89              132             54   \n2      Algeria             25                0             14   \n3      Andorra            245              138            312   \n4       Angola            217               57             45   \n\n   total_litres_of_pure_alcohol continent  \n0                           0.0      Asia  \n1                           4.9    Europe  \n2                           0.7    Africa  \n3                          12.4    Europe  \n4                           5.9    Africa  "
                    },
                    "execution_count": 95,
                    "metadata": {},
                    "output_type": "execute_result"
                }
            ],
            "source": "df.head()"
        },
        {
            "cell_type": "markdown",
            "metadata": {},
            "source": "<b>Question 1</b>:  Display the data types of each column using the attribute\u202fdtype."
        },
        {
            "cell_type": "code",
            "execution_count": 96,
            "metadata": {},
            "outputs": [
                {
                    "data": {
                        "text/plain": "country                          object\nbeer_servings                     int64\nspirit_servings                   int64\nwine_servings                     int64\ntotal_litres_of_pure_alcohol    float64\ncontinent                        object\ndtype: object"
                    },
                    "execution_count": 96,
                    "metadata": {},
                    "output_type": "execute_result"
                }
            ],
            "source": "df.dtypes"
        },
        {
            "cell_type": "markdown",
            "metadata": {},
            "source": "<b>Question 2</b> use the method\u202f<code>groupby</code> to get the number of wine servings per continent:"
        },
        {
            "cell_type": "code",
            "execution_count": 167,
            "metadata": {},
            "outputs": [
                {
                    "data": {
                        "text/html": "<div>\n<style scoped>\n    .dataframe tbody tr th:only-of-type {\n        vertical-align: middle;\n    }\n\n    .dataframe tbody tr th {\n        vertical-align: top;\n    }\n\n    .dataframe thead th {\n        text-align: right;\n    }\n</style>\n<table border=\"1\" class=\"dataframe\">\n  <thead>\n    <tr style=\"text-align: right;\">\n      <th></th>\n      <th>continent</th>\n      <th>wine_servings</th>\n    </tr>\n  </thead>\n  <tbody>\n    <tr>\n      <th>0</th>\n      <td>Africa</td>\n      <td>862</td>\n    </tr>\n    <tr>\n      <th>1</th>\n      <td>Asia</td>\n      <td>399</td>\n    </tr>\n    <tr>\n      <th>2</th>\n      <td>Europe</td>\n      <td>6400</td>\n    </tr>\n    <tr>\n      <th>3</th>\n      <td>North America</td>\n      <td>564</td>\n    </tr>\n    <tr>\n      <th>4</th>\n      <td>Oceania</td>\n      <td>570</td>\n    </tr>\n    <tr>\n      <th>5</th>\n      <td>South America</td>\n      <td>749</td>\n    </tr>\n  </tbody>\n</table>\n</div>",
                        "text/plain": "       continent  wine_servings\n0         Africa            862\n1           Asia            399\n2         Europe           6400\n3  North America            564\n4        Oceania            570\n5  South America            749"
                    },
                    "execution_count": 167,
                    "metadata": {},
                    "output_type": "execute_result"
                }
            ],
            "source": "df_subset = df[[\"wine_servings\", \"continent\"]]\ndf_subset_grp = df_subset.groupby(\"continent\", as_index = False)\ndf_subset_grp.sum()"
        },
        {
            "cell_type": "markdown",
            "metadata": {},
            "source": "<b>Question 3:</b> Perform a statistical summary and analysis of beer servings for each continent:"
        },
        {
            "cell_type": "code",
            "execution_count": 98,
            "metadata": {},
            "outputs": [
                {
                    "name": "stdout",
                    "output_type": "stream",
                    "text": "Summary statistics of beer_servings for continent: Asia\n"
                },
                {
                    "data": {
                        "text/html": "<div>\n<style scoped>\n    .dataframe tbody tr th:only-of-type {\n        vertical-align: middle;\n    }\n\n    .dataframe tbody tr th {\n        vertical-align: top;\n    }\n\n    .dataframe thead th {\n        text-align: right;\n    }\n</style>\n<table border=\"1\" class=\"dataframe\">\n  <thead>\n    <tr style=\"text-align: right;\">\n      <th></th>\n      <th>beer_servings</th>\n    </tr>\n  </thead>\n  <tbody>\n    <tr>\n      <th>count</th>\n      <td>44.000000</td>\n    </tr>\n    <tr>\n      <th>mean</th>\n      <td>37.045455</td>\n    </tr>\n    <tr>\n      <th>std</th>\n      <td>49.469725</td>\n    </tr>\n    <tr>\n      <th>min</th>\n      <td>0.000000</td>\n    </tr>\n    <tr>\n      <th>25%</th>\n      <td>4.250000</td>\n    </tr>\n    <tr>\n      <th>50%</th>\n      <td>17.500000</td>\n    </tr>\n    <tr>\n      <th>75%</th>\n      <td>60.500000</td>\n    </tr>\n    <tr>\n      <th>max</th>\n      <td>247.000000</td>\n    </tr>\n  </tbody>\n</table>\n</div>",
                        "text/plain": "       beer_servings\ncount      44.000000\nmean       37.045455\nstd        49.469725\nmin         0.000000\n25%         4.250000\n50%        17.500000\n75%        60.500000\nmax       247.000000"
                    },
                    "metadata": {},
                    "output_type": "display_data"
                },
                {
                    "name": "stdout",
                    "output_type": "stream",
                    "text": "Summary statistics of beer_servings for continent: Europe\n"
                },
                {
                    "data": {
                        "text/html": "<div>\n<style scoped>\n    .dataframe tbody tr th:only-of-type {\n        vertical-align: middle;\n    }\n\n    .dataframe tbody tr th {\n        vertical-align: top;\n    }\n\n    .dataframe thead th {\n        text-align: right;\n    }\n</style>\n<table border=\"1\" class=\"dataframe\">\n  <thead>\n    <tr style=\"text-align: right;\">\n      <th></th>\n      <th>beer_servings</th>\n    </tr>\n  </thead>\n  <tbody>\n    <tr>\n      <th>count</th>\n      <td>45.000000</td>\n    </tr>\n    <tr>\n      <th>mean</th>\n      <td>193.777778</td>\n    </tr>\n    <tr>\n      <th>std</th>\n      <td>99.631569</td>\n    </tr>\n    <tr>\n      <th>min</th>\n      <td>0.000000</td>\n    </tr>\n    <tr>\n      <th>25%</th>\n      <td>127.000000</td>\n    </tr>\n    <tr>\n      <th>50%</th>\n      <td>219.000000</td>\n    </tr>\n    <tr>\n      <th>75%</th>\n      <td>270.000000</td>\n    </tr>\n    <tr>\n      <th>max</th>\n      <td>361.000000</td>\n    </tr>\n  </tbody>\n</table>\n</div>",
                        "text/plain": "       beer_servings\ncount      45.000000\nmean      193.777778\nstd        99.631569\nmin         0.000000\n25%       127.000000\n50%       219.000000\n75%       270.000000\nmax       361.000000"
                    },
                    "metadata": {},
                    "output_type": "display_data"
                },
                {
                    "name": "stdout",
                    "output_type": "stream",
                    "text": "Summary statistics of beer_servings for continent: Africa\n"
                },
                {
                    "data": {
                        "text/html": "<div>\n<style scoped>\n    .dataframe tbody tr th:only-of-type {\n        vertical-align: middle;\n    }\n\n    .dataframe tbody tr th {\n        vertical-align: top;\n    }\n\n    .dataframe thead th {\n        text-align: right;\n    }\n</style>\n<table border=\"1\" class=\"dataframe\">\n  <thead>\n    <tr style=\"text-align: right;\">\n      <th></th>\n      <th>beer_servings</th>\n    </tr>\n  </thead>\n  <tbody>\n    <tr>\n      <th>count</th>\n      <td>53.000000</td>\n    </tr>\n    <tr>\n      <th>mean</th>\n      <td>61.471698</td>\n    </tr>\n    <tr>\n      <th>std</th>\n      <td>80.557816</td>\n    </tr>\n    <tr>\n      <th>min</th>\n      <td>0.000000</td>\n    </tr>\n    <tr>\n      <th>25%</th>\n      <td>15.000000</td>\n    </tr>\n    <tr>\n      <th>50%</th>\n      <td>32.000000</td>\n    </tr>\n    <tr>\n      <th>75%</th>\n      <td>76.000000</td>\n    </tr>\n    <tr>\n      <th>max</th>\n      <td>376.000000</td>\n    </tr>\n  </tbody>\n</table>\n</div>",
                        "text/plain": "       beer_servings\ncount      53.000000\nmean       61.471698\nstd        80.557816\nmin         0.000000\n25%        15.000000\n50%        32.000000\n75%        76.000000\nmax       376.000000"
                    },
                    "metadata": {},
                    "output_type": "display_data"
                },
                {
                    "name": "stdout",
                    "output_type": "stream",
                    "text": "Summary statistics of beer_servings for continent: North America\n"
                },
                {
                    "data": {
                        "text/html": "<div>\n<style scoped>\n    .dataframe tbody tr th:only-of-type {\n        vertical-align: middle;\n    }\n\n    .dataframe tbody tr th {\n        vertical-align: top;\n    }\n\n    .dataframe thead th {\n        text-align: right;\n    }\n</style>\n<table border=\"1\" class=\"dataframe\">\n  <thead>\n    <tr style=\"text-align: right;\">\n      <th></th>\n      <th>beer_servings</th>\n    </tr>\n  </thead>\n  <tbody>\n    <tr>\n      <th>count</th>\n      <td>23.000000</td>\n    </tr>\n    <tr>\n      <th>mean</th>\n      <td>145.434783</td>\n    </tr>\n    <tr>\n      <th>std</th>\n      <td>79.621163</td>\n    </tr>\n    <tr>\n      <th>min</th>\n      <td>1.000000</td>\n    </tr>\n    <tr>\n      <th>25%</th>\n      <td>80.000000</td>\n    </tr>\n    <tr>\n      <th>50%</th>\n      <td>143.000000</td>\n    </tr>\n    <tr>\n      <th>75%</th>\n      <td>198.000000</td>\n    </tr>\n    <tr>\n      <th>max</th>\n      <td>285.000000</td>\n    </tr>\n  </tbody>\n</table>\n</div>",
                        "text/plain": "       beer_servings\ncount      23.000000\nmean      145.434783\nstd        79.621163\nmin         1.000000\n25%        80.000000\n50%       143.000000\n75%       198.000000\nmax       285.000000"
                    },
                    "metadata": {},
                    "output_type": "display_data"
                },
                {
                    "name": "stdout",
                    "output_type": "stream",
                    "text": "Summary statistics of beer_servings for continent: South America\n"
                },
                {
                    "data": {
                        "text/html": "<div>\n<style scoped>\n    .dataframe tbody tr th:only-of-type {\n        vertical-align: middle;\n    }\n\n    .dataframe tbody tr th {\n        vertical-align: top;\n    }\n\n    .dataframe thead th {\n        text-align: right;\n    }\n</style>\n<table border=\"1\" class=\"dataframe\">\n  <thead>\n    <tr style=\"text-align: right;\">\n      <th></th>\n      <th>beer_servings</th>\n    </tr>\n  </thead>\n  <tbody>\n    <tr>\n      <th>count</th>\n      <td>12.000000</td>\n    </tr>\n    <tr>\n      <th>mean</th>\n      <td>175.083333</td>\n    </tr>\n    <tr>\n      <th>std</th>\n      <td>65.242845</td>\n    </tr>\n    <tr>\n      <th>min</th>\n      <td>93.000000</td>\n    </tr>\n    <tr>\n      <th>25%</th>\n      <td>129.500000</td>\n    </tr>\n    <tr>\n      <th>50%</th>\n      <td>162.500000</td>\n    </tr>\n    <tr>\n      <th>75%</th>\n      <td>198.000000</td>\n    </tr>\n    <tr>\n      <th>max</th>\n      <td>333.000000</td>\n    </tr>\n  </tbody>\n</table>\n</div>",
                        "text/plain": "       beer_servings\ncount      12.000000\nmean      175.083333\nstd        65.242845\nmin        93.000000\n25%       129.500000\n50%       162.500000\n75%       198.000000\nmax       333.000000"
                    },
                    "metadata": {},
                    "output_type": "display_data"
                },
                {
                    "name": "stdout",
                    "output_type": "stream",
                    "text": "Summary statistics of beer_servings for continent: Oceania\n"
                },
                {
                    "data": {
                        "text/html": "<div>\n<style scoped>\n    .dataframe tbody tr th:only-of-type {\n        vertical-align: middle;\n    }\n\n    .dataframe tbody tr th {\n        vertical-align: top;\n    }\n\n    .dataframe thead th {\n        text-align: right;\n    }\n</style>\n<table border=\"1\" class=\"dataframe\">\n  <thead>\n    <tr style=\"text-align: right;\">\n      <th></th>\n      <th>beer_servings</th>\n    </tr>\n  </thead>\n  <tbody>\n    <tr>\n      <th>count</th>\n      <td>16.000000</td>\n    </tr>\n    <tr>\n      <th>mean</th>\n      <td>89.687500</td>\n    </tr>\n    <tr>\n      <th>std</th>\n      <td>96.641412</td>\n    </tr>\n    <tr>\n      <th>min</th>\n      <td>0.000000</td>\n    </tr>\n    <tr>\n      <th>25%</th>\n      <td>21.000000</td>\n    </tr>\n    <tr>\n      <th>50%</th>\n      <td>52.500000</td>\n    </tr>\n    <tr>\n      <th>75%</th>\n      <td>125.750000</td>\n    </tr>\n    <tr>\n      <th>max</th>\n      <td>306.000000</td>\n    </tr>\n  </tbody>\n</table>\n</div>",
                        "text/plain": "       beer_servings\ncount      16.000000\nmean       89.687500\nstd        96.641412\nmin         0.000000\n25%        21.000000\n50%        52.500000\n75%       125.750000\nmax       306.000000"
                    },
                    "metadata": {},
                    "output_type": "display_data"
                }
            ],
            "source": "# Summary statistics by continent\n\ncontinents = df[\"continent\"].unique()\ndf_beer = df[[\"beer_servings\", \"continent\"]]\nfor cont in continents:\n    print(\"Summary statistics of beer_servings for continent:\", cont)\n    df_beer_cont = df_beer[df_beer[\"continent\"] == cont]\n    display(df_beer_cont.describe())\n"
        },
        {
            "cell_type": "code",
            "execution_count": 99,
            "metadata": {},
            "outputs": [
                {
                    "data": {
                        "text/html": "<div>\n<style scoped>\n    .dataframe tbody tr th:only-of-type {\n        vertical-align: middle;\n    }\n\n    .dataframe tbody tr th {\n        vertical-align: top;\n    }\n\n    .dataframe thead th {\n        text-align: right;\n    }\n</style>\n<table border=\"1\" class=\"dataframe\">\n  <thead>\n    <tr style=\"text-align: right;\">\n      <th></th>\n      <th>continent</th>\n    </tr>\n  </thead>\n  <tbody>\n    <tr>\n      <th>Africa</th>\n      <td>53</td>\n    </tr>\n    <tr>\n      <th>Europe</th>\n      <td>45</td>\n    </tr>\n    <tr>\n      <th>Asia</th>\n      <td>44</td>\n    </tr>\n    <tr>\n      <th>North America</th>\n      <td>23</td>\n    </tr>\n    <tr>\n      <th>Oceania</th>\n      <td>16</td>\n    </tr>\n    <tr>\n      <th>South America</th>\n      <td>12</td>\n    </tr>\n  </tbody>\n</table>\n</div>",
                        "text/plain": "               continent\nAfrica                53\nEurope                45\nAsia                  44\nNorth America         23\nOceania               16\nSouth America         12"
                    },
                    "execution_count": 99,
                    "metadata": {},
                    "output_type": "execute_result"
                }
            ],
            "source": "# Number of entries by continent\n\ndf[\"continent\"].value_counts().to_frame()"
        },
        {
            "cell_type": "code",
            "execution_count": 100,
            "metadata": {},
            "outputs": [
                {
                    "data": {
                        "text/html": "<div>\n<style scoped>\n    .dataframe tbody tr th:only-of-type {\n        vertical-align: middle;\n    }\n\n    .dataframe tbody tr th {\n        vertical-align: top;\n    }\n\n    .dataframe thead th {\n        text-align: right;\n    }\n</style>\n<table border=\"1\" class=\"dataframe\">\n  <thead>\n    <tr style=\"text-align: right;\">\n      <th></th>\n      <th>continent</th>\n      <th>mean beer servings</th>\n    </tr>\n  </thead>\n  <tbody>\n    <tr>\n      <th>0</th>\n      <td>Africa</td>\n      <td>61.471698</td>\n    </tr>\n    <tr>\n      <th>1</th>\n      <td>Asia</td>\n      <td>37.045455</td>\n    </tr>\n    <tr>\n      <th>2</th>\n      <td>Europe</td>\n      <td>193.777778</td>\n    </tr>\n    <tr>\n      <th>3</th>\n      <td>North America</td>\n      <td>145.434783</td>\n    </tr>\n    <tr>\n      <th>4</th>\n      <td>Oceania</td>\n      <td>89.687500</td>\n    </tr>\n    <tr>\n      <th>5</th>\n      <td>South America</td>\n      <td>175.083333</td>\n    </tr>\n  </tbody>\n</table>\n</div>",
                        "text/plain": "       continent  mean beer servings\n0         Africa           61.471698\n1           Asia           37.045455\n2         Europe          193.777778\n3  North America          145.434783\n4        Oceania           89.687500\n5  South America          175.083333"
                    },
                    "execution_count": 100,
                    "metadata": {},
                    "output_type": "execute_result"
                }
            ],
            "source": "# mean beer_servings by continent\n\ndf_mean_beer_servings = df_beer.groupby(\"continent\", as_index=False).mean()\ndf_mean_beer_servings.rename(columns={\"beer_servings\":\"mean beer servings\"}, inplace=True)\ndf_mean_beer_servings"
        },
        {
            "cell_type": "markdown",
            "metadata": {},
            "source": "<b>Question 4:</b> Use the function\u202fboxplot\u202fin the seaborn library to produce a plot that can be used to show the number of beer servings on each continent."
        },
        {
            "cell_type": "code",
            "execution_count": 101,
            "metadata": {},
            "outputs": [
                {
                    "data": {
                        "text/plain": "<matplotlib.axes._subplots.AxesSubplot at 0x7f715c1b85c0>"
                    },
                    "execution_count": 101,
                    "metadata": {},
                    "output_type": "execute_result"
                },
                {
                    "data": {
                        "image/png": "[encoded data removed]",
                        "text/plain": "<Figure size 432x288 with 1 Axes>"
                    },
                    "metadata": {
                        "needs_background": "light"
                    },
                    "output_type": "display_data"
                }
            ],
            "source": "# boxplot of beer_servings by continent\n\nimport seaborn as sns\nsns.boxplot(x=\"continent\", y=\"beer_servings\", data=df)"
        },
        {
            "cell_type": "markdown",
            "metadata": {},
            "source": "From the boxplot above we can intuitively suspect that continent makes a difference in beer_servings."
        },
        {
            "cell_type": "code",
            "execution_count": 102,
            "metadata": {},
            "outputs": [
                {
                    "name": "stdout",
                    "output_type": "stream",
                    "text": "ANOVA results: F= 23.51946538550699 , P = 2.6360344594924106e-18\n"
                }
            ],
            "source": "# ANOVA of beer_servings for the different continents\n\nfrom scipy import stats\ndf_group = df.groupby(\"continent\", as_index = False)\nf_val, p_val = stats.f_oneway(df_group.get_group('Asia')[\"beer_servings\"], df_group.get_group('Europe')[\"beer_servings\"], \n                              df_group.get_group('Africa')[\"beer_servings\"], df_group.get_group('Oceania')[\"beer_servings\"], \n                              df_group.get_group('North America')[\"beer_servings\"], df_group.get_group('South America')[\"beer_servings\"])\nprint(\"ANOVA results: F=\", f_val, \", P =\", p_val)"
        },
        {
            "cell_type": "markdown",
            "metadata": {},
            "source": "ANOVA results confirm what we intuitively thought from the boxplots: there is significant difference among the mean of beer_servings of the different continents\""
        },
        {
            "cell_type": "markdown",
            "metadata": {},
            "source": "<b>Question 5</b>: Use the function\u202f<code> regplot</code> in the seaborn library to determine if the number of wine servings is\nnegatively or positively correlated with the number of beer servings."
        },
        {
            "cell_type": "code",
            "execution_count": 103,
            "metadata": {},
            "outputs": [
                {
                    "data": {
                        "text/html": "<div>\n<style scoped>\n    .dataframe tbody tr th:only-of-type {\n        vertical-align: middle;\n    }\n\n    .dataframe tbody tr th {\n        vertical-align: top;\n    }\n\n    .dataframe thead th {\n        text-align: right;\n    }\n</style>\n<table border=\"1\" class=\"dataframe\">\n  <thead>\n    <tr style=\"text-align: right;\">\n      <th></th>\n      <th>beer_servings</th>\n      <th>spirit_servings</th>\n      <th>wine_servings</th>\n      <th>total_litres_of_pure_alcohol</th>\n    </tr>\n  </thead>\n  <tbody>\n    <tr>\n      <th>beer_servings</th>\n      <td>1.000000</td>\n      <td>0.458819</td>\n      <td>0.527172</td>\n      <td>0.835839</td>\n    </tr>\n    <tr>\n      <th>spirit_servings</th>\n      <td>0.458819</td>\n      <td>1.000000</td>\n      <td>0.194797</td>\n      <td>0.654968</td>\n    </tr>\n    <tr>\n      <th>wine_servings</th>\n      <td>0.527172</td>\n      <td>0.194797</td>\n      <td>1.000000</td>\n      <td>0.667598</td>\n    </tr>\n    <tr>\n      <th>total_litres_of_pure_alcohol</th>\n      <td>0.835839</td>\n      <td>0.654968</td>\n      <td>0.667598</td>\n      <td>1.000000</td>\n    </tr>\n  </tbody>\n</table>\n</div>",
                        "text/plain": "                              beer_servings  spirit_servings  wine_servings  \\\nbeer_servings                      1.000000         0.458819       0.527172   \nspirit_servings                    0.458819         1.000000       0.194797   \nwine_servings                      0.527172         0.194797       1.000000   \ntotal_litres_of_pure_alcohol       0.835839         0.654968       0.667598   \n\n                              total_litres_of_pure_alcohol  \nbeer_servings                                     0.835839  \nspirit_servings                                   0.654968  \nwine_servings                                     0.667598  \ntotal_litres_of_pure_alcohol                      1.000000  "
                    },
                    "execution_count": 103,
                    "metadata": {},
                    "output_type": "execute_result"
                }
            ],
            "source": "df.corr()"
        },
        {
            "cell_type": "code",
            "execution_count": 104,
            "metadata": {},
            "outputs": [
                {
                    "data": {
                        "text/plain": "<matplotlib.axes._subplots.AxesSubplot at 0x7f715cb55b38>"
                    },
                    "execution_count": 104,
                    "metadata": {},
                    "output_type": "execute_result"
                },
                {
                    "data": {
                        "image/png": "[encoded data removed]",
                        "text/plain": "<Figure size 432x288 with 1 Axes>"
                    },
                    "metadata": {
                        "needs_background": "light"
                    },
                    "output_type": "display_data"
                }
            ],
            "source": "sns.regplot(x=\"wine_servings\", y=\"beer_servings\", data=df)"
        },
        {
            "cell_type": "code",
            "execution_count": 112,
            "metadata": {},
            "outputs": [
                {
                    "data": {
                        "text/plain": "<matplotlib.axes._subplots.AxesSubplot at 0x7f715c0c8f28>"
                    },
                    "execution_count": 112,
                    "metadata": {},
                    "output_type": "execute_result"
                },
                {
                    "data": {
                        "image/png": "[encoded data removed]",
                        "text/plain": "<Figure size 432x288 with 1 Axes>"
                    },
                    "metadata": {
                        "needs_background": "light"
                    },
                    "output_type": "display_data"
                }
            ],
            "source": "sns.residplot(X,y)"
        },
        {
            "cell_type": "markdown",
            "metadata": {},
            "source": "The residual plot shows that the linear model is not a very good assumption."
        },
        {
            "cell_type": "code",
            "execution_count": 105,
            "metadata": {},
            "outputs": [
                {
                    "data": {
                        "text/plain": "(0.5271716935065212, 3.378401743961326e-15)"
                    },
                    "execution_count": 105,
                    "metadata": {},
                    "output_type": "execute_result"
                }
            ],
            "source": "from scipy import stats\nstats.pearsonr(df[\"beer_servings\"], df[\"wine_servings\"])"
        },
        {
            "cell_type": "markdown",
            "metadata": {},
            "source": "There is a positive correlation between wine_servings and beer_servings"
        },
        {
            "cell_type": "markdown",
            "metadata": {},
            "source": "<b> Question 6:</b> Fit a linear regression model to predict the <code>'total_litres_of_pure_alcohol'</code> using the number of #<code>'wine_servings'</code> then calculate $R^{2}$:\n"
        },
        {
            "cell_type": "code",
            "execution_count": 136,
            "metadata": {},
            "outputs": [
                {
                    "name": "stdout",
                    "output_type": "stream",
                    "text": "R^2 is 0.4456875459787605\n"
                }
            ],
            "source": "# SLR model with predict variable: wine_servings\n\nfrom sklearn.linear_model import LinearRegression\nlr = LinearRegression()\nx = df[[\"wine_servings\"]]\ny = df[[\"total_litres_of_pure_alcohol\"]]\nlr.fit(x,y)\nR_sqr = lr.score(x,y)\nprint(\"R^2 is\", R_sqr)"
        },
        {
            "cell_type": "markdown",
            "metadata": {},
            "source": "# Question 7\nUse the list of features to predict the <code>'total_litres_of_pure_alcohol'</code>, split the data into training and testing and determine the $R^2$ on the test data, using the provided code:"
        },
        {
            "cell_type": "code",
            "execution_count": 137,
            "metadata": {},
            "outputs": [
                {
                    "name": "stdout",
                    "output_type": "stream",
                    "text": "R^2 is 0.9217497790368347\n"
                }
            ],
            "source": "# MLR model with 3 predict variables: \"wine_servings\", \"beer_servings\", \"spirit_servings\">\n\nfrom sklearn.model_selection import train_test_split\nx_data = df[[\"wine_servings\", \"beer_servings\", \"spirit_servings\"]]\ny_data = df[[\"total_litres_of_pure_alcohol\"]]\nx_train, x_test, y_train, y_test = train_test_split(x_data, y_data, test_size=0.30, random_state=2)\nlr.fit(x_train, y_train)\nR_sqr = lr.score(x_test, y_test)\nprint(\"R^2 is\", R_sqr)"
        },
        {
            "cell_type": "code",
            "execution_count": 139,
            "metadata": {},
            "outputs": [
                {
                    "name": "stdout",
                    "output_type": "stream",
                    "text": "R^2 is 0.9284800363206429\n"
                }
            ],
            "source": "# MLR model with additional continent values as dummy variables, 9 predict variables in total.\n\ndummies = pd.get_dummies(df[\"continent\"])\nx_data1 = pd.concat([x_data, dummies], axis = 1)\nx_train1, x_test1, y_train1, y_test1 = train_test_split(x_data1, y_data, test_size=0.30, random_state=2)\nlr.fit(x_train1, y_train1)\nR_sqr = lr.score(x_test1, y_test1)\nprint(\"R^2 is\", R_sqr)"
        },
        {
            "cell_type": "markdown",
            "metadata": {},
            "source": "Conclusion: Adding dummy variables improved only a few decimals the $R^{2}$."
        },
        {
            "cell_type": "markdown",
            "metadata": {},
            "source": "<b>Question 8 :</b> Create a pipeline object that scales the data, performs a polynomial transform and fits a linear regression model. Fit the object using the training data in the question above, then calculate the R^2 using. the test data. Take a screenshot of your code and the $R^{2}$."
        },
        {
            "cell_type": "code",
            "execution_count": 145,
            "metadata": {},
            "outputs": [
                {
                    "name": "stdout",
                    "output_type": "stream",
                    "text": "R^2 is 0.9261790586186855\n"
                },
                {
                    "name": "stderr",
                    "output_type": "stream",
                    "text": "/opt/conda/envs/Python36/lib/python3.6/site-packages/sklearn/preprocessing/data.py:645: DataConversionWarning: Data with input dtype int64 were all converted to float64 by StandardScaler.\n  return self.partial_fit(X, y)\n/opt/conda/envs/Python36/lib/python3.6/site-packages/sklearn/base.py:467: DataConversionWarning: Data with input dtype int64 were all converted to float64 by StandardScaler.\n  return self.fit(X, y, **fit_params).transform(X)\n/opt/conda/envs/Python36/lib/python3.6/site-packages/sklearn/pipeline.py:511: DataConversionWarning: Data with input dtype int64 were all converted to float64 by StandardScaler.\n  Xt = transform.transform(Xt)\n"
                }
            ],
            "source": "from sklearn.pipeline import Pipeline\nfrom sklearn.preprocessing import StandardScaler, PolynomialFeatures\n\nInput=[('scale',StandardScaler()), ('polynomial', PolynomialFeatures(degree=2, include_bias=False)), ('model',LinearRegression())]\npipe=Pipeline(Input)\npipe.fit(x_train,y_train)\nR_sqr = pipe.score(x_test, y_test)\nprint(\"R^2 is\", R_sqr)"
        },
        {
            "cell_type": "markdown",
            "metadata": {},
            "source": "<b>Question 9</b>: Create and fit a Ridge regression object using the training data, setting the regularization parameter to 0.1 and calculate the $R^{2}$ using the test data. Take a screenshot of your code and the $R^{2}$"
        },
        {
            "cell_type": "code",
            "execution_count": 165,
            "metadata": {},
            "outputs": [
                {
                    "name": "stdout",
                    "output_type": "stream",
                    "text": "R^2 is 0.9217497797804697\n"
                }
            ],
            "source": "# MLR with Ridge alpha hyperparameter = 0.1\n\nfrom sklearn.linear_model import Ridge\n\nRidgeModel=Ridge(alpha=0.1)\nRidgeModel.fit(x_train, y_train)\nR_sqr = RidgeModel.score(x_test, y_test)\nprint(\"R^2 is\", R_sqr)"
        },
        {
            "cell_type": "markdown",
            "metadata": {},
            "source": "<b>Question 10 </b>: Perform a 2nd order polynomial transform on both the training data and testing data.  Create and fit a Ridge regression object using the training data, setting the regularization parameter to 0.1. Calculate the $R^{2}$ utilizing the test data provided. Take a screen-shot of your code and the $R^{2}$. "
        },
        {
            "cell_type": "code",
            "execution_count": 166,
            "metadata": {},
            "outputs": [
                {
                    "name": "stdout",
                    "output_type": "stream",
                    "text": "R^2 is 0.9217497797804697\n"
                }
            ],
            "source": "# 2nd order Polynomial with 3 independent variables regression with Ridge alpha hyperparameter = 0.1\n\npoly = PolynomialFeatures(degree=2)\nx_train_tr = poly.fit_transform(x_train)\nx_test_tr = poly.fit_transform(x_test)\nRidgeModel=Ridge(alpha=0.1)\nRidgeModel.fit(x_train_tr, y_train)\nRidgeModel.score(x_test_tr, y_test)\nprint(\"R^2 is\", R_sqr)"
        },
        {
            "cell_type": "markdown",
            "metadata": {},
            "source": "<a href=\"https://dataplatform.cloud.ibm.com/docs/content/wsj/analyze-data/share-notebooks.html\\\" > CLICK HERE </a>  to see how to share your notebook"
        },
        {
            "cell_type": "markdown",
            "metadata": {},
            "source": "<b>Sources</b>"
        },
        {
            "cell_type": "markdown",
            "metadata": {},
            "source": "<a href=https://fivethirtyeight.com/features/dear-mona-followup-where-do-people-drink-the-most-beer-wine-and-spirits/> Dear Mona Followup: Where Do People Drink The Most Beer, Wine And Spirits?</a> by By Mona Chalabi , you can download the dataset <a href=https://github.com/fivethirtyeight/data/tree/master/alcohol-consumption>here</a>."
        }
    ],
    "metadata": {
        "kernelspec": {
            "display_name": "Python 3.6",
            "language": "python",
            "name": "python3"
        },
        "language_info": {
            "codemirror_mode": {
                "name": "ipython",
                "version": 3
            },
            "file_extension": ".py",
            "mimetype": "text/x-python",
            "name": "python",
            "nbconvert_exporter": "python",
            "pygments_lexer": "ipython3",
            "version": "3.6.9"
        }
    },
    "nbformat": 4,
    "nbformat_minor": 2
}