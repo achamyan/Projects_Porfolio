{
    "cells": [
        {
            "cell_type": "markdown",
            "metadata": {
                "collapsed": true
            },
            "source": "# Question 1\n# Which type of complaint should the Department of Housing Preservation and Development of New York City focus on first?\n\n# Data Download"
        },
        {
            "cell_type": "code",
            "execution_count": 2,
            "metadata": {},
            "outputs": [],
            "source": "#Bucket and Credentials\n\n#import types\nimport pandas as pd\nfrom botocore.client import Config\nimport ibm_boto3\n#def __iter__(self): return 0\n\nclient_cred = ibm_boto3.client(service_name='s3',\nibm_api_key_id='rA-GmnuRkJ81A9EsDqha63ZmdFzQjxwCEgASTF2F-OJr',\nibm_auth_endpoint='https://iam.cloud.ibm.com/oidc/token',\nconfig=Config(signature_version='oauth'),\nendpoint_url='https://s3-api.us-geo.objectstorage.service.networklayer.com')\n\nbucket = 'ibmdatascienceandmachinelearningc-donotdelete-pr-bkscl1den6u69w'"
        },
        {
            "cell_type": "code",
            "execution_count": 3,
            "metadata": {},
            "outputs": [
                {
                    "data": {
                        "text/html": "<div>\n<style scoped>\n    .dataframe tbody tr th:only-of-type {\n        vertical-align: middle;\n    }\n\n    .dataframe tbody tr th {\n        vertical-align: top;\n    }\n\n    .dataframe thead th {\n        text-align: right;\n    }\n</style>\n<table border=\"1\" class=\"dataframe\">\n  <thead>\n    <tr style=\"text-align: right;\">\n      <th></th>\n      <th>created_date</th>\n      <th>unique_key</th>\n      <th>complaint_type</th>\n      <th>incident_zip</th>\n      <th>incident_address</th>\n      <th>street_name</th>\n      <th>address_type</th>\n      <th>city</th>\n      <th>resolution_description</th>\n      <th>borough</th>\n      <th>latitude</th>\n      <th>longitude</th>\n      <th>closed_date</th>\n      <th>location_type</th>\n      <th>status</th>\n    </tr>\n  </thead>\n  <tbody>\n    <tr>\n      <th>0</th>\n      <td>2020-07-02T00:53:46.000</td>\n      <td>46724396</td>\n      <td>UNSANITARY CONDITION</td>\n      <td>10453.0</td>\n      <td>1735 DAVIDSON AVENUE</td>\n      <td>DAVIDSON AVENUE</td>\n      <td>ADDRESS</td>\n      <td>BRONX</td>\n      <td>The following complaint conditions are still o...</td>\n      <td>BRONX</td>\n      <td>40.847996</td>\n      <td>-73.913303</td>\n      <td>NaN</td>\n      <td>RESIDENTIAL BUILDING</td>\n      <td>Open</td>\n    </tr>\n    <tr>\n      <th>1</th>\n      <td>2020-07-02T01:30:47.000</td>\n      <td>46723307</td>\n      <td>ELECTRIC</td>\n      <td>11377.0</td>\n      <td>51-28 72 STREET</td>\n      <td>72 STREET</td>\n      <td>ADDRESS</td>\n      <td>Woodside</td>\n      <td>The following complaint conditions are still o...</td>\n      <td>QUEENS</td>\n      <td>40.734983</td>\n      <td>-73.892334</td>\n      <td>NaN</td>\n      <td>RESIDENTIAL BUILDING</td>\n      <td>Open</td>\n    </tr>\n    <tr>\n      <th>2</th>\n      <td>2020-07-02T01:51:58.000</td>\n      <td>46720951</td>\n      <td>ELECTRIC</td>\n      <td>10460.0</td>\n      <td>1967 MARMION AVENUE</td>\n      <td>MARMION AVENUE</td>\n      <td>ADDRESS</td>\n      <td>BRONX</td>\n      <td>The following complaint conditions are still o...</td>\n      <td>BRONX</td>\n      <td>40.843515</td>\n      <td>-73.886672</td>\n      <td>NaN</td>\n      <td>RESIDENTIAL BUILDING</td>\n      <td>Open</td>\n    </tr>\n    <tr>\n      <th>3</th>\n      <td>2020-07-02T01:30:28.000</td>\n      <td>46721660</td>\n      <td>UNSANITARY CONDITION</td>\n      <td>10030.0</td>\n      <td>2500 FREDERICK DOUGLASS BOULEVARD</td>\n      <td>FREDERICK DOUGLASS BOULEVARD</td>\n      <td>ADDRESS</td>\n      <td>NEW YORK</td>\n      <td>The following complaint conditions are still o...</td>\n      <td>MANHATTAN</td>\n      <td>40.815557</td>\n      <td>-73.947222</td>\n      <td>NaN</td>\n      <td>RESIDENTIAL BUILDING</td>\n      <td>Open</td>\n    </tr>\n    <tr>\n      <th>4</th>\n      <td>2020-07-02T01:48:56.000</td>\n      <td>46715042</td>\n      <td>WATER LEAK</td>\n      <td>10456.0</td>\n      <td>1100 FRANKLIN AVENUE</td>\n      <td>FRANKLIN AVENUE</td>\n      <td>ADDRESS</td>\n      <td>BRONX</td>\n      <td>The following complaint conditions are still o...</td>\n      <td>BRONX</td>\n      <td>40.827819</td>\n      <td>-73.906298</td>\n      <td>NaN</td>\n      <td>RESIDENTIAL BUILDING</td>\n      <td>Open</td>\n    </tr>\n  </tbody>\n</table>\n</div>",
                        "text/plain": "              created_date  unique_key        complaint_type  incident_zip  \\\n0  2020-07-02T00:53:46.000    46724396  UNSANITARY CONDITION       10453.0   \n1  2020-07-02T01:30:47.000    46723307              ELECTRIC       11377.0   \n2  2020-07-02T01:51:58.000    46720951              ELECTRIC       10460.0   \n3  2020-07-02T01:30:28.000    46721660  UNSANITARY CONDITION       10030.0   \n4  2020-07-02T01:48:56.000    46715042            WATER LEAK       10456.0   \n\n                    incident_address                   street_name  \\\n0               1735 DAVIDSON AVENUE               DAVIDSON AVENUE   \n1                    51-28 72 STREET                     72 STREET   \n2                1967 MARMION AVENUE                MARMION AVENUE   \n3  2500 FREDERICK DOUGLASS BOULEVARD  FREDERICK DOUGLASS BOULEVARD   \n4               1100 FRANKLIN AVENUE               FRANKLIN AVENUE   \n\n  address_type      city                             resolution_description  \\\n0      ADDRESS     BRONX  The following complaint conditions are still o...   \n1      ADDRESS  Woodside  The following complaint conditions are still o...   \n2      ADDRESS     BRONX  The following complaint conditions are still o...   \n3      ADDRESS  NEW YORK  The following complaint conditions are still o...   \n4      ADDRESS     BRONX  The following complaint conditions are still o...   \n\n     borough   latitude  longitude closed_date         location_type status  \n0      BRONX  40.847996 -73.913303         NaN  RESIDENTIAL BUILDING   Open  \n1     QUEENS  40.734983 -73.892334         NaN  RESIDENTIAL BUILDING   Open  \n2      BRONX  40.843515 -73.886672         NaN  RESIDENTIAL BUILDING   Open  \n3  MANHATTAN  40.815557 -73.947222         NaN  RESIDENTIAL BUILDING   Open  \n4      BRONX  40.827819 -73.906298         NaN  RESIDENTIAL BUILDING   Open  "
                    },
                    "execution_count": 3,
                    "metadata": {},
                    "output_type": "execute_result"
                }
            ],
            "source": "# Download NYC 311 Calls Dataset\n\nclient_cred.download_file(Bucket=bucket, Key='df_raw_cos.pkl', Filename='./df_raw_local.pkl')\ndf = pd.read_pickle('./df_raw_local.pkl')\ndf.head()"
        },
        {
            "cell_type": "code",
            "execution_count": 4,
            "metadata": {},
            "outputs": [
                {
                    "data": {
                        "text/html": "<div>\n<style scoped>\n    .dataframe tbody tr th:only-of-type {\n        vertical-align: middle;\n    }\n\n    .dataframe tbody tr th {\n        vertical-align: top;\n    }\n\n    .dataframe thead th {\n        text-align: right;\n    }\n</style>\n<table border=\"1\" class=\"dataframe\">\n  <thead>\n    <tr style=\"text-align: right;\">\n      <th></th>\n      <th>Borough</th>\n      <th>Block</th>\n      <th>Lot</th>\n      <th>CD</th>\n      <th>CT2010</th>\n      <th>CB2010</th>\n      <th>SchoolDist</th>\n      <th>Council</th>\n      <th>ZipCode</th>\n      <th>FireComp</th>\n      <th>...</th>\n      <th>ZMCode</th>\n      <th>Sanborn</th>\n      <th>TaxMap</th>\n      <th>EDesigNum</th>\n      <th>APPBBL</th>\n      <th>APPDate</th>\n      <th>PLUTOMapID</th>\n      <th>FIRM07_FLAG</th>\n      <th>PFIRM15_FLAG</th>\n      <th>Version</th>\n    </tr>\n  </thead>\n  <tbody>\n    <tr>\n      <th>0</th>\n      <td>BK</td>\n      <td>1</td>\n      <td>1</td>\n      <td>302</td>\n      <td>21.0</td>\n      <td>NaN</td>\n      <td>13.0</td>\n      <td>33.0</td>\n      <td>11201.0</td>\n      <td>L118</td>\n      <td>...</td>\n      <td>NaN</td>\n      <td>302 007</td>\n      <td>30101.0</td>\n      <td>NaN</td>\n      <td>3.000010e+09</td>\n      <td>11/26/2013</td>\n      <td>1</td>\n      <td>1.0</td>\n      <td>1.0</td>\n      <td>18V1</td>\n    </tr>\n    <tr>\n      <th>1</th>\n      <td>BK</td>\n      <td>1</td>\n      <td>50</td>\n      <td>302</td>\n      <td>21.0</td>\n      <td>2000.0</td>\n      <td>13.0</td>\n      <td>33.0</td>\n      <td>11201.0</td>\n      <td>L118</td>\n      <td>...</td>\n      <td>NaN</td>\n      <td>302 007</td>\n      <td>30101.0</td>\n      <td>E-231</td>\n      <td>0.000000e+00</td>\n      <td>NaN</td>\n      <td>1</td>\n      <td>1.0</td>\n      <td>1.0</td>\n      <td>18V1</td>\n    </tr>\n    <tr>\n      <th>2</th>\n      <td>BK</td>\n      <td>1</td>\n      <td>7501</td>\n      <td>302</td>\n      <td>21.0</td>\n      <td>2000.0</td>\n      <td>13.0</td>\n      <td>33.0</td>\n      <td>11201.0</td>\n      <td>L118</td>\n      <td>...</td>\n      <td>NaN</td>\n      <td>302 007</td>\n      <td>30101.0</td>\n      <td>NaN</td>\n      <td>3.000010e+09</td>\n      <td>03/04/2016</td>\n      <td>1</td>\n      <td>1.0</td>\n      <td>1.0</td>\n      <td>18V1</td>\n    </tr>\n    <tr>\n      <th>3</th>\n      <td>BK</td>\n      <td>3</td>\n      <td>1</td>\n      <td>302</td>\n      <td>21.0</td>\n      <td>3002.0</td>\n      <td>13.0</td>\n      <td>33.0</td>\n      <td>11201.0</td>\n      <td>L118</td>\n      <td>...</td>\n      <td>NaN</td>\n      <td>302 007</td>\n      <td>30101.0</td>\n      <td>NaN</td>\n      <td>0.000000e+00</td>\n      <td>NaN</td>\n      <td>1</td>\n      <td>1.0</td>\n      <td>1.0</td>\n      <td>18V1</td>\n    </tr>\n    <tr>\n      <th>4</th>\n      <td>BK</td>\n      <td>3</td>\n      <td>5</td>\n      <td>302</td>\n      <td>21.0</td>\n      <td>NaN</td>\n      <td>13.0</td>\n      <td>33.0</td>\n      <td>11201.0</td>\n      <td>L118</td>\n      <td>...</td>\n      <td>NaN</td>\n      <td>302 007</td>\n      <td>30101.0</td>\n      <td>NaN</td>\n      <td>0.000000e+00</td>\n      <td>NaN</td>\n      <td>4</td>\n      <td>1.0</td>\n      <td>1.0</td>\n      <td>18V1</td>\n    </tr>\n  </tbody>\n</table>\n<p>5 rows \u00d7 87 columns</p>\n</div>",
                        "text/plain": "  Borough  Block   Lot   CD  CT2010  CB2010  SchoolDist  Council  ZipCode  \\\n0      BK      1     1  302    21.0     NaN        13.0     33.0  11201.0   \n1      BK      1    50  302    21.0  2000.0        13.0     33.0  11201.0   \n2      BK      1  7501  302    21.0  2000.0        13.0     33.0  11201.0   \n3      BK      3     1  302    21.0  3002.0        13.0     33.0  11201.0   \n4      BK      3     5  302    21.0     NaN        13.0     33.0  11201.0   \n\n  FireComp  ...  ZMCode  Sanborn   TaxMap  EDesigNum        APPBBL  \\\n0     L118  ...     NaN  302 007  30101.0        NaN  3.000010e+09   \n1     L118  ...     NaN  302 007  30101.0      E-231  0.000000e+00   \n2     L118  ...     NaN  302 007  30101.0        NaN  3.000010e+09   \n3     L118  ...     NaN  302 007  30101.0        NaN  0.000000e+00   \n4     L118  ...     NaN  302 007  30101.0        NaN  0.000000e+00   \n\n      APPDate PLUTOMapID FIRM07_FLAG PFIRM15_FLAG Version  \n0  11/26/2013          1         1.0          1.0    18V1  \n1         NaN          1         1.0          1.0    18V1  \n2  03/04/2016          1         1.0          1.0    18V1  \n3         NaN          1         1.0          1.0    18V1  \n4         NaN          4         1.0          1.0    18V1  \n\n[5 rows x 87 columns]"
                    },
                    "execution_count": 4,
                    "metadata": {},
                    "output_type": "execute_result"
                }
            ],
            "source": "# Download NYC PLUTO file Brooklyn \n\nclient_cred.download_file(Bucket=bucket, Key='df_data_4_raw_cos.pkl', Filename='./df1.pkl')\ndf_BR = pd.read_pickle('./df1.pkl')\ndf_BR.head()"
        },
        {
            "cell_type": "code",
            "execution_count": 5,
            "metadata": {},
            "outputs": [
                {
                    "data": {
                        "text/html": "<div>\n<style scoped>\n    .dataframe tbody tr th:only-of-type {\n        vertical-align: middle;\n    }\n\n    .dataframe tbody tr th {\n        vertical-align: top;\n    }\n\n    .dataframe thead th {\n        text-align: right;\n    }\n</style>\n<table border=\"1\" class=\"dataframe\">\n  <thead>\n    <tr style=\"text-align: right;\">\n      <th></th>\n      <th>Borough</th>\n      <th>Block</th>\n      <th>Lot</th>\n      <th>CD</th>\n      <th>CT2010</th>\n      <th>CB2010</th>\n      <th>SchoolDist</th>\n      <th>Council</th>\n      <th>ZipCode</th>\n      <th>FireComp</th>\n      <th>...</th>\n      <th>ZMCode</th>\n      <th>Sanborn</th>\n      <th>TaxMap</th>\n      <th>EDesigNum</th>\n      <th>APPBBL</th>\n      <th>APPDate</th>\n      <th>PLUTOMapID</th>\n      <th>FIRM07_FLAG</th>\n      <th>PFIRM15_FLAG</th>\n      <th>Version</th>\n    </tr>\n  </thead>\n  <tbody>\n    <tr>\n      <th>0</th>\n      <td>BX</td>\n      <td>2260</td>\n      <td>1</td>\n      <td>201</td>\n      <td>19.0</td>\n      <td>1022.0</td>\n      <td>7.0</td>\n      <td>8.0</td>\n      <td>10454.0</td>\n      <td>L029</td>\n      <td>...</td>\n      <td>NaN</td>\n      <td>209S016</td>\n      <td>20901.0</td>\n      <td>E-143</td>\n      <td>0.0</td>\n      <td>NaN</td>\n      <td>1</td>\n      <td>NaN</td>\n      <td>NaN</td>\n      <td>18V1</td>\n    </tr>\n    <tr>\n      <th>1</th>\n      <td>BX</td>\n      <td>2260</td>\n      <td>4</td>\n      <td>201</td>\n      <td>19.0</td>\n      <td>1022.0</td>\n      <td>7.0</td>\n      <td>8.0</td>\n      <td>10454.0</td>\n      <td>L029</td>\n      <td>...</td>\n      <td>NaN</td>\n      <td>209S016</td>\n      <td>20901.0</td>\n      <td>E-143</td>\n      <td>0.0</td>\n      <td>NaN</td>\n      <td>1</td>\n      <td>NaN</td>\n      <td>NaN</td>\n      <td>18V1</td>\n    </tr>\n    <tr>\n      <th>2</th>\n      <td>BX</td>\n      <td>2260</td>\n      <td>10</td>\n      <td>201</td>\n      <td>19.0</td>\n      <td>1022.0</td>\n      <td>7.0</td>\n      <td>8.0</td>\n      <td>10454.0</td>\n      <td>L029</td>\n      <td>...</td>\n      <td>NaN</td>\n      <td>209S016</td>\n      <td>20901.0</td>\n      <td>E-143</td>\n      <td>0.0</td>\n      <td>NaN</td>\n      <td>1</td>\n      <td>NaN</td>\n      <td>NaN</td>\n      <td>18V1</td>\n    </tr>\n    <tr>\n      <th>3</th>\n      <td>BX</td>\n      <td>2260</td>\n      <td>17</td>\n      <td>201</td>\n      <td>19.0</td>\n      <td>1022.0</td>\n      <td>7.0</td>\n      <td>8.0</td>\n      <td>10454.0</td>\n      <td>L029</td>\n      <td>...</td>\n      <td>NaN</td>\n      <td>209S016</td>\n      <td>20901.0</td>\n      <td>E-143</td>\n      <td>0.0</td>\n      <td>NaN</td>\n      <td>1</td>\n      <td>NaN</td>\n      <td>NaN</td>\n      <td>18V1</td>\n    </tr>\n    <tr>\n      <th>4</th>\n      <td>BX</td>\n      <td>2260</td>\n      <td>18</td>\n      <td>201</td>\n      <td>19.0</td>\n      <td>1022.0</td>\n      <td>7.0</td>\n      <td>8.0</td>\n      <td>10454.0</td>\n      <td>L029</td>\n      <td>...</td>\n      <td>NaN</td>\n      <td>209S016</td>\n      <td>20901.0</td>\n      <td>E-143</td>\n      <td>0.0</td>\n      <td>NaN</td>\n      <td>1</td>\n      <td>NaN</td>\n      <td>NaN</td>\n      <td>18V1</td>\n    </tr>\n  </tbody>\n</table>\n<p>5 rows \u00d7 87 columns</p>\n</div>",
                        "text/plain": "  Borough  Block  Lot   CD  CT2010  CB2010  SchoolDist  Council  ZipCode  \\\n0      BX   2260    1  201    19.0  1022.0         7.0      8.0  10454.0   \n1      BX   2260    4  201    19.0  1022.0         7.0      8.0  10454.0   \n2      BX   2260   10  201    19.0  1022.0         7.0      8.0  10454.0   \n3      BX   2260   17  201    19.0  1022.0         7.0      8.0  10454.0   \n4      BX   2260   18  201    19.0  1022.0         7.0      8.0  10454.0   \n\n  FireComp  ...  ZMCode  Sanborn   TaxMap  EDesigNum  APPBBL APPDate  \\\n0     L029  ...     NaN  209S016  20901.0      E-143     0.0     NaN   \n1     L029  ...     NaN  209S016  20901.0      E-143     0.0     NaN   \n2     L029  ...     NaN  209S016  20901.0      E-143     0.0     NaN   \n3     L029  ...     NaN  209S016  20901.0      E-143     0.0     NaN   \n4     L029  ...     NaN  209S016  20901.0      E-143     0.0     NaN   \n\n  PLUTOMapID FIRM07_FLAG PFIRM15_FLAG Version  \n0          1         NaN          NaN    18V1  \n1          1         NaN          NaN    18V1  \n2          1         NaN          NaN    18V1  \n3          1         NaN          NaN    18V1  \n4          1         NaN          NaN    18V1  \n\n[5 rows x 87 columns]"
                    },
                    "execution_count": 5,
                    "metadata": {},
                    "output_type": "execute_result"
                }
            ],
            "source": "# Download NYC PLUTO file Bronx\n\nclient_cred.download_file(Bucket=bucket, Key='df_data_5_raw_cos.pkl', Filename='./df1.pkl')\ndf_BX = pd.read_pickle('./df1.pkl')\ndf_BX.head()"
        },
        {
            "cell_type": "code",
            "execution_count": 6,
            "metadata": {},
            "outputs": [
                {
                    "data": {
                        "text/html": "<div>\n<style scoped>\n    .dataframe tbody tr th:only-of-type {\n        vertical-align: middle;\n    }\n\n    .dataframe tbody tr th {\n        vertical-align: top;\n    }\n\n    .dataframe thead th {\n        text-align: right;\n    }\n</style>\n<table border=\"1\" class=\"dataframe\">\n  <thead>\n    <tr style=\"text-align: right;\">\n      <th></th>\n      <th>Borough</th>\n      <th>Block</th>\n      <th>Lot</th>\n      <th>CD</th>\n      <th>CT2010</th>\n      <th>CB2010</th>\n      <th>SchoolDist</th>\n      <th>Council</th>\n      <th>ZipCode</th>\n      <th>FireComp</th>\n      <th>...</th>\n      <th>ZMCode</th>\n      <th>Sanborn</th>\n      <th>TaxMap</th>\n      <th>EDesigNum</th>\n      <th>APPBBL</th>\n      <th>APPDate</th>\n      <th>PLUTOMapID</th>\n      <th>FIRM07_Flag</th>\n      <th>PFIRM15_Flag</th>\n      <th>Version</th>\n    </tr>\n  </thead>\n  <tbody>\n    <tr>\n      <th>0</th>\n      <td>MN</td>\n      <td>1</td>\n      <td>10</td>\n      <td>101</td>\n      <td>5.0</td>\n      <td>1011.0</td>\n      <td>2.0</td>\n      <td>1.0</td>\n      <td>10004.0</td>\n      <td>E007</td>\n      <td>...</td>\n      <td>Y</td>\n      <td>199 999</td>\n      <td>10101.0</td>\n      <td>NaN</td>\n      <td>0.0</td>\n      <td>NaN</td>\n      <td>1</td>\n      <td>1.0</td>\n      <td>1.0</td>\n      <td>18V1</td>\n    </tr>\n    <tr>\n      <th>1</th>\n      <td>MN</td>\n      <td>1</td>\n      <td>101</td>\n      <td>101</td>\n      <td>1.0</td>\n      <td>1001.0</td>\n      <td>2.0</td>\n      <td>1.0</td>\n      <td>10004.0</td>\n      <td>E007</td>\n      <td>...</td>\n      <td>Y</td>\n      <td>199 999</td>\n      <td>10101.0</td>\n      <td>NaN</td>\n      <td>0.0</td>\n      <td>NaN</td>\n      <td>1</td>\n      <td>NaN</td>\n      <td>1.0</td>\n      <td>18V1</td>\n    </tr>\n    <tr>\n      <th>2</th>\n      <td>MN</td>\n      <td>1</td>\n      <td>201</td>\n      <td>101</td>\n      <td>1.0</td>\n      <td>1000.0</td>\n      <td>2.0</td>\n      <td>1.0</td>\n      <td>10004.0</td>\n      <td>E007</td>\n      <td>...</td>\n      <td>NaN</td>\n      <td>199 999</td>\n      <td>10101.0</td>\n      <td>NaN</td>\n      <td>0.0</td>\n      <td>NaN</td>\n      <td>1</td>\n      <td>NaN</td>\n      <td>1.0</td>\n      <td>18V1</td>\n    </tr>\n    <tr>\n      <th>3</th>\n      <td>MN</td>\n      <td>1</td>\n      <td>301</td>\n      <td>101</td>\n      <td>NaN</td>\n      <td>NaN</td>\n      <td>2.0</td>\n      <td>1.0</td>\n      <td>10004.0</td>\n      <td>E007</td>\n      <td>...</td>\n      <td>NaN</td>\n      <td>199 999</td>\n      <td>10101.0</td>\n      <td>NaN</td>\n      <td>0.0</td>\n      <td>NaN</td>\n      <td>4</td>\n      <td>1.0</td>\n      <td>1.0</td>\n      <td>18V1</td>\n    </tr>\n    <tr>\n      <th>4</th>\n      <td>MN</td>\n      <td>1</td>\n      <td>401</td>\n      <td>101</td>\n      <td>NaN</td>\n      <td>NaN</td>\n      <td>2.0</td>\n      <td>1.0</td>\n      <td>10004.0</td>\n      <td>E007</td>\n      <td>...</td>\n      <td>NaN</td>\n      <td>1 99 999</td>\n      <td>10101.0</td>\n      <td>NaN</td>\n      <td>0.0</td>\n      <td>NaN</td>\n      <td>4</td>\n      <td>1.0</td>\n      <td>1.0</td>\n      <td>18V1</td>\n    </tr>\n  </tbody>\n</table>\n<p>5 rows \u00d7 87 columns</p>\n</div>",
                        "text/plain": "  Borough  Block  Lot   CD  CT2010  CB2010  SchoolDist  Council  ZipCode  \\\n0      MN      1   10  101     5.0  1011.0         2.0      1.0  10004.0   \n1      MN      1  101  101     1.0  1001.0         2.0      1.0  10004.0   \n2      MN      1  201  101     1.0  1000.0         2.0      1.0  10004.0   \n3      MN      1  301  101     NaN     NaN         2.0      1.0  10004.0   \n4      MN      1  401  101     NaN     NaN         2.0      1.0  10004.0   \n\n  FireComp  ...  ZMCode   Sanborn   TaxMap  EDesigNum  APPBBL APPDate  \\\n0     E007  ...       Y   199 999  10101.0        NaN     0.0     NaN   \n1     E007  ...       Y   199 999  10101.0        NaN     0.0     NaN   \n2     E007  ...     NaN   199 999  10101.0        NaN     0.0     NaN   \n3     E007  ...     NaN   199 999  10101.0        NaN     0.0     NaN   \n4     E007  ...     NaN  1 99 999  10101.0        NaN     0.0     NaN   \n\n  PLUTOMapID FIRM07_Flag PFIRM15_Flag Version  \n0          1         1.0          1.0    18V1  \n1          1         NaN          1.0    18V1  \n2          1         NaN          1.0    18V1  \n3          4         1.0          1.0    18V1  \n4          4         1.0          1.0    18V1  \n\n[5 rows x 87 columns]"
                    },
                    "execution_count": 6,
                    "metadata": {},
                    "output_type": "execute_result"
                }
            ],
            "source": "# Download NYC PLUTO file Manhatan\n\nclient_cred.download_file(Bucket=bucket, Key='df_data_6_raw_cos.pkl', Filename='./df1.pkl')\ndf_MN = pd.read_pickle('./df1.pkl')\ndf_MN.head()"
        },
        {
            "cell_type": "code",
            "execution_count": 7,
            "metadata": {},
            "outputs": [
                {
                    "data": {
                        "text/html": "<div>\n<style scoped>\n    .dataframe tbody tr th:only-of-type {\n        vertical-align: middle;\n    }\n\n    .dataframe tbody tr th {\n        vertical-align: top;\n    }\n\n    .dataframe thead th {\n        text-align: right;\n    }\n</style>\n<table border=\"1\" class=\"dataframe\">\n  <thead>\n    <tr style=\"text-align: right;\">\n      <th></th>\n      <th>Borough</th>\n      <th>Block</th>\n      <th>Lot</th>\n      <th>CD</th>\n      <th>CT2010</th>\n      <th>CB2010</th>\n      <th>SchoolDist</th>\n      <th>Council</th>\n      <th>ZipCode</th>\n      <th>FireComp</th>\n      <th>...</th>\n      <th>ZMCode</th>\n      <th>Sanborn</th>\n      <th>TaxMap</th>\n      <th>EDesigNum</th>\n      <th>APPBBL</th>\n      <th>APPDate</th>\n      <th>PLUTOMapID</th>\n      <th>FIRM07_FLAG</th>\n      <th>PFIRM15_FLAG</th>\n      <th>Version</th>\n    </tr>\n  </thead>\n  <tbody>\n    <tr>\n      <th>0</th>\n      <td>QN</td>\n      <td>6</td>\n      <td>1</td>\n      <td>402</td>\n      <td>1.0</td>\n      <td>NaN</td>\n      <td>30.0</td>\n      <td>26.0</td>\n      <td>11101.0</td>\n      <td>L115</td>\n      <td>...</td>\n      <td>Y</td>\n      <td>401 011</td>\n      <td>40101.0</td>\n      <td>NaN</td>\n      <td>4.000060e+09</td>\n      <td>09/20/2013</td>\n      <td>1</td>\n      <td>1.0</td>\n      <td>1.0</td>\n      <td>18V1</td>\n    </tr>\n    <tr>\n      <th>1</th>\n      <td>QN</td>\n      <td>6</td>\n      <td>3</td>\n      <td>402</td>\n      <td>1.0</td>\n      <td>1015.0</td>\n      <td>30.0</td>\n      <td>26.0</td>\n      <td>11101.0</td>\n      <td>L115</td>\n      <td>...</td>\n      <td>NaN</td>\n      <td>401 011</td>\n      <td>40101.0</td>\n      <td>NaN</td>\n      <td>0.000000e+00</td>\n      <td>NaN</td>\n      <td>1</td>\n      <td>1.0</td>\n      <td>1.0</td>\n      <td>18V1</td>\n    </tr>\n    <tr>\n      <th>2</th>\n      <td>QN</td>\n      <td>6</td>\n      <td>8</td>\n      <td>402</td>\n      <td>1.0</td>\n      <td>1011.0</td>\n      <td>30.0</td>\n      <td>26.0</td>\n      <td>11101.0</td>\n      <td>L115</td>\n      <td>...</td>\n      <td>NaN</td>\n      <td>401 011</td>\n      <td>40101.0</td>\n      <td>NaN</td>\n      <td>4.000060e+09</td>\n      <td>08/07/2013</td>\n      <td>1</td>\n      <td>1.0</td>\n      <td>1.0</td>\n      <td>18V1</td>\n    </tr>\n    <tr>\n      <th>3</th>\n      <td>QN</td>\n      <td>6</td>\n      <td>20</td>\n      <td>402</td>\n      <td>1.0</td>\n      <td>NaN</td>\n      <td>30.0</td>\n      <td>26.0</td>\n      <td>11101.0</td>\n      <td>L115</td>\n      <td>...</td>\n      <td>NaN</td>\n      <td>401 011</td>\n      <td>40101.0</td>\n      <td>NaN</td>\n      <td>4.000060e+09</td>\n      <td>09/20/2013</td>\n      <td>1</td>\n      <td>1.0</td>\n      <td>1.0</td>\n      <td>18V1</td>\n    </tr>\n    <tr>\n      <th>4</th>\n      <td>QN</td>\n      <td>6</td>\n      <td>30</td>\n      <td>402</td>\n      <td>1.0</td>\n      <td>NaN</td>\n      <td>30.0</td>\n      <td>26.0</td>\n      <td>11101.0</td>\n      <td>L115</td>\n      <td>...</td>\n      <td>NaN</td>\n      <td>401 011</td>\n      <td>40101.0</td>\n      <td>NaN</td>\n      <td>4.000060e+09</td>\n      <td>09/08/2017</td>\n      <td>1</td>\n      <td>1.0</td>\n      <td>1.0</td>\n      <td>18V1</td>\n    </tr>\n  </tbody>\n</table>\n<p>5 rows \u00d7 87 columns</p>\n</div>",
                        "text/plain": "  Borough  Block  Lot   CD  CT2010  CB2010  SchoolDist  Council  ZipCode  \\\n0      QN      6    1  402     1.0     NaN        30.0     26.0  11101.0   \n1      QN      6    3  402     1.0  1015.0        30.0     26.0  11101.0   \n2      QN      6    8  402     1.0  1011.0        30.0     26.0  11101.0   \n3      QN      6   20  402     1.0     NaN        30.0     26.0  11101.0   \n4      QN      6   30  402     1.0     NaN        30.0     26.0  11101.0   \n\n  FireComp  ...  ZMCode  Sanborn   TaxMap  EDesigNum        APPBBL  \\\n0     L115  ...       Y  401 011  40101.0        NaN  4.000060e+09   \n1     L115  ...     NaN  401 011  40101.0        NaN  0.000000e+00   \n2     L115  ...     NaN  401 011  40101.0        NaN  4.000060e+09   \n3     L115  ...     NaN  401 011  40101.0        NaN  4.000060e+09   \n4     L115  ...     NaN  401 011  40101.0        NaN  4.000060e+09   \n\n      APPDate PLUTOMapID FIRM07_FLAG PFIRM15_FLAG Version  \n0  09/20/2013          1         1.0          1.0    18V1  \n1         NaN          1         1.0          1.0    18V1  \n2  08/07/2013          1         1.0          1.0    18V1  \n3  09/20/2013          1         1.0          1.0    18V1  \n4  09/08/2017          1         1.0          1.0    18V1  \n\n[5 rows x 87 columns]"
                    },
                    "execution_count": 7,
                    "metadata": {},
                    "output_type": "execute_result"
                }
            ],
            "source": "# Download NYC PLUTO file Queens\n\nclient_cred.download_file(Bucket=bucket, Key='df_data_7_raw_cos.pkl', Filename='./df1.pkl')\ndf_QN = pd.read_pickle('./df1.pkl')\ndf_QN.head()"
        },
        {
            "cell_type": "code",
            "execution_count": 8,
            "metadata": {
                "scrolled": true
            },
            "outputs": [
                {
                    "data": {
                        "text/html": "<div>\n<style scoped>\n    .dataframe tbody tr th:only-of-type {\n        vertical-align: middle;\n    }\n\n    .dataframe tbody tr th {\n        vertical-align: top;\n    }\n\n    .dataframe thead th {\n        text-align: right;\n    }\n</style>\n<table border=\"1\" class=\"dataframe\">\n  <thead>\n    <tr style=\"text-align: right;\">\n      <th></th>\n      <th>Borough</th>\n      <th>Block</th>\n      <th>Lot</th>\n      <th>CD</th>\n      <th>CT2010</th>\n      <th>CB2010</th>\n      <th>SchoolDist</th>\n      <th>Council</th>\n      <th>ZipCode</th>\n      <th>FireComp</th>\n      <th>...</th>\n      <th>ZMCode</th>\n      <th>Sanborn</th>\n      <th>TaxMap</th>\n      <th>EDesigNum</th>\n      <th>APPBBL</th>\n      <th>APPDate</th>\n      <th>PLUTOMapID</th>\n      <th>FIRM07_FLAG</th>\n      <th>PFIRM15_FLAG</th>\n      <th>Version</th>\n    </tr>\n  </thead>\n  <tbody>\n    <tr>\n      <th>0</th>\n      <td>SI</td>\n      <td>1</td>\n      <td>10</td>\n      <td>501</td>\n      <td>3.0</td>\n      <td>2000.0</td>\n      <td>31.0</td>\n      <td>49.0</td>\n      <td>10301.0</td>\n      <td>L078</td>\n      <td>...</td>\n      <td>NaN</td>\n      <td>501 017</td>\n      <td>50101.0</td>\n      <td>NaN</td>\n      <td>0.0</td>\n      <td>NaN</td>\n      <td>1</td>\n      <td>NaN</td>\n      <td>NaN</td>\n      <td>18V1</td>\n    </tr>\n    <tr>\n      <th>1</th>\n      <td>SI</td>\n      <td>1</td>\n      <td>17</td>\n      <td>501</td>\n      <td>3.0</td>\n      <td>NaN</td>\n      <td>31.0</td>\n      <td>49.0</td>\n      <td>10301.0</td>\n      <td>L078</td>\n      <td>...</td>\n      <td>NaN</td>\n      <td>501 017</td>\n      <td>50101.0</td>\n      <td>NaN</td>\n      <td>0.0</td>\n      <td>NaN</td>\n      <td>1</td>\n      <td>NaN</td>\n      <td>NaN</td>\n      <td>18V1</td>\n    </tr>\n    <tr>\n      <th>2</th>\n      <td>SI</td>\n      <td>1</td>\n      <td>18</td>\n      <td>501</td>\n      <td>3.0</td>\n      <td>NaN</td>\n      <td>31.0</td>\n      <td>49.0</td>\n      <td>10301.0</td>\n      <td>L078</td>\n      <td>...</td>\n      <td>NaN</td>\n      <td>501 017</td>\n      <td>50101.0</td>\n      <td>NaN</td>\n      <td>0.0</td>\n      <td>NaN</td>\n      <td>1</td>\n      <td>NaN</td>\n      <td>NaN</td>\n      <td>18V1</td>\n    </tr>\n    <tr>\n      <th>3</th>\n      <td>SI</td>\n      <td>1</td>\n      <td>19</td>\n      <td>501</td>\n      <td>3.0</td>\n      <td>NaN</td>\n      <td>31.0</td>\n      <td>49.0</td>\n      <td>10301.0</td>\n      <td>L078</td>\n      <td>...</td>\n      <td>NaN</td>\n      <td>501 017</td>\n      <td>50101.0</td>\n      <td>NaN</td>\n      <td>0.0</td>\n      <td>NaN</td>\n      <td>1</td>\n      <td>NaN</td>\n      <td>NaN</td>\n      <td>18V1</td>\n    </tr>\n    <tr>\n      <th>4</th>\n      <td>SI</td>\n      <td>1</td>\n      <td>21</td>\n      <td>501</td>\n      <td>3.0</td>\n      <td>NaN</td>\n      <td>31.0</td>\n      <td>49.0</td>\n      <td>10301.0</td>\n      <td>L078</td>\n      <td>...</td>\n      <td>NaN</td>\n      <td>501 017</td>\n      <td>50101.0</td>\n      <td>NaN</td>\n      <td>0.0</td>\n      <td>NaN</td>\n      <td>1</td>\n      <td>NaN</td>\n      <td>NaN</td>\n      <td>18V1</td>\n    </tr>\n  </tbody>\n</table>\n<p>5 rows \u00d7 87 columns</p>\n</div>",
                        "text/plain": "  Borough  Block  Lot   CD  CT2010  CB2010  SchoolDist  Council  ZipCode  \\\n0      SI      1   10  501     3.0  2000.0        31.0     49.0  10301.0   \n1      SI      1   17  501     3.0     NaN        31.0     49.0  10301.0   \n2      SI      1   18  501     3.0     NaN        31.0     49.0  10301.0   \n3      SI      1   19  501     3.0     NaN        31.0     49.0  10301.0   \n4      SI      1   21  501     3.0     NaN        31.0     49.0  10301.0   \n\n  FireComp  ...  ZMCode  Sanborn   TaxMap  EDesigNum  APPBBL APPDate  \\\n0     L078  ...     NaN  501 017  50101.0        NaN     0.0     NaN   \n1     L078  ...     NaN  501 017  50101.0        NaN     0.0     NaN   \n2     L078  ...     NaN  501 017  50101.0        NaN     0.0     NaN   \n3     L078  ...     NaN  501 017  50101.0        NaN     0.0     NaN   \n4     L078  ...     NaN  501 017  50101.0        NaN     0.0     NaN   \n\n  PLUTOMapID FIRM07_FLAG PFIRM15_FLAG Version  \n0          1         NaN          NaN    18V1  \n1          1         NaN          NaN    18V1  \n2          1         NaN          NaN    18V1  \n3          1         NaN          NaN    18V1  \n4          1         NaN          NaN    18V1  \n\n[5 rows x 87 columns]"
                    },
                    "execution_count": 8,
                    "metadata": {},
                    "output_type": "execute_result"
                }
            ],
            "source": "# Download NYC PLUTO file Staten Island\n\nclient_cred.download_file(Bucket=bucket, Key='df_data_8_raw_cos.pkl', Filename='./df1.pkl')\ndf_SI = pd.read_pickle('./df1.pkl')\ndf_SI.head()"
        },
        {
            "cell_type": "markdown",
            "metadata": {},
            "source": "# Quiz on Data Ingestion"
        },
        {
            "cell_type": "code",
            "execution_count": 9,
            "metadata": {},
            "outputs": [
                {
                    "data": {
                        "text/html": "<div>\n<style scoped>\n    .dataframe tbody tr th:only-of-type {\n        vertical-align: middle;\n    }\n\n    .dataframe tbody tr th {\n        vertical-align: top;\n    }\n\n    .dataframe thead th {\n        text-align: right;\n    }\n</style>\n<table border=\"1\" class=\"dataframe\">\n  <thead>\n    <tr style=\"text-align: right;\">\n      <th></th>\n      <th>created_date</th>\n      <th>unique_key</th>\n      <th>complaint_type</th>\n      <th>incident_zip</th>\n      <th>incident_address</th>\n      <th>street_name</th>\n      <th>address_type</th>\n      <th>city</th>\n      <th>resolution_description</th>\n      <th>borough</th>\n      <th>latitude</th>\n      <th>longitude</th>\n      <th>closed_date</th>\n      <th>location_type</th>\n      <th>status</th>\n    </tr>\n  </thead>\n  <tbody>\n    <tr>\n      <th>382008</th>\n      <td>2010-01-01T00:00:00.000</td>\n      <td>15636275</td>\n      <td>PLUMBING</td>\n      <td>10453.0</td>\n      <td>54 EAST 179 STREET</td>\n      <td>EAST 179 STREET</td>\n      <td>ADDRESS</td>\n      <td>BRONX</td>\n      <td>The Department of Housing Preservation and Dev...</td>\n      <td>Unspecified</td>\n      <td>40.852125</td>\n      <td>-73.907442</td>\n      <td>2010-03-01T00:00:00.000</td>\n      <td>RESIDENTIAL BUILDING</td>\n      <td>Closed</td>\n    </tr>\n    <tr>\n      <th>381278</th>\n      <td>2010-01-01T00:00:00.000</td>\n      <td>15635168</td>\n      <td>HEATING</td>\n      <td>10453.0</td>\n      <td>1740 GRAND AVENUE</td>\n      <td>GRAND AVENUE</td>\n      <td>ADDRESS</td>\n      <td>BRONX</td>\n      <td>More than one complaint was received for this ...</td>\n      <td>Unspecified</td>\n      <td>40.849225</td>\n      <td>-73.913511</td>\n      <td>2010-01-03T00:00:00.000</td>\n      <td>RESIDENTIAL BUILDING</td>\n      <td>Closed</td>\n    </tr>\n    <tr>\n      <th>381279</th>\n      <td>2010-01-01T00:00:00.000</td>\n      <td>15635169</td>\n      <td>HEATING</td>\n      <td>10039.0</td>\n      <td>2866 FREDERICK DOUGLASS BOULEVARD</td>\n      <td>FREDERICK DOUGLASS BOULEVARD</td>\n      <td>ADDRESS</td>\n      <td>NEW YORK</td>\n      <td>The Department of Housing Preservation and Dev...</td>\n      <td>Unspecified</td>\n      <td>40.827575</td>\n      <td>-73.938443</td>\n      <td>2010-01-05T00:00:00.000</td>\n      <td>RESIDENTIAL BUILDING</td>\n      <td>Closed</td>\n    </tr>\n    <tr>\n      <th>381280</th>\n      <td>2010-01-01T00:00:00.000</td>\n      <td>15635170</td>\n      <td>HEATING</td>\n      <td>10467.0</td>\n      <td>3764 BRONX BOULEVARD</td>\n      <td>BRONX BOULEVARD</td>\n      <td>ADDRESS</td>\n      <td>BRONX</td>\n      <td>More than one complaint was received for this ...</td>\n      <td>Unspecified</td>\n      <td>40.883980</td>\n      <td>-73.866196</td>\n      <td>2010-01-02T00:00:00.000</td>\n      <td>RESIDENTIAL BUILDING</td>\n      <td>Closed</td>\n    </tr>\n    <tr>\n      <th>381281</th>\n      <td>2010-01-01T00:00:00.000</td>\n      <td>15635171</td>\n      <td>HEATING</td>\n      <td>10034.0</td>\n      <td>510 WEST 218 STREET</td>\n      <td>WEST 218 STREET</td>\n      <td>ADDRESS</td>\n      <td>NEW YORK</td>\n      <td>More than one complaint was received for this ...</td>\n      <td>Unspecified</td>\n      <td>40.871461</td>\n      <td>-73.914744</td>\n      <td>2010-01-05T00:00:00.000</td>\n      <td>RESIDENTIAL BUILDING</td>\n      <td>Closed</td>\n    </tr>\n  </tbody>\n</table>\n</div>",
                        "text/plain": "                   created_date  unique_key complaint_type  incident_zip  \\\n382008  2010-01-01T00:00:00.000    15636275       PLUMBING       10453.0   \n381278  2010-01-01T00:00:00.000    15635168        HEATING       10453.0   \n381279  2010-01-01T00:00:00.000    15635169        HEATING       10039.0   \n381280  2010-01-01T00:00:00.000    15635170        HEATING       10467.0   \n381281  2010-01-01T00:00:00.000    15635171        HEATING       10034.0   \n\n                         incident_address                   street_name  \\\n382008                 54 EAST 179 STREET               EAST 179 STREET   \n381278                  1740 GRAND AVENUE                  GRAND AVENUE   \n381279  2866 FREDERICK DOUGLASS BOULEVARD  FREDERICK DOUGLASS BOULEVARD   \n381280               3764 BRONX BOULEVARD               BRONX BOULEVARD   \n381281                510 WEST 218 STREET               WEST 218 STREET   \n\n       address_type      city  \\\n382008      ADDRESS     BRONX   \n381278      ADDRESS     BRONX   \n381279      ADDRESS  NEW YORK   \n381280      ADDRESS     BRONX   \n381281      ADDRESS  NEW YORK   \n\n                                   resolution_description      borough  \\\n382008  The Department of Housing Preservation and Dev...  Unspecified   \n381278  More than one complaint was received for this ...  Unspecified   \n381279  The Department of Housing Preservation and Dev...  Unspecified   \n381280  More than one complaint was received for this ...  Unspecified   \n381281  More than one complaint was received for this ...  Unspecified   \n\n         latitude  longitude              closed_date         location_type  \\\n382008  40.852125 -73.907442  2010-03-01T00:00:00.000  RESIDENTIAL BUILDING   \n381278  40.849225 -73.913511  2010-01-03T00:00:00.000  RESIDENTIAL BUILDING   \n381279  40.827575 -73.938443  2010-01-05T00:00:00.000  RESIDENTIAL BUILDING   \n381280  40.883980 -73.866196  2010-01-02T00:00:00.000  RESIDENTIAL BUILDING   \n381281  40.871461 -73.914744  2010-01-05T00:00:00.000  RESIDENTIAL BUILDING   \n\n        status  \n382008  Closed  \n381278  Closed  \n381279  Closed  \n381280  Closed  \n381281  Closed  "
                    },
                    "execution_count": 9,
                    "metadata": {},
                    "output_type": "execute_result"
                }
            ],
            "source": "# Question 1: The dataset contains complaints logged since what date?\ndf = df.sort_values(\"created_date\", ascending=True)\ndf.head()"
        },
        {
            "cell_type": "code",
            "execution_count": 10,
            "metadata": {},
            "outputs": [
                {
                    "data": {
                        "text/html": "<div>\n<style scoped>\n    .dataframe tbody tr th:only-of-type {\n        vertical-align: middle;\n    }\n\n    .dataframe tbody tr th {\n        vertical-align: top;\n    }\n\n    .dataframe thead th {\n        text-align: right;\n    }\n</style>\n<table border=\"1\" class=\"dataframe\">\n  <thead>\n    <tr style=\"text-align: right;\">\n      <th></th>\n      <th>created_date</th>\n      <th>unique_key</th>\n      <th>complaint_type</th>\n      <th>incident_zip</th>\n      <th>incident_address</th>\n      <th>street_name</th>\n      <th>address_type</th>\n      <th>city</th>\n      <th>resolution_description</th>\n      <th>borough</th>\n      <th>latitude</th>\n      <th>longitude</th>\n      <th>closed_date</th>\n      <th>location_type</th>\n      <th>status</th>\n    </tr>\n  </thead>\n  <tbody>\n    <tr>\n      <th>1154</th>\n      <td>2020-07-02T23:58:10.000</td>\n      <td>46719688</td>\n      <td>WATER LEAK</td>\n      <td>10462.0</td>\n      <td>1450 PARKCHESTER ROAD</td>\n      <td>PARKCHESTER ROAD</td>\n      <td>ADDRESS</td>\n      <td>BRONX</td>\n      <td>The following complaint conditions are still o...</td>\n      <td>BRONX</td>\n      <td>40.836319</td>\n      <td>-73.859548</td>\n      <td>NaN</td>\n      <td>RESIDENTIAL BUILDING</td>\n      <td>Open</td>\n    </tr>\n    <tr>\n      <th>354</th>\n      <td>2020-07-02T23:58:10.000</td>\n      <td>46715041</td>\n      <td>PAINT/PLASTER</td>\n      <td>10462.0</td>\n      <td>1450 PARKCHESTER ROAD</td>\n      <td>PARKCHESTER ROAD</td>\n      <td>ADDRESS</td>\n      <td>BRONX</td>\n      <td>The following complaint conditions are still o...</td>\n      <td>BRONX</td>\n      <td>40.836319</td>\n      <td>-73.859548</td>\n      <td>NaN</td>\n      <td>RESIDENTIAL BUILDING</td>\n      <td>Open</td>\n    </tr>\n    <tr>\n      <th>321</th>\n      <td>2020-07-02T23:58:10.000</td>\n      <td>46715800</td>\n      <td>WATER LEAK</td>\n      <td>10462.0</td>\n      <td>1450 PARKCHESTER ROAD</td>\n      <td>PARKCHESTER ROAD</td>\n      <td>ADDRESS</td>\n      <td>BRONX</td>\n      <td>The following complaint conditions are still o...</td>\n      <td>BRONX</td>\n      <td>40.836319</td>\n      <td>-73.859548</td>\n      <td>NaN</td>\n      <td>RESIDENTIAL BUILDING</td>\n      <td>Open</td>\n    </tr>\n    <tr>\n      <th>876</th>\n      <td>2020-07-02T23:58:10.000</td>\n      <td>46716681</td>\n      <td>UNSANITARY CONDITION</td>\n      <td>10462.0</td>\n      <td>1450 PARKCHESTER ROAD</td>\n      <td>PARKCHESTER ROAD</td>\n      <td>ADDRESS</td>\n      <td>BRONX</td>\n      <td>The following complaint conditions are still o...</td>\n      <td>BRONX</td>\n      <td>40.836319</td>\n      <td>-73.859548</td>\n      <td>NaN</td>\n      <td>RESIDENTIAL BUILDING</td>\n      <td>Open</td>\n    </tr>\n    <tr>\n      <th>776</th>\n      <td>2020-07-02T23:51:38.000</td>\n      <td>46718294</td>\n      <td>PAINT/PLASTER</td>\n      <td>10473.0</td>\n      <td>2045 STORY AVENUE</td>\n      <td>STORY AVENUE</td>\n      <td>ADDRESS</td>\n      <td>BRONX</td>\n      <td>The following complaint conditions are still o...</td>\n      <td>BRONX</td>\n      <td>40.824831</td>\n      <td>-73.854232</td>\n      <td>NaN</td>\n      <td>RESIDENTIAL BUILDING</td>\n      <td>Open</td>\n    </tr>\n  </tbody>\n</table>\n</div>",
                        "text/plain": "                 created_date  unique_key        complaint_type  incident_zip  \\\n1154  2020-07-02T23:58:10.000    46719688            WATER LEAK       10462.0   \n354   2020-07-02T23:58:10.000    46715041         PAINT/PLASTER       10462.0   \n321   2020-07-02T23:58:10.000    46715800            WATER LEAK       10462.0   \n876   2020-07-02T23:58:10.000    46716681  UNSANITARY CONDITION       10462.0   \n776   2020-07-02T23:51:38.000    46718294         PAINT/PLASTER       10473.0   \n\n           incident_address       street_name address_type   city  \\\n1154  1450 PARKCHESTER ROAD  PARKCHESTER ROAD      ADDRESS  BRONX   \n354   1450 PARKCHESTER ROAD  PARKCHESTER ROAD      ADDRESS  BRONX   \n321   1450 PARKCHESTER ROAD  PARKCHESTER ROAD      ADDRESS  BRONX   \n876   1450 PARKCHESTER ROAD  PARKCHESTER ROAD      ADDRESS  BRONX   \n776       2045 STORY AVENUE      STORY AVENUE      ADDRESS  BRONX   \n\n                                 resolution_description borough   latitude  \\\n1154  The following complaint conditions are still o...   BRONX  40.836319   \n354   The following complaint conditions are still o...   BRONX  40.836319   \n321   The following complaint conditions are still o...   BRONX  40.836319   \n876   The following complaint conditions are still o...   BRONX  40.836319   \n776   The following complaint conditions are still o...   BRONX  40.824831   \n\n      longitude closed_date         location_type status  \n1154 -73.859548         NaN  RESIDENTIAL BUILDING   Open  \n354  -73.859548         NaN  RESIDENTIAL BUILDING   Open  \n321  -73.859548         NaN  RESIDENTIAL BUILDING   Open  \n876  -73.859548         NaN  RESIDENTIAL BUILDING   Open  \n776  -73.854232         NaN  RESIDENTIAL BUILDING   Open  "
                    },
                    "execution_count": 10,
                    "metadata": {},
                    "output_type": "execute_result"
                }
            ],
            "source": "# Question 2: The dataset contains complaints logged till what date?\ndf = df.sort_values(\"created_date\", ascending=False)\ndf.head()"
        },
        {
            "cell_type": "code",
            "execution_count": 11,
            "metadata": {},
            "outputs": [
                {
                    "data": {
                        "text/plain": "(52831, 15)"
                    },
                    "execution_count": 11,
                    "metadata": {},
                    "output_type": "execute_result"
                }
            ],
            "source": "# Question 3: How many incidents have a missing Incident Address?\ndf[df[\"incident_address\"].isnull()].shape #Check number of rows without address"
        },
        {
            "cell_type": "code",
            "execution_count": 12,
            "metadata": {},
            "outputs": [
                {
                    "data": {
                        "text/plain": "26"
                    },
                    "execution_count": 12,
                    "metadata": {},
                    "output_type": "execute_result"
                }
            ],
            "source": "# Question 4: How many valid ZIP Codes exist in the Bronx PLUTO dataset?\nimport numpy as np\ndf_BX_validzips = df_BX[df_BX[\"ZipCode\"].notnull()]\nlen(np.unique(df_BX_validzips[\"ZipCode\"]))"
        },
        {
            "cell_type": "code",
            "execution_count": 13,
            "metadata": {},
            "outputs": [
                {
                    "data": {
                        "text/plain": "65"
                    },
                    "execution_count": 13,
                    "metadata": {},
                    "output_type": "execute_result"
                }
            ],
            "source": "# Question 5: How many valid ZIP Codes exist in the Queens PLUTO dataset?\ndf_QN_validzips = df_QN[df_QN[\"ZipCode\"].notnull()]\nlen(np.unique(df_QN_validzips[\"ZipCode\"]))"
        },
        {
            "cell_type": "markdown",
            "metadata": {},
            "source": "# Question 1: What is the Top Complaint Type?"
        },
        {
            "cell_type": "code",
            "execution_count": 14,
            "metadata": {},
            "outputs": [
                {
                    "name": "stdout",
                    "output_type": "stream",
                    "text": "(6149696, 15)\nIndex(['created_date', 'unique_key', 'complaint_type', 'incident_zip',\n       'incident_address', 'street_name', 'address_type', 'city',\n       'resolution_description', 'borough', 'latitude', 'longitude',\n       'closed_date', 'location_type', 'status'],\n      dtype='object')\n"
                },
                {
                    "data": {
                        "text/html": "<div>\n<style scoped>\n    .dataframe tbody tr th:only-of-type {\n        vertical-align: middle;\n    }\n\n    .dataframe tbody tr th {\n        vertical-align: top;\n    }\n\n    .dataframe thead th {\n        text-align: right;\n    }\n</style>\n<table border=\"1\" class=\"dataframe\">\n  <thead>\n    <tr style=\"text-align: right;\">\n      <th></th>\n      <th>1154</th>\n    </tr>\n  </thead>\n  <tbody>\n    <tr>\n      <th>created_date</th>\n      <td>2020-07-02T23:58:10.000</td>\n    </tr>\n    <tr>\n      <th>unique_key</th>\n      <td>46719688</td>\n    </tr>\n    <tr>\n      <th>complaint_type</th>\n      <td>WATER LEAK</td>\n    </tr>\n    <tr>\n      <th>incident_zip</th>\n      <td>10462</td>\n    </tr>\n    <tr>\n      <th>incident_address</th>\n      <td>1450 PARKCHESTER ROAD</td>\n    </tr>\n    <tr>\n      <th>street_name</th>\n      <td>PARKCHESTER ROAD</td>\n    </tr>\n    <tr>\n      <th>address_type</th>\n      <td>ADDRESS</td>\n    </tr>\n    <tr>\n      <th>city</th>\n      <td>BRONX</td>\n    </tr>\n    <tr>\n      <th>resolution_description</th>\n      <td>The following complaint conditions are still o...</td>\n    </tr>\n    <tr>\n      <th>borough</th>\n      <td>BRONX</td>\n    </tr>\n    <tr>\n      <th>latitude</th>\n      <td>40.8363</td>\n    </tr>\n    <tr>\n      <th>longitude</th>\n      <td>-73.8595</td>\n    </tr>\n    <tr>\n      <th>closed_date</th>\n      <td>NaN</td>\n    </tr>\n    <tr>\n      <th>location_type</th>\n      <td>RESIDENTIAL BUILDING</td>\n    </tr>\n    <tr>\n      <th>status</th>\n      <td>Open</td>\n    </tr>\n  </tbody>\n</table>\n</div>",
                        "text/plain": "                                                                     1154\ncreated_date                                      2020-07-02T23:58:10.000\nunique_key                                                       46719688\ncomplaint_type                                                 WATER LEAK\nincident_zip                                                        10462\nincident_address                                    1450 PARKCHESTER ROAD\nstreet_name                                              PARKCHESTER ROAD\naddress_type                                                      ADDRESS\ncity                                                                BRONX\nresolution_description  The following complaint conditions are still o...\nborough                                                             BRONX\nlatitude                                                          40.8363\nlongitude                                                        -73.8595\nclosed_date                                                           NaN\nlocation_type                                        RESIDENTIAL BUILDING\nstatus                                                               Open"
                    },
                    "execution_count": 14,
                    "metadata": {},
                    "output_type": "execute_result"
                }
            ],
            "source": "# To see the fields in df\nprint(df.shape)\nprint(df.columns)\ndf[0:1].transpose()"
        },
        {
            "cell_type": "code",
            "execution_count": 15,
            "metadata": {},
            "outputs": [
                {
                    "name": "stdout",
                    "output_type": "stream",
                    "text": "(324583, 87)\nIndex(['Borough', 'Block', 'Lot', 'CD', 'CT2010', 'CB2010', 'SchoolDist',\n       'Council', 'ZipCode', 'FireComp', 'PolicePrct', 'HealthCenterDistrict',\n       'HealthArea', 'SanitBoro', 'SanitDistrict', 'SanitSub', 'Address',\n       'ZoneDist1', 'ZoneDist2', 'ZoneDist3', 'ZoneDist4', 'Overlay1',\n       'Overlay2', 'SPDist1', 'SPDist2', 'SPDist3', 'LtdHeight', 'SplitZone',\n       'BldgClass', 'LandUse', 'Easements', 'OwnerType', 'OwnerName',\n       'LotArea', 'BldgArea', 'ComArea', 'ResArea', 'OfficeArea', 'RetailArea',\n       'GarageArea', 'StrgeArea', 'FactryArea', 'OtherArea', 'AreaSource',\n       'NumBldgs', 'NumFloors', 'UnitsRes', 'UnitsTotal', 'LotFront',\n       'LotDepth', 'BldgFront', 'BldgDepth', 'Ext', 'ProxCode', 'IrrLotCode',\n       'LotType', 'BsmtCode', 'AssessLand', 'AssessTot', 'ExemptLand',\n       'ExemptTot', 'YearBuilt', 'YearAlter1', 'YearAlter2', 'HistDist',\n       'Landmark', 'BuiltFAR', 'ResidFAR', 'CommFAR', 'FacilFAR', 'BoroCode',\n       'BBL', 'CondoNo', 'Tract2010', 'XCoord', 'YCoord', 'ZoneMap', 'ZMCode',\n       'Sanborn', 'TaxMap', 'EDesigNum', 'APPBBL', 'APPDate', 'PLUTOMapID',\n       'FIRM07_FLAG', 'PFIRM15_FLAG', 'Version'],\n      dtype='object')\n"
                }
            ],
            "source": "# To see the fields in borough data\nprint(df_QN.shape)\nprint(df_QN.columns)\n#df_QN[0:1].transpose()"
        },
        {
            "cell_type": "code",
            "execution_count": 16,
            "metadata": {},
            "outputs": [
                {
                    "name": "stdout",
                    "output_type": "stream",
                    "text": "created_date               object\nunique_key                  int64\ncomplaint_type             object\nincident_zip              float64\nincident_address           object\nstreet_name                object\naddress_type               object\ncity                       object\nresolution_description     object\nborough                    object\nlatitude                  float64\nlongitude                 float64\nclosed_date                object\nlocation_type              object\nstatus                     object\ndtype: object\n"
                }
            ],
            "source": "print(df.dtypes)"
        },
        {
            "cell_type": "code",
            "execution_count": 17,
            "metadata": {},
            "outputs": [
                {
                    "data": {
                        "text/html": "<div>\n<style scoped>\n    .dataframe tbody tr th:only-of-type {\n        vertical-align: middle;\n    }\n\n    .dataframe tbody tr th {\n        vertical-align: top;\n    }\n\n    .dataframe thead th {\n        text-align: right;\n    }\n</style>\n<table border=\"1\" class=\"dataframe\">\n  <thead>\n    <tr style=\"text-align: right;\">\n      <th></th>\n      <th>created_date</th>\n      <th>complaint_type</th>\n      <th>incident_address</th>\n      <th>street_name</th>\n      <th>address_type</th>\n      <th>city</th>\n      <th>resolution_description</th>\n      <th>borough</th>\n      <th>closed_date</th>\n      <th>location_type</th>\n      <th>status</th>\n    </tr>\n  </thead>\n  <tbody>\n    <tr>\n      <th>count</th>\n      <td>6149696</td>\n      <td>6149696</td>\n      <td>6096865</td>\n      <td>6096865</td>\n      <td>6064944</td>\n      <td>6069403</td>\n      <td>6141861</td>\n      <td>6149696</td>\n      <td>6016684</td>\n      <td>6096866</td>\n      <td>6149696</td>\n    </tr>\n    <tr>\n      <th>unique</th>\n      <td>1772055</td>\n      <td>30</td>\n      <td>185193</td>\n      <td>6864</td>\n      <td>1</td>\n      <td>89</td>\n      <td>340</td>\n      <td>6</td>\n      <td>805701</td>\n      <td>5</td>\n      <td>5</td>\n    </tr>\n    <tr>\n      <th>top</th>\n      <td>2013-01-24T00:00:00.000</td>\n      <td>HEAT/HOT WATER</td>\n      <td>34 ARDEN STREET</td>\n      <td>GRAND CONCOURSE</td>\n      <td>ADDRESS</td>\n      <td>BROOKLYN</td>\n      <td>The Department of Housing Preservation and Dev...</td>\n      <td>BROOKLYN</td>\n      <td>2012-11-07T00:00:00.000</td>\n      <td>RESIDENTIAL BUILDING</td>\n      <td>Closed</td>\n    </tr>\n    <tr>\n      <th>freq</th>\n      <td>7581</td>\n      <td>1317699</td>\n      <td>14405</td>\n      <td>94464</td>\n      <td>6064944</td>\n      <td>2064552</td>\n      <td>1731628</td>\n      <td>1777860</td>\n      <td>7296</td>\n      <td>6089757</td>\n      <td>6009756</td>\n    </tr>\n  </tbody>\n</table>\n</div>",
                        "text/plain": "                   created_date  complaint_type incident_address  \\\ncount                   6149696         6149696          6096865   \nunique                  1772055              30           185193   \ntop     2013-01-24T00:00:00.000  HEAT/HOT WATER  34 ARDEN STREET   \nfreq                       7581         1317699            14405   \n\n            street_name address_type      city  \\\ncount           6096865      6064944   6069403   \nunique             6864            1        89   \ntop     GRAND CONCOURSE      ADDRESS  BROOKLYN   \nfreq              94464      6064944   2064552   \n\n                                   resolution_description   borough  \\\ncount                                             6141861   6149696   \nunique                                                340         6   \ntop     The Department of Housing Preservation and Dev...  BROOKLYN   \nfreq                                              1731628   1777860   \n\n                    closed_date         location_type   status  \ncount                   6016684               6096866  6149696  \nunique                   805701                     5        5  \ntop     2012-11-07T00:00:00.000  RESIDENTIAL BUILDING   Closed  \nfreq                       7296               6089757  6009756  "
                    },
                    "execution_count": 17,
                    "metadata": {},
                    "output_type": "execute_result"
                }
            ],
            "source": "# Some Descriptive statistical analysis\ndf.describe(include=['object'])"
        },
        {
            "cell_type": "code",
            "execution_count": 18,
            "metadata": {},
            "outputs": [
                {
                    "data": {
                        "text/plain": "HEAT/HOT WATER          1317699\nHEATING                  887869\nPLUMBING                 722922\nGENERAL CONSTRUCTION     500863\nUNSANITARY CONDITION     469981\nPAINT - PLASTER          361257\nPAINT/PLASTER            355338\nELECTRIC                 312457\nNONCONST                 260890\nDOOR/WINDOW              212310\nName: complaint_type, dtype: int64"
                    },
                    "execution_count": 18,
                    "metadata": {},
                    "output_type": "execute_result"
                }
            ],
            "source": "# Heat/Hot water and Heating seem to be the most frequent complaint types, they might even be related one to another.\ndf[\"complaint_type\"].value_counts().head(10)"
        },
        {
            "cell_type": "code",
            "execution_count": 19,
            "metadata": {},
            "outputs": [
                {
                    "data": {
                        "text/plain": "complaint_type\nHEAT/HOT WATER          21.427059\nHEATING                 14.437608\nPLUMBING                11.755410\nGENERAL CONSTRUCTION     8.144516\nUNSANITARY CONDITION     7.642345\nName: unique_key, dtype: float64"
                    },
                    "execution_count": 19,
                    "metadata": {},
                    "output_type": "execute_result"
                }
            ],
            "source": "# Percentual incidence for top 5 complaint types\ntype_group = df.groupby(\"complaint_type\")[\"unique_key\"].count()/len(df) * 100\ntype_group.sort_values(ascending=False).head()"
        },
        {
            "cell_type": "markdown",
            "metadata": {},
            "source": "Conclusion: HEAT/HOT WATER is the top complaint type, with 1,317,699 cases, accounting for 21,4% of total complaints from years 2010 to 2020."
        },
        {
            "cell_type": "markdown",
            "metadata": {},
            "source": "# Quiz on complaint types"
        },
        {
            "cell_type": "code",
            "execution_count": 20,
            "metadata": {},
            "outputs": [
                {
                    "data": {
                        "text/plain": "6149696"
                    },
                    "execution_count": 20,
                    "metadata": {},
                    "output_type": "execute_result"
                }
            ],
            "source": "# Question 1: What is the total number of complaints that exist in the dataset?\nlen(df)"
        },
        {
            "cell_type": "code",
            "execution_count": 21,
            "metadata": {},
            "outputs": [],
            "source": "df1 = df[df[\"created_date\"] < \"2020-02-02\"]"
        },
        {
            "cell_type": "code",
            "execution_count": 22,
            "metadata": {},
            "outputs": [
                {
                    "data": {
                        "text/plain": "6019524"
                    },
                    "execution_count": 22,
                    "metadata": {},
                    "output_type": "execute_result"
                }
            ],
            "source": "len(df1)"
        },
        {
            "cell_type": "code",
            "execution_count": 23,
            "metadata": {},
            "outputs": [
                {
                    "data": {
                        "text/plain": "30"
                    },
                    "execution_count": 23,
                    "metadata": {},
                    "output_type": "execute_result"
                }
            ],
            "source": "# Question 2: How many differnt Complaint Types can you find in the dataset, including duplicates entries of the same type?\nlen(np.unique(df[\"complaint_type\"]))"
        },
        {
            "cell_type": "code",
            "execution_count": 26,
            "metadata": {},
            "outputs": [
                {
                    "data": {
                        "text/plain": "6726"
                    },
                    "execution_count": 26,
                    "metadata": {},
                    "output_type": "execute_result"
                }
            ],
            "source": "# Question 3: How many Elevator complaints can you find in the dataset?\ndf1[df1[\"complaint_type\"] ==\"ELEVATOR\"][\"complaint_type\"].count()"
        },
        {
            "cell_type": "code",
            "execution_count": 27,
            "metadata": {},
            "outputs": [
                {
                    "data": {
                        "text/plain": "307318"
                    },
                    "execution_count": 27,
                    "metadata": {},
                    "output_type": "execute_result"
                }
            ],
            "source": "# Question 4: How many Electric complaints can you find in the dataset?\ndf1[df1[\"complaint_type\"] ==\"ELECTRIC\"][\"complaint_type\"].count()"
        },
        {
            "cell_type": "code",
            "execution_count": 43,
            "metadata": {
                "scrolled": true
            },
            "outputs": [
                {
                    "data": {
                        "text/html": "<div>\n<style scoped>\n    .dataframe tbody tr th:only-of-type {\n        vertical-align: middle;\n    }\n\n    .dataframe tbody tr th {\n        vertical-align: top;\n    }\n\n    .dataframe thead th {\n        text-align: right;\n    }\n</style>\n<table border=\"1\" class=\"dataframe\">\n  <thead>\n    <tr style=\"text-align: right;\">\n      <th></th>\n      <th>#complaints</th>\n    </tr>\n  </thead>\n  <tbody>\n    <tr>\n      <th>HEAT/HOT WATER</th>\n      <td>1317699</td>\n    </tr>\n    <tr>\n      <th>HEATING</th>\n      <td>887869</td>\n    </tr>\n  </tbody>\n</table>\n</div>",
                        "text/plain": "                #complaints\nHEAT/HOT WATER      1317699\nHEATING              887869"
                    },
                    "execution_count": 43,
                    "metadata": {},
                    "output_type": "execute_result"
                }
            ],
            "source": "# Question 5: Using 800,000 as a threshold, what complaint type(s) \n#do you recommend the Department of Housing Preservation and Development of New York City address first? Select all that apply.\n#df[\"complaint_type\"].count()\ndf_group = pd.DataFrame(df[\"complaint_type\"].value_counts())\ndf_group.columns = [\"#complaints\"]\ndf_group[df_group[\"#complaints\"] >= 800000]"
        }
    ],
    "metadata": {
        "kernelspec": {
            "display_name": "Python 3.6",
            "language": "python",
            "name": "python3"
        },
        "language_info": {
            "codemirror_mode": {
                "name": "ipython",
                "version": 3
            },
            "file_extension": ".py",
            "mimetype": "text/x-python",
            "name": "python",
            "nbconvert_exporter": "python",
            "pygments_lexer": "ipython3",
            "version": "3.6.9"
        }
    },
    "nbformat": 4,
    "nbformat_minor": 1
}